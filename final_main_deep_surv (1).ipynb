{
  "nbformat": 4,
  "nbformat_minor": 0,
  "metadata": {
    "colab": {
      "provenance": []
    },
    "kernelspec": {
      "name": "python3",
      "display_name": "Python 3"
    },
    "language_info": {
      "name": "python"
    }
  },
  "cells": [
    {
      "cell_type": "markdown",
      "source": [
        "# Import modules (google colab syntax !)"
      ],
      "metadata": {
        "id": "ICXoAKDr1Pqz"
      }
    },
    {
      "cell_type": "code",
      "source": [
        "!pip install lifelines\n",
        "!pip install sklearn\n",
        "import numpy as np\n",
        "import pandas as pd\n",
        "import tensorflow as tf\n",
        "from tensorflow.keras import layers, models\n",
        "from tensorflow.keras.regularizers import l1_l2\n",
        "from sklearn.preprocessing import StandardScaler\n",
        "from sklearn.metrics import accuracy_score, roc_auc_score\n",
        "from google.colab import drive\n",
        "# Mount Google Drive\n",
        "drive.mount('/content/drive')"
      ],
      "metadata": {
        "colab": {
          "base_uri": "https://localhost:8080/"
        },
        "id": "VxYoG82zmyAJ",
        "outputId": "0750397f-c990-4a27-fb14-ee0505276696",
        "collapsed": true
      },
      "execution_count": 1,
      "outputs": [
        {
          "output_type": "stream",
          "name": "stdout",
          "text": [
            "Collecting lifelines\n",
            "  Downloading lifelines-0.30.0-py3-none-any.whl.metadata (3.2 kB)\n",
            "Requirement already satisfied: numpy>=1.14.0 in /usr/local/lib/python3.10/dist-packages (from lifelines) (1.26.4)\n",
            "Requirement already satisfied: scipy>=1.7.0 in /usr/local/lib/python3.10/dist-packages (from lifelines) (1.13.1)\n",
            "Requirement already satisfied: pandas>=2.1 in /usr/local/lib/python3.10/dist-packages (from lifelines) (2.2.2)\n",
            "Requirement already satisfied: matplotlib>=3.0 in /usr/local/lib/python3.10/dist-packages (from lifelines) (3.8.0)\n",
            "Requirement already satisfied: autograd>=1.5 in /usr/local/lib/python3.10/dist-packages (from lifelines) (1.7.0)\n",
            "Collecting autograd-gamma>=0.3 (from lifelines)\n",
            "  Downloading autograd-gamma-0.5.0.tar.gz (4.0 kB)\n",
            "  Preparing metadata (setup.py) ... \u001b[?25l\u001b[?25hdone\n",
            "Collecting formulaic>=0.2.2 (from lifelines)\n",
            "  Downloading formulaic-1.0.2-py3-none-any.whl.metadata (6.8 kB)\n",
            "Collecting interface-meta>=1.2.0 (from formulaic>=0.2.2->lifelines)\n",
            "  Downloading interface_meta-1.3.0-py3-none-any.whl.metadata (6.7 kB)\n",
            "Requirement already satisfied: typing-extensions>=4.2.0 in /usr/local/lib/python3.10/dist-packages (from formulaic>=0.2.2->lifelines) (4.12.2)\n",
            "Requirement already satisfied: wrapt>=1.0 in /usr/local/lib/python3.10/dist-packages (from formulaic>=0.2.2->lifelines) (1.16.0)\n",
            "Requirement already satisfied: contourpy>=1.0.1 in /usr/local/lib/python3.10/dist-packages (from matplotlib>=3.0->lifelines) (1.3.1)\n",
            "Requirement already satisfied: cycler>=0.10 in /usr/local/lib/python3.10/dist-packages (from matplotlib>=3.0->lifelines) (0.12.1)\n",
            "Requirement already satisfied: fonttools>=4.22.0 in /usr/local/lib/python3.10/dist-packages (from matplotlib>=3.0->lifelines) (4.55.0)\n",
            "Requirement already satisfied: kiwisolver>=1.0.1 in /usr/local/lib/python3.10/dist-packages (from matplotlib>=3.0->lifelines) (1.4.7)\n",
            "Requirement already satisfied: packaging>=20.0 in /usr/local/lib/python3.10/dist-packages (from matplotlib>=3.0->lifelines) (24.2)\n",
            "Requirement already satisfied: pillow>=6.2.0 in /usr/local/lib/python3.10/dist-packages (from matplotlib>=3.0->lifelines) (11.0.0)\n",
            "Requirement already satisfied: pyparsing>=2.3.1 in /usr/local/lib/python3.10/dist-packages (from matplotlib>=3.0->lifelines) (3.2.0)\n",
            "Requirement already satisfied: python-dateutil>=2.7 in /usr/local/lib/python3.10/dist-packages (from matplotlib>=3.0->lifelines) (2.8.2)\n",
            "Requirement already satisfied: pytz>=2020.1 in /usr/local/lib/python3.10/dist-packages (from pandas>=2.1->lifelines) (2024.2)\n",
            "Requirement already satisfied: tzdata>=2022.7 in /usr/local/lib/python3.10/dist-packages (from pandas>=2.1->lifelines) (2024.2)\n",
            "Requirement already satisfied: six>=1.5 in /usr/local/lib/python3.10/dist-packages (from python-dateutil>=2.7->matplotlib>=3.0->lifelines) (1.16.0)\n",
            "Downloading lifelines-0.30.0-py3-none-any.whl (349 kB)\n",
            "\u001b[2K   \u001b[90m━━━━━━━━━━━━━━━━━━━━━━━━━━━━━━━━━━━━━━━━\u001b[0m \u001b[32m349.3/349.3 kB\u001b[0m \u001b[31m5.6 MB/s\u001b[0m eta \u001b[36m0:00:00\u001b[0m\n",
            "\u001b[?25hDownloading formulaic-1.0.2-py3-none-any.whl (94 kB)\n",
            "\u001b[2K   \u001b[90m━━━━━━━━━━━━━━━━━━━━━━━━━━━━━━━━━━━━━━━━\u001b[0m \u001b[32m94.5/94.5 kB\u001b[0m \u001b[31m2.4 MB/s\u001b[0m eta \u001b[36m0:00:00\u001b[0m\n",
            "\u001b[?25hDownloading interface_meta-1.3.0-py3-none-any.whl (14 kB)\n",
            "Building wheels for collected packages: autograd-gamma\n",
            "  Building wheel for autograd-gamma (setup.py) ... \u001b[?25l\u001b[?25hdone\n",
            "  Created wheel for autograd-gamma: filename=autograd_gamma-0.5.0-py3-none-any.whl size=4031 sha256=4a911f36b0e38ad40f1811474ead0f54b50c7103c5a0a688bd2d56784b5f9fb3\n",
            "  Stored in directory: /root/.cache/pip/wheels/25/cc/e0/ef2969164144c899fedb22b338f6703e2b9cf46eeebf254991\n",
            "Successfully built autograd-gamma\n",
            "Installing collected packages: interface-meta, autograd-gamma, formulaic, lifelines\n",
            "Successfully installed autograd-gamma-0.5.0 formulaic-1.0.2 interface-meta-1.3.0 lifelines-0.30.0\n",
            "Collecting sklearn\n",
            "  Downloading sklearn-0.0.post12.tar.gz (2.6 kB)\n",
            "  \u001b[1;31merror\u001b[0m: \u001b[1msubprocess-exited-with-error\u001b[0m\n",
            "  \n",
            "  \u001b[31m×\u001b[0m \u001b[32mpython setup.py egg_info\u001b[0m did not run successfully.\n",
            "  \u001b[31m│\u001b[0m exit code: \u001b[1;36m1\u001b[0m\n",
            "  \u001b[31m╰─>\u001b[0m See above for output.\n",
            "  \n",
            "  \u001b[1;35mnote\u001b[0m: This error originates from a subprocess, and is likely not a problem with pip.\n",
            "  Preparing metadata (setup.py) ... \u001b[?25l\u001b[?25herror\n",
            "\u001b[1;31merror\u001b[0m: \u001b[1mmetadata-generation-failed\u001b[0m\n",
            "\n",
            "\u001b[31m×\u001b[0m Encountered error while generating package metadata.\n",
            "\u001b[31m╰─>\u001b[0m See above for output.\n",
            "\n",
            "\u001b[1;35mnote\u001b[0m: This is an issue with the package mentioned above, not pip.\n",
            "\u001b[1;36mhint\u001b[0m: See above for details.\n",
            "Mounted at /content/drive\n"
          ]
        }
      ]
    },
    {
      "cell_type": "markdown",
      "source": [
        "# Fetch data and define model"
      ],
      "metadata": {
        "id": "xL7OkIwK1Z2C"
      }
    },
    {
      "cell_type": "code",
      "source": [
        "# Load Data\n",
        "train_data_path = '/content/drive/MyDrive/train_data.csv'\n",
        "test_data_path = '/content/drive/MyDrive/test_data.csv'\n",
        "train_data = pd.read_csv(train_data_path)\n",
        "test_data = pd.read_csv(test_data_path)\n",
        "\n",
        "# Preprocessing\n",
        "X_train = train_data.drop(columns=['Label', 'Event'])  # Include all features except target and event\n",
        "y_train = train_data['Label']  # Target column\n",
        "\n",
        "X_test = test_data.drop(columns=['Label', 'Event'])  # Include all features except target and event\n",
        "y_test = test_data['Label']  # Target column\n",
        "\n",
        "# Scale Data\n",
        "scaler = StandardScaler()\n",
        "X_train_scaled = scaler.fit_transform(X_train)\n",
        "X_test_scaled = scaler.transform(X_test)\n",
        "\n",
        "# Define Custom Loss Function: Negative Partial Log Likelihood\n",
        "def cox_ph_loss(event, log_hazard_ratio):\n",
        "    \"\"\"\n",
        "    event: Binary censoring indicator (1 if event occurred, 0 if censored)\n",
        "    log_hazard_ratio: Predicted log hazard ratios\n",
        "    \"\"\"\n",
        "    hazard_ratio = tf.exp(log_hazard_ratio)\n",
        "    log_cumulative_hazard = tf.math.log(tf.cumsum(hazard_ratio, axis=0, reverse=True))\n",
        "    uncensored_likelihood = log_hazard_ratio - log_cumulative_hazard\n",
        "    censored_likelihood = uncensored_likelihood * event\n",
        "    return -tf.reduce_mean(censored_likelihood)\n",
        "\n",
        "# Build the DeepSurv Model with Hyperparameters\n",
        "class DeepSurv(tf.keras.Model):\n",
        "    def __init__(self, input_dim, hidden_layers, learning_rate=1e-3,\n",
        "                 dropout_rate=0.3, l1_reg=0.0, l2_reg=1e-4, batch_norm=False):\n",
        "        \"\"\"\n",
        "        Parameters:\n",
        "        - input_dim: Number of input features\n",
        "        - hidden_layers: List of units in each hidden layer\n",
        "        - learning_rate: Learning rate for training\n",
        "        - dropout_rate: Dropout percentage after each hidden layer\n",
        "        - l1_reg: L1 regularization coefficient\n",
        "        - l2_reg: L2 regularization coefficient\n",
        "        - batch_norm: Boolean, whether to use batch normalization\n",
        "        \"\"\"\n",
        "        super(DeepSurv, self).__init__()\n",
        "        self.hidden_layers = []\n",
        "        for units in hidden_layers:\n",
        "            self.hidden_layers.append(layers.Dense(\n",
        "                units, activation='relu',\n",
        "                kernel_regularizer=l1_l2(l1=l1_reg, l2=l2_reg)\n",
        "            ))\n",
        "            if batch_norm:\n",
        "                self.hidden_layers.append(layers.BatchNormalization())\n",
        "            self.hidden_layers.append(layers.Dropout(dropout_rate))\n",
        "        self.output_layer = layers.Dense(1, activation=None)  # Log hazard ratio\n",
        "        self.optimizer = tf.keras.optimizers.Adam(learning_rate=learning_rate)\n",
        "\n",
        "    def call(self, inputs, training=False):\n",
        "        x = inputs\n",
        "        for layer in self.hidden_layers:\n",
        "            x = layer(x, training=training)\n",
        "        return self.output_layer(x)\n",
        "\n"
      ],
      "metadata": {
        "collapsed": true,
        "id": "F9fpWcf8mhMO"
      },
      "execution_count": 2,
      "outputs": []
    },
    {
      "cell_type": "markdown",
      "source": [
        "# Set hyperparameters and train DeepSurv\n"
      ],
      "metadata": {
        "id": "iy6gu9uk1sAg"
      }
    },
    {
      "cell_type": "code",
      "source": [
        "# Initialize Model with Full Hyperparameter Control\n",
        "# -------------------------------------------------\n",
        "input_dim = X_train_scaled.shape[1]\n",
        "hidden_layers = [128, 64, 32]  # Architecture\n",
        "learning_rate = 1e-3\n",
        "dropout_rate = 0.4\n",
        "l1_reg = 1e-05\n",
        "l2_reg = 0.0001\n",
        "batch_norm = False\n",
        "\n",
        "# Initialize DeepSurv model\n",
        "deep_surv = DeepSurv(input_dim, hidden_layers, learning_rate, dropout_rate, l1_reg, l2_reg, batch_norm)\n",
        "\n",
        "# Compile the model with Cox Proportional Hazards loss\n",
        "deep_surv.compile(optimizer=deep_surv.optimizer, loss=cox_ph_loss)\n",
        "\n",
        "# Train the model on the training data\n",
        "deep_surv.fit(\n",
        "    X_train_scaled,\n",
        "    y_train,\n",
        "    batch_size=32,\n",
        "    epochs=50,\n",
        "    verbose=1\n",
        ")\n"
      ],
      "metadata": {
        "colab": {
          "base_uri": "https://localhost:8080/"
        },
        "collapsed": true,
        "id": "rrRjScfy1oya",
        "outputId": "869af574-bae9-40ed-afd3-f98213ed376b"
      },
      "execution_count": 3,
      "outputs": [
        {
          "output_type": "stream",
          "name": "stdout",
          "text": [
            "Epoch 1/50\n",
            "\u001b[1m15/15\u001b[0m \u001b[32m━━━━━━━━━━━━━━━━━━━━\u001b[0m\u001b[37m\u001b[0m \u001b[1m5s\u001b[0m 14ms/step - loss: 1.4885\n",
            "Epoch 2/50\n",
            "\u001b[1m15/15\u001b[0m \u001b[32m━━━━━━━━━━━━━━━━━━━━\u001b[0m\u001b[37m\u001b[0m \u001b[1m0s\u001b[0m 9ms/step - loss: 1.3263\n",
            "Epoch 3/50\n",
            "\u001b[1m15/15\u001b[0m \u001b[32m━━━━━━━━━━━━━━━━━━━━\u001b[0m\u001b[37m\u001b[0m \u001b[1m0s\u001b[0m 11ms/step - loss: 1.4245\n",
            "Epoch 4/50\n",
            "\u001b[1m15/15\u001b[0m \u001b[32m━━━━━━━━━━━━━━━━━━━━\u001b[0m\u001b[37m\u001b[0m \u001b[1m0s\u001b[0m 10ms/step - loss: 1.3740\n",
            "Epoch 5/50\n",
            "\u001b[1m15/15\u001b[0m \u001b[32m━━━━━━━━━━━━━━━━━━━━\u001b[0m\u001b[37m\u001b[0m \u001b[1m1s\u001b[0m 9ms/step - loss: 1.3965\n",
            "Epoch 6/50\n",
            "\u001b[1m15/15\u001b[0m \u001b[32m━━━━━━━━━━━━━━━━━━━━\u001b[0m\u001b[37m\u001b[0m \u001b[1m0s\u001b[0m 11ms/step - loss: 1.4186\n",
            "Epoch 7/50\n",
            "\u001b[1m15/15\u001b[0m \u001b[32m━━━━━━━━━━━━━━━━━━━━\u001b[0m\u001b[37m\u001b[0m \u001b[1m0s\u001b[0m 8ms/step - loss: 1.2908\n",
            "Epoch 8/50\n",
            "\u001b[1m15/15\u001b[0m \u001b[32m━━━━━━━━━━━━━━━━━━━━\u001b[0m\u001b[37m\u001b[0m \u001b[1m0s\u001b[0m 6ms/step - loss: 1.2838\n",
            "Epoch 9/50\n",
            "\u001b[1m15/15\u001b[0m \u001b[32m━━━━━━━━━━━━━━━━━━━━\u001b[0m\u001b[37m\u001b[0m \u001b[1m0s\u001b[0m 11ms/step - loss: 1.2885\n",
            "Epoch 10/50\n",
            "\u001b[1m15/15\u001b[0m \u001b[32m━━━━━━━━━━━━━━━━━━━━\u001b[0m\u001b[37m\u001b[0m \u001b[1m1s\u001b[0m 14ms/step - loss: 1.2606\n",
            "Epoch 11/50\n",
            "\u001b[1m15/15\u001b[0m \u001b[32m━━━━━━━━━━━━━━━━━━━━\u001b[0m\u001b[37m\u001b[0m \u001b[1m1s\u001b[0m 22ms/step - loss: 1.2087\n",
            "Epoch 12/50\n",
            "\u001b[1m15/15\u001b[0m \u001b[32m━━━━━━━━━━━━━━━━━━━━\u001b[0m\u001b[37m\u001b[0m \u001b[1m0s\u001b[0m 15ms/step - loss: 1.2549\n",
            "Epoch 13/50\n",
            "\u001b[1m15/15\u001b[0m \u001b[32m━━━━━━━━━━━━━━━━━━━━\u001b[0m\u001b[37m\u001b[0m \u001b[1m0s\u001b[0m 13ms/step - loss: 1.2989\n",
            "Epoch 14/50\n",
            "\u001b[1m15/15\u001b[0m \u001b[32m━━━━━━━━━━━━━━━━━━━━\u001b[0m\u001b[37m\u001b[0m \u001b[1m0s\u001b[0m 10ms/step - loss: 1.2052\n",
            "Epoch 15/50\n",
            "\u001b[1m15/15\u001b[0m \u001b[32m━━━━━━━━━━━━━━━━━━━━\u001b[0m\u001b[37m\u001b[0m \u001b[1m0s\u001b[0m 16ms/step - loss: 1.2643\n",
            "Epoch 16/50\n",
            "\u001b[1m15/15\u001b[0m \u001b[32m━━━━━━━━━━━━━━━━━━━━\u001b[0m\u001b[37m\u001b[0m \u001b[1m1s\u001b[0m 12ms/step - loss: 1.2788\n",
            "Epoch 17/50\n",
            "\u001b[1m15/15\u001b[0m \u001b[32m━━━━━━━━━━━━━━━━━━━━\u001b[0m\u001b[37m\u001b[0m \u001b[1m0s\u001b[0m 10ms/step - loss: 1.1683\n",
            "Epoch 18/50\n",
            "\u001b[1m15/15\u001b[0m \u001b[32m━━━━━━━━━━━━━━━━━━━━\u001b[0m\u001b[37m\u001b[0m \u001b[1m0s\u001b[0m 10ms/step - loss: 1.2264\n",
            "Epoch 19/50\n",
            "\u001b[1m15/15\u001b[0m \u001b[32m━━━━━━━━━━━━━━━━━━━━\u001b[0m\u001b[37m\u001b[0m \u001b[1m0s\u001b[0m 12ms/step - loss: 1.0850\n",
            "Epoch 20/50\n",
            "\u001b[1m15/15\u001b[0m \u001b[32m━━━━━━━━━━━━━━━━━━━━\u001b[0m\u001b[37m\u001b[0m \u001b[1m0s\u001b[0m 13ms/step - loss: 1.1954\n",
            "Epoch 21/50\n",
            "\u001b[1m15/15\u001b[0m \u001b[32m━━━━━━━━━━━━━━━━━━━━\u001b[0m\u001b[37m\u001b[0m \u001b[1m1s\u001b[0m 14ms/step - loss: 1.1690\n",
            "Epoch 22/50\n",
            "\u001b[1m15/15\u001b[0m \u001b[32m━━━━━━━━━━━━━━━━━━━━\u001b[0m\u001b[37m\u001b[0m \u001b[1m0s\u001b[0m 7ms/step - loss: 1.1938\n",
            "Epoch 23/50\n",
            "\u001b[1m15/15\u001b[0m \u001b[32m━━━━━━━━━━━━━━━━━━━━\u001b[0m\u001b[37m\u001b[0m \u001b[1m0s\u001b[0m 8ms/step - loss: 1.1474\n",
            "Epoch 24/50\n",
            "\u001b[1m15/15\u001b[0m \u001b[32m━━━━━━━━━━━━━━━━━━━━\u001b[0m\u001b[37m\u001b[0m \u001b[1m0s\u001b[0m 5ms/step - loss: 1.1804\n",
            "Epoch 25/50\n",
            "\u001b[1m15/15\u001b[0m \u001b[32m━━━━━━━━━━━━━━━━━━━━\u001b[0m\u001b[37m\u001b[0m \u001b[1m0s\u001b[0m 5ms/step - loss: 1.1129\n",
            "Epoch 26/50\n",
            "\u001b[1m15/15\u001b[0m \u001b[32m━━━━━━━━━━━━━━━━━━━━\u001b[0m\u001b[37m\u001b[0m \u001b[1m0s\u001b[0m 5ms/step - loss: 1.1983\n",
            "Epoch 27/50\n",
            "\u001b[1m15/15\u001b[0m \u001b[32m━━━━━━━━━━━━━━━━━━━━\u001b[0m\u001b[37m\u001b[0m \u001b[1m0s\u001b[0m 9ms/step - loss: 1.2235 \n",
            "Epoch 28/50\n",
            "\u001b[1m15/15\u001b[0m \u001b[32m━━━━━━━━━━━━━━━━━━━━\u001b[0m\u001b[37m\u001b[0m \u001b[1m0s\u001b[0m 5ms/step - loss: 1.1362\n",
            "Epoch 29/50\n",
            "\u001b[1m15/15\u001b[0m \u001b[32m━━━━━━━━━━━━━━━━━━━━\u001b[0m\u001b[37m\u001b[0m \u001b[1m0s\u001b[0m 5ms/step - loss: 1.1947\n",
            "Epoch 30/50\n",
            "\u001b[1m15/15\u001b[0m \u001b[32m━━━━━━━━━━━━━━━━━━━━\u001b[0m\u001b[37m\u001b[0m \u001b[1m0s\u001b[0m 5ms/step - loss: 1.1449\n",
            "Epoch 31/50\n",
            "\u001b[1m15/15\u001b[0m \u001b[32m━━━━━━━━━━━━━━━━━━━━\u001b[0m\u001b[37m\u001b[0m \u001b[1m0s\u001b[0m 6ms/step - loss: 1.1315\n",
            "Epoch 32/50\n",
            "\u001b[1m15/15\u001b[0m \u001b[32m━━━━━━━━━━━━━━━━━━━━\u001b[0m\u001b[37m\u001b[0m \u001b[1m0s\u001b[0m 6ms/step - loss: 1.1462\n",
            "Epoch 33/50\n",
            "\u001b[1m15/15\u001b[0m \u001b[32m━━━━━━━━━━━━━━━━━━━━\u001b[0m\u001b[37m\u001b[0m \u001b[1m0s\u001b[0m 6ms/step - loss: 1.1400\n",
            "Epoch 34/50\n",
            "\u001b[1m15/15\u001b[0m \u001b[32m━━━━━━━━━━━━━━━━━━━━\u001b[0m\u001b[37m\u001b[0m \u001b[1m0s\u001b[0m 5ms/step - loss: 1.1828\n",
            "Epoch 35/50\n",
            "\u001b[1m15/15\u001b[0m \u001b[32m━━━━━━━━━━━━━━━━━━━━\u001b[0m\u001b[37m\u001b[0m \u001b[1m0s\u001b[0m 6ms/step - loss: 1.1418\n",
            "Epoch 36/50\n",
            "\u001b[1m15/15\u001b[0m \u001b[32m━━━━━━━━━━━━━━━━━━━━\u001b[0m\u001b[37m\u001b[0m \u001b[1m0s\u001b[0m 6ms/step - loss: 1.2145\n",
            "Epoch 37/50\n",
            "\u001b[1m15/15\u001b[0m \u001b[32m━━━━━━━━━━━━━━━━━━━━\u001b[0m\u001b[37m\u001b[0m \u001b[1m0s\u001b[0m 5ms/step - loss: 1.1054\n",
            "Epoch 38/50\n",
            "\u001b[1m15/15\u001b[0m \u001b[32m━━━━━━━━━━━━━━━━━━━━\u001b[0m\u001b[37m\u001b[0m \u001b[1m0s\u001b[0m 6ms/step - loss: 1.1742\n",
            "Epoch 39/50\n",
            "\u001b[1m15/15\u001b[0m \u001b[32m━━━━━━━━━━━━━━━━━━━━\u001b[0m\u001b[37m\u001b[0m \u001b[1m0s\u001b[0m 4ms/step - loss: 1.2221 \n",
            "Epoch 40/50\n",
            "\u001b[1m15/15\u001b[0m \u001b[32m━━━━━━━━━━━━━━━━━━━━\u001b[0m\u001b[37m\u001b[0m \u001b[1m0s\u001b[0m 5ms/step - loss: 1.0581\n",
            "Epoch 41/50\n",
            "\u001b[1m15/15\u001b[0m \u001b[32m━━━━━━━━━━━━━━━━━━━━\u001b[0m\u001b[37m\u001b[0m \u001b[1m0s\u001b[0m 6ms/step - loss: 1.1387\n",
            "Epoch 42/50\n",
            "\u001b[1m15/15\u001b[0m \u001b[32m━━━━━━━━━━━━━━━━━━━━\u001b[0m\u001b[37m\u001b[0m \u001b[1m0s\u001b[0m 7ms/step - loss: 1.1299\n",
            "Epoch 43/50\n",
            "\u001b[1m15/15\u001b[0m \u001b[32m━━━━━━━━━━━━━━━━━━━━\u001b[0m\u001b[37m\u001b[0m \u001b[1m0s\u001b[0m 5ms/step - loss: 1.0362\n",
            "Epoch 44/50\n",
            "\u001b[1m15/15\u001b[0m \u001b[32m━━━━━━━━━━━━━━━━━━━━\u001b[0m\u001b[37m\u001b[0m \u001b[1m0s\u001b[0m 5ms/step - loss: 1.1760\n",
            "Epoch 45/50\n",
            "\u001b[1m15/15\u001b[0m \u001b[32m━━━━━━━━━━━━━━━━━━━━\u001b[0m\u001b[37m\u001b[0m \u001b[1m0s\u001b[0m 7ms/step - loss: 1.1695\n",
            "Epoch 46/50\n",
            "\u001b[1m15/15\u001b[0m \u001b[32m━━━━━━━━━━━━━━━━━━━━\u001b[0m\u001b[37m\u001b[0m \u001b[1m0s\u001b[0m 5ms/step - loss: 1.1301\n",
            "Epoch 47/50\n",
            "\u001b[1m15/15\u001b[0m \u001b[32m━━━━━━━━━━━━━━━━━━━━\u001b[0m\u001b[37m\u001b[0m \u001b[1m0s\u001b[0m 6ms/step - loss: 1.1316\n",
            "Epoch 48/50\n",
            "\u001b[1m15/15\u001b[0m \u001b[32m━━━━━━━━━━━━━━━━━━━━\u001b[0m\u001b[37m\u001b[0m \u001b[1m0s\u001b[0m 5ms/step - loss: 1.1204\n",
            "Epoch 49/50\n",
            "\u001b[1m15/15\u001b[0m \u001b[32m━━━━━━━━━━━━━━━━━━━━\u001b[0m\u001b[37m\u001b[0m \u001b[1m0s\u001b[0m 6ms/step - loss: 1.0836\n",
            "Epoch 50/50\n",
            "\u001b[1m15/15\u001b[0m \u001b[32m━━━━━━━━━━━━━━━━━━━━\u001b[0m\u001b[37m\u001b[0m \u001b[1m0s\u001b[0m 9ms/step - loss: 1.0499\n"
          ]
        },
        {
          "output_type": "execute_result",
          "data": {
            "text/plain": [
              "<keras.src.callbacks.history.History at 0x7d1f0883dcf0>"
            ]
          },
          "metadata": {},
          "execution_count": 3
        }
      ]
    },
    {
      "cell_type": "markdown",
      "source": [
        "# Calculate risk scores"
      ],
      "metadata": {
        "id": "ZPIUQmaP1wXs"
      }
    },
    {
      "cell_type": "code",
      "source": [
        "\n",
        "# Predict Risk Scores for Training Data\n",
        "# -------------------------------------\n",
        "risk_scores_train = deep_surv.predict(X_train_scaled).flatten()\n",
        "\n",
        "# Step 2: Compute and Simplify the Baseline Hazard Function\n",
        "# ---------------------------------------------------------\n",
        "# Sort data by survival times\n",
        "survival_times = train_data['DssTime']  # Use the correct survival time column\n",
        "sorted_indices = np.argsort(survival_times)  # Sort by survival times\n",
        "sorted_times = survival_times.iloc[sorted_indices]  # Sorted survival times\n",
        "sorted_risks = np.exp(risk_scores_train[sorted_indices])  # Align risk scores with sorted times\n",
        "# Step 2: Compute Baseline Hazard\n",
        "unique_times, counts = np.unique(sorted_times, return_counts=True)  # Unique times and their counts\n",
        "cumulative_baseline_hazard = []\n",
        "risk_sum = np.sum(sorted_risks)\n",
        "\n",
        "for time, event_count in zip(unique_times, counts):\n",
        "    hazard = event_count / risk_sum  # Events / At-risk\n",
        "    if cumulative_baseline_hazard:\n",
        "        cumulative_baseline_hazard.append(cumulative_baseline_hazard[-1] + hazard)  # Add to cumulative\n",
        "    else:\n",
        "        cumulative_baseline_hazard.append(hazard)  # First time point\n",
        "    risk_sum -= np.sum(sorted_risks[sorted_times == time])  # Subtract patients who are no longer at risk\n",
        "\n",
        "# Clip the cumulative baseline hazard to prevent extreme values\n",
        "cumulative_baseline_hazard = np.clip(cumulative_baseline_hazard, 1e-6, None)\n",
        "\n",
        "# Step 3: Predict Risk Scores for Test Data\n",
        "risk_scores_test = deep_surv.predict(X_test_scaled).flatten()\n",
        "\n",
        "# Step 4: Calculate Survival Probabilities for Test Data\n",
        "# ------------------------------------------------------\n",
        "time_points = [1, 10, 20, 30, 40, 50, 60, 70, 80, 90, 100]\n",
        "\n",
        "# Interpolate baseline hazard for specified time points\n",
        "baseline_hazards = np.interp(\n",
        "    time_points,\n",
        "    unique_times,\n",
        "    cumulative_baseline_hazard,\n",
        "    left=cumulative_baseline_hazard[0],\n",
        "    right=cumulative_baseline_hazard[-1]\n",
        ")\n",
        "\n",
        "# Calculate survival probabilities\n",
        "# Compute survival probabilities for all test patients\n",
        "survival_probabilities = {}\n",
        "for t, baseline_hazard in zip(time_points, baseline_hazards):\n",
        "    # Correctly compute risk factors for each patient\n",
        "    risk_factors = np.exp(risk_scores_test)\n",
        "    risk_factors = np.clip(np.exp(risk_scores_test), 1e-3, 1e3)  # Adjust range to [1e-3, 1e3]\n",
        "\n",
        "    # Temporal decay factor (learnable)\n",
        "    # innovation\n",
        "    #temporal_decay = 1#np.exp(0.01 * t)  # Adjust the decay rate (0.1) to control how quickly probabilities decrease\n",
        "\n",
        "    # Adjusted survival probabilities\n",
        "    survival_probabilities[t] = np.exp(-baseline_hazard * risk_factors)#* temporal_decay)\n",
        "    # Calculate survival probabilities at time t for all patients\n",
        "    #survival_probabilities[t] = np.maximum(survival_probabilities[t], 1e-6)  # Prevent 0 probabilities\n",
        "\n",
        "    #survival_probabilities[t] = np.maximum(survival_probabilities[t], 1e-6)  # Prevent probabilities from being 0\n",
        "\n",
        "# ------------------------------------------------\n",
        "# This mimics a simpler model without a baseline hazard\n",
        "time_point = 60  # Use t=60 for predictions\n",
        "simplified_survival_probabilities = np.exp(-np.exp(risk_scores_test) * time_point)# * temporal_decay)\n",
        "\n",
        "# Step 5: Use t=60 for Predictions\n",
        "# --------------------------------\n",
        "# Choose survival probabilities based on the method (baseline or simplified)\n",
        "t60_probabilities_baseline = survival_probabilities[60]\n",
        "t60_probabilities_simplified = simplified_survival_probabilities\n",
        "\n",
        "# Predict labels based on thresholds\n",
        "optimal_threshold = 0.50  # Adjust threshold as necessary\n",
        "# model with baseline function\n",
        "predicted_labels_t60_baseline = (t60_probabilities_baseline <= optimal_threshold).astype(int)\n",
        "# model without baseline function\n",
        "predicted_labels_t60_simplified = (t60_probabilities_simplified <= 0.000001).astype(int)\n",
        "\n",
        "\n"
      ],
      "metadata": {
        "colab": {
          "base_uri": "https://localhost:8080/"
        },
        "id": "P7nmcJbp28PU",
        "outputId": "379f2ed2-40b1-41be-a8e3-7904bcc33cf5"
      },
      "execution_count": 4,
      "outputs": [
        {
          "output_type": "stream",
          "name": "stdout",
          "text": [
            "\u001b[1m15/15\u001b[0m \u001b[32m━━━━━━━━━━━━━━━━━━━━\u001b[0m\u001b[37m\u001b[0m \u001b[1m0s\u001b[0m 13ms/step\n",
            "\u001b[1m4/4\u001b[0m \u001b[32m━━━━━━━━━━━━━━━━━━━━\u001b[0m\u001b[37m\u001b[0m \u001b[1m0s\u001b[0m 3ms/step \n"
          ]
        }
      ]
    },
    {
      "cell_type": "markdown",
      "source": [
        "# Save predictions in a dataframe"
      ],
      "metadata": {
        "id": "Wbkd3Ilr2J7h"
      }
    },
    {
      "cell_type": "code",
      "source": [
        "\n",
        "# Save Predictions for All Time Points\n",
        "# -------------------------------------\n",
        "results = pd.DataFrame(survival_probabilities)\n",
        "results['Predicted Label (Baseline, t=60)'] = predicted_labels_t60_baseline\n",
        "results['Predicted Label (Simplified, t=60)'] = predicted_labels_t60_simplified\n",
        "results['True Label'] = y_test\n",
        "results_path = '/content/drive/MyDrive/survival_predictions.csv'\n",
        "results.to_csv(results_path, index=False)"
      ],
      "metadata": {
        "id": "Lxx5T3_82JRM"
      },
      "execution_count": 5,
      "outputs": []
    },
    {
      "cell_type": "markdown",
      "source": [
        "# Evaluate model"
      ],
      "metadata": {
        "id": "xT3BiWHV2SD8"
      }
    },
    {
      "cell_type": "code",
      "source": [
        "# Evaluate Model for t=60\n",
        "# ------------------------\n",
        "accuracy_baseline = accuracy_score(y_test, predicted_labels_t60_baseline)\n",
        "roc_auc_baseline = roc_auc_score(y_test, predicted_labels_t60_baseline)\n",
        "\n",
        "accuracy_simplified = accuracy_score(y_test, predicted_labels_t60_simplified)\n",
        "roc_auc_simplified = roc_auc_score(y_test, predicted_labels_t60_simplified)\n",
        "\n",
        "print(f\"Baseline Model - Accuracy (t=60): {accuracy_baseline:.2f}, ROC AUC: {roc_auc_baseline:.2f}\")\n",
        "print(f\"Simplified Model - Accuracy (t=60): {accuracy_simplified:.2f}, ROC AUC: {roc_auc_simplified:.2f}\")\n",
        "\n",
        "\n",
        "# C-Index for Training Data\n",
        "from lifelines.utils import concordance_index\n",
        "\n",
        "# C-Index for Training Data\n",
        "c_index_train = concordance_index(X_train[\"DssTime\"], -risk_scores_train, event_observed=np.ones_like(y_train))\n",
        "print(f\"C-Index (Training): {c_index_train:.2f}\")\n",
        "\n",
        "# C-Index for Test Data\n",
        "c_index_test = concordance_index(X_test[\"DssTime\"], -risk_scores_test, event_observed=np.ones_like(y_test))\n",
        "print(f\"C-Index (Test): {c_index_test:.2f}\")\n"
      ],
      "metadata": {
        "colab": {
          "base_uri": "https://localhost:8080/"
        },
        "id": "2psVkXrj3wKo",
        "outputId": "a7354ff0-1370-4f1b-edae-b228145e8f81"
      },
      "execution_count": 10,
      "outputs": [
        {
          "output_type": "stream",
          "name": "stdout",
          "text": [
            "Baseline Model - Accuracy (t=60): 0.96, ROC AUC: 0.95\n",
            "Simplified Model - Accuracy (t=60): 0.96, ROC AUC: 0.95\n",
            "C-Index (Training): 0.87\n",
            "C-Index (Test): 0.89\n"
          ]
        }
      ]
    },
    {
      "cell_type": "code",
      "source": [
        "# Extract survival probabilities for the 5th patient\n",
        "import matplotlib.pyplot as plt\n",
        "first_patient_probabilities = [survival_probabilities[t][0] for t in time_points]\n",
        "\n",
        "# Plot the survival curve for the first patient\n",
        "plt.figure(figsize=(10, 6))\n",
        "plt.plot(time_points, first_patient_probabilities, marker='o', label=\"Survival Probability\")\n",
        "plt.title(\"Survival Curve for Patient in Test Dataset\")\n",
        "plt.xlabel(\"Time (e.g., days, months)\")\n",
        "plt.ylabel(\"Survival Probability\")\n",
        "plt.ylim(0, 1.05)  # Ensure the y-axis is between 0 and 1\n",
        "plt.grid(True)\n",
        "plt.legend()\n",
        "plt.show()"
      ],
      "metadata": {
        "colab": {
          "base_uri": "https://localhost:8080/",
          "height": 564
        },
        "id": "LL6eAHVk4CkU",
        "outputId": "ad748d7c-e305-4848-c478-4de1a7009367"
      },
      "execution_count": 19,
      "outputs": [
        {
          "output_type": "display_data",
          "data": {
            "text/plain": [
              "<Figure size 1000x600 with 1 Axes>"
            ],
            "image/png": "[encoded data removed]"
          },
          "metadata": {}
        }
      ]
    },
    {
      "cell_type": "code",
      "source": [
        "for i in time_points:\n",
        "  print(i)\n",
        "  print(survival_probabilities[i][1])"
      ],
      "metadata": {
        "colab": {
          "base_uri": "https://localhost:8080/"
        },
        "id": "OSzU5yFb4HvC",
        "outputId": "af661303-d094-4bf0-d866-e4e0be441c86"
      },
      "execution_count": 12,
      "outputs": [
        {
          "output_type": "stream",
          "name": "stdout",
          "text": [
            "1\n",
            "0.9999957\n",
            "10\n",
            "0.9999575\n",
            "20\n",
            "0.99981385\n",
            "30\n",
            "0.9995788\n",
            "40\n",
            "0.999198\n",
            "50\n",
            "0.9985268\n",
            "60\n",
            "0.9972457\n",
            "70\n",
            "0.993598\n",
            "80\n",
            "0.98616105\n",
            "90\n",
            "0.9446013\n",
            "100\n",
            "0.83574945\n"
          ]
        }
      ]
    },
    {
      "cell_type": "code",
      "source": [
        "predicted_labels_t60_baseline[:10]"
      ],
      "metadata": {
        "colab": {
          "base_uri": "https://localhost:8080/"
        },
        "id": "mugFn-e4NMrO",
        "outputId": "8670b786-4c8e-4a55-c441-f30a53c4199d"
      },
      "execution_count": 17,
      "outputs": [
        {
          "output_type": "execute_result",
          "data": {
            "text/plain": [
              "array([1, 0, 1, 1, 1, 1, 0, 0, 1, 0])"
            ]
          },
          "metadata": {},
          "execution_count": 17
        }
      ]
    }
  ]
}