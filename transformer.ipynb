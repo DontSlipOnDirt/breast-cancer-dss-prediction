{
 "cells": [
  {
   "cell_type": "code",
   "execution_count": 129,
   "metadata": {},
   "outputs": [],
   "source": [
    "# dependencies\n",
    "import numpy as np\n",
    "import torch\n",
    "import torch.nn as nn\n",
    "import torch.optim as optim\n",
    "from torch.utils.data import DataLoader, Dataset\n",
    "import matplotlib.pyplot as plt\n",
    "from sklearn.metrics import accuracy_score, precision_score, recall_score, f1_score, roc_auc_score"
   ]
  },
  {
   "cell_type": "markdown",
   "metadata": {},
   "source": [
    "# Data"
   ]
  },
  {
   "cell_type": "code",
   "execution_count": 103,
   "metadata": {},
   "outputs": [],
   "source": [
    "import pandas as pd\n",
    "# from sklearn.preprocessing import StandardScaler\n",
    "\n",
    "# Load Data\n",
    "train_data_path = 'data/train_data.csv'\n",
    "pseudo_train_data_path = 'data/combined_labeled_data.csv'\n",
    "test_data_path = 'data/test_data.csv'\n",
    "\n",
    "train_data = pd.read_csv(train_data_path)\n",
    "pseudo_train_data = pd.read_csv(pseudo_train_data_path)\n",
    "test_data = pd.read_csv(test_data_path)\n",
    "\n",
    "# Drop unnecessary columns\n",
    "train_data = train_data.drop(columns=['DssTime','Event'])\n",
    "test_data = test_data.drop(columns=['DssTime','Event'])\n",
    "\n",
    "# # Scale Data\n",
    "# scaler = StandardScaler()\n",
    "# X_train_scaled = scaler.fit_transform(X_train)\n",
    "# X_test_scaled = scaler.transform(X_test)\n"
   ]
  },
  {
   "cell_type": "code",
   "execution_count": 115,
   "metadata": {},
   "outputs": [],
   "source": [
    "# Create the dataset class\n",
    "class CancerDataset(Dataset):\n",
    "    def __init__(self, data, features, label_column):\n",
    "        self.data = data\n",
    "        self.features = features\n",
    "        self.label_column = label_column\n",
    "    \n",
    "    def __len__(self):\n",
    "        return len(self.data)\n",
    "    \n",
    "    def __getitem__(self, idx):\n",
    "        inputs = torch.tensor(self.data[self.features].iloc[idx].values, dtype=torch.float32)\n",
    "        label = torch.tensor(self.data[self.label_column].iloc[idx], dtype=torch.float32)\n",
    "        return inputs, label\n",
    "\n",
    "# Define feature columns\n",
    "train_columns = train_data.columns[0:30]\n",
    "label_column = \"Label\"\n",
    "\n",
    "# Create datasets and dataloaders\n",
    "train_dataset = CancerDataset(train_data, train_columns, label_column)\n",
    "test_dataset = CancerDataset(test_data, train_columns, label_column)  # Use same columns as during training\n",
    "\n",
    "train_loader = DataLoader(train_dataset, batch_size=32, shuffle=True)\n",
    "test_loader = DataLoader(test_dataset, batch_size=32, shuffle=False)"
   ]
  },
  {
   "cell_type": "markdown",
   "metadata": {},
   "source": [
    "# Model"
   ]
  },
  {
   "cell_type": "code",
   "execution_count": 105,
   "metadata": {},
   "outputs": [],
   "source": [
    "# Define the unified Transformer binary classifier\n",
    "class UnifiedTransformerBinaryClassifier(nn.Module):\n",
    "    def __init__(self, input_dim, transformer_dim=64, num_heads=4, num_layers=2, dropout=0.1):\n",
    "        super(UnifiedTransformerBinaryClassifier, self).__init__()\n",
    "        \n",
    "        # Define the transformer model\n",
    "        self.embedding = nn.Linear(input_dim, transformer_dim)  # Linear layer to project input to transformer dim\n",
    "        \n",
    "        # Transformer Encoder Layer\n",
    "        self.transformer_encoder = nn.TransformerEncoder(\n",
    "            nn.TransformerEncoderLayer(d_model=transformer_dim, nhead=num_heads, dropout=dropout),\n",
    "            num_layers=num_layers\n",
    "        )\n",
    "        \n",
    "        # Final classification layer\n",
    "        self.fc = nn.Linear(transformer_dim, 1)\n",
    "        self.sigmoid = nn.Sigmoid()\n",
    "    \n",
    "    def forward(self, x):\n",
    "        # Apply the initial embedding to get input in the transformer dimension\n",
    "        x = self.embedding(x)\n",
    "        \n",
    "        # Add a batch dimension (needed for the transformer)\n",
    "        x = x.unsqueeze(1)  # Shape: [batch_size, 1, input_dim]\n",
    "        \n",
    "        # Pass through the transformer encoder\n",
    "        x = self.transformer_encoder(x)\n",
    "        \n",
    "        # Get the output from the transformer (we'll use the last output for classification)\n",
    "        x = x[:, -1, :]  # Shape: [batch_size, transformer_dim]\n",
    "        \n",
    "        # Classification layer\n",
    "        x = self.fc(x)\n",
    "        \n",
    "        # Sigmoid activation for binary classification\n",
    "        x = self.sigmoid(x)\n",
    "        \n",
    "        return x"
   ]
  },
  {
   "cell_type": "markdown",
   "metadata": {},
   "source": [
    "# Training"
   ]
  },
  {
   "cell_type": "code",
   "execution_count": 137,
   "metadata": {},
   "outputs": [],
   "source": [
    "# Define training loop\n",
    "def train_model(model, train_loader, epochs, optimizer, loss_fn, device):\n",
    "    model.train()\n",
    "    loss_history = []\n",
    "\n",
    "    for epoch in range(epochs):\n",
    "        running_loss = 0.0\n",
    "        for i, (inputs, labels) in enumerate(train_loader):\n",
    "            # Send data to the device (GPU/CPU)\n",
    "            inputs, labels = inputs.to(device), labels.to(device)\n",
    "            \n",
    "            # Zero the gradients\n",
    "            optimizer.zero_grad()\n",
    "            \n",
    "            # Forward pass\n",
    "            outputs = model(inputs).squeeze(1)\n",
    "            \n",
    "            # Compute loss\n",
    "            loss = loss_fn(outputs, labels)\n",
    "            \n",
    "            # Backward pass and optimize\n",
    "            loss.backward()\n",
    "            optimizer.step()\n",
    "            \n",
    "            running_loss += loss.item()\n",
    "        \n",
    "        epoch_loss = running_loss / len(train_loader)\n",
    "        loss_history.append(epoch_loss)\n",
    "\n",
    "        print(f\"Epoch {epoch+1}/{epochs}, Loss: {running_loss / len(train_loader)}\")\n",
    "\n",
    "    # Plot the loss\n",
    "    plt.figure(figsize=(8, 6))\n",
    "    plt.plot(range(1, epochs + 1), loss_history, label=\"Training Loss\")\n",
    "    plt.xlabel(\"Epoch\")\n",
    "    plt.ylabel(\"Loss\")\n",
    "    plt.title(\"Training Loss Over Epochs\")\n",
    "    plt.legend()\n",
    "    plt.grid(True)\n",
    "    plt.show()"
   ]
  },
  {
   "cell_type": "code",
   "execution_count": 138,
   "metadata": {},
   "outputs": [
    {
     "name": "stdout",
     "output_type": "stream",
     "text": [
      "Epoch 1/50, Loss: 0.7660642067591349\n",
      "Epoch 2/50, Loss: 0.7152413884798686\n",
      "Epoch 3/50, Loss: 0.6917001883188884\n",
      "Epoch 4/50, Loss: 0.6841438571612041\n",
      "Epoch 5/50, Loss: 0.6742970267931621\n",
      "Epoch 6/50, Loss: 0.6902182181676229\n",
      "Epoch 7/50, Loss: 0.6604699810345968\n",
      "Epoch 8/50, Loss: 0.649651825428009\n",
      "Epoch 9/50, Loss: 0.6367985526720683\n",
      "Epoch 10/50, Loss: 0.6166974186897278\n",
      "Epoch 11/50, Loss: 0.6149043520291646\n",
      "Epoch 12/50, Loss: 0.6199590643246968\n",
      "Epoch 13/50, Loss: 0.6008542656898499\n",
      "Epoch 14/50, Loss: 0.6164421975612641\n",
      "Epoch 15/50, Loss: 0.6025389273961385\n",
      "Epoch 16/50, Loss: 0.608788255850474\n",
      "Epoch 17/50, Loss: 0.5966868360837301\n",
      "Epoch 18/50, Loss: 0.5999678055445353\n",
      "Epoch 19/50, Loss: 0.5853277623653412\n",
      "Epoch 20/50, Loss: 0.5921361168225606\n",
      "Epoch 21/50, Loss: 0.580008449157079\n",
      "Epoch 22/50, Loss: 0.5956125219662984\n",
      "Epoch 23/50, Loss: 0.586629190047582\n",
      "Epoch 24/50, Loss: 0.5700044731299082\n",
      "Epoch 25/50, Loss: 0.5806840896606446\n",
      "Epoch 26/50, Loss: 0.5612665593624115\n",
      "Epoch 27/50, Loss: 0.6151153445243835\n",
      "Epoch 28/50, Loss: 0.6055579245090484\n",
      "Epoch 29/50, Loss: 0.5823529223601024\n",
      "Epoch 30/50, Loss: 0.5915549854437511\n",
      "Epoch 31/50, Loss: 0.5655092636744181\n",
      "Epoch 32/50, Loss: 0.5709929525852203\n",
      "Epoch 33/50, Loss: 0.5710704545180003\n",
      "Epoch 34/50, Loss: 0.5656143486499786\n",
      "Epoch 35/50, Loss: 0.5857336620489756\n",
      "Epoch 36/50, Loss: 0.5643792788187663\n",
      "Epoch 37/50, Loss: 0.5759590685367584\n",
      "Epoch 38/50, Loss: 0.5607527275880178\n",
      "Epoch 39/50, Loss: 0.5830817957719167\n",
      "Epoch 40/50, Loss: 0.5734972437222798\n",
      "Epoch 41/50, Loss: 0.5621917128562928\n",
      "Epoch 42/50, Loss: 0.5904723803202311\n",
      "Epoch 43/50, Loss: 0.5616368075211843\n",
      "Epoch 44/50, Loss: 0.5449469308058421\n",
      "Epoch 45/50, Loss: 0.5456250250339508\n",
      "Epoch 46/50, Loss: 0.5536035855611166\n",
      "Epoch 47/50, Loss: 0.5615061382452647\n",
      "Epoch 48/50, Loss: 0.579718428850174\n",
      "Epoch 49/50, Loss: 0.5809825201829274\n",
      "Epoch 50/50, Loss: 0.5692014276981354\n"
     ]
    },
    {
     "data": {
      "image/png": "[encoded data removed]",
      "text/plain": [
       "<Figure size 800x600 with 1 Axes>"
      ]
     },
     "metadata": {},
     "output_type": "display_data"
    }
   ],
   "source": [
    "# Define the model, optimizer, and loss function\n",
    "torch.manual_seed(42)\n",
    "device = torch.device(\"cuda\" if torch.cuda.is_available() else \"cpu\")\n",
    "\n",
    "# Hyper parameters\n",
    "transformer_dim=64\n",
    "num_heads=4\n",
    "num_layers=2\n",
    "dropout=0.1\n",
    "\n",
    "input_dim = len(train_columns)  # Number of input features\n",
    "model = UnifiedTransformerBinaryClassifier(input_dim, transformer_dim, num_heads, num_layers, dropout).to(device)\n",
    "optimizer = optim.Adam(model.parameters(), lr=0.001)\n",
    "loss_fn = nn.BCELoss()\n",
    "\n",
    "# Train the model\n",
    "epochs = 50\n",
    "train_model(model, train_loader, epochs, optimizer, loss_fn, device)"
   ]
  },
  {
   "cell_type": "markdown",
   "metadata": {},
   "source": [
    "# Evaluation"
   ]
  },
  {
   "cell_type": "code",
   "execution_count": 117,
   "metadata": {},
   "outputs": [],
   "source": [
    "def evaluate_model(model, test_loader, device):\n",
    "    model.eval()  # Set the model to evaluation mode\n",
    "    all_preds = []\n",
    "    all_labels = []\n",
    "    \n",
    "    with torch.no_grad():  # No need to compute gradients during evaluation\n",
    "        for inputs, labels in test_loader:\n",
    "            inputs, labels = inputs.to(device), labels.to(device)\n",
    "            \n",
    "            # Forward pass\n",
    "            outputs = model(inputs).squeeze(1)  # Shape: [batch_size]\n",
    "            preds = (outputs > 0.5).float()  # Binary classification (threshold 0.5)\n",
    "            \n",
    "            # Collect all predictions and true labels\n",
    "            all_preds.extend(preds.cpu().numpy())  # Move to CPU and convert to numpy\n",
    "            all_labels.extend(labels.cpu().numpy())\n",
    "    \n",
    "    # Convert lists to numpy arrays\n",
    "    all_preds = np.array(all_preds)\n",
    "    all_labels = np.array(all_labels)\n",
    "    \n",
    "    # Calculate metrics\n",
    "    accuracy = accuracy_score(all_labels, all_preds)\n",
    "    precision = precision_score(all_labels, all_preds)\n",
    "    recall = recall_score(all_labels, all_preds)\n",
    "    f1 = f1_score(all_labels, all_preds)\n",
    "    auc = roc_auc_score(all_labels, all_preds)\n",
    "\n",
    "    # Print the results\n",
    "    print(f'Accuracy: {accuracy:.4f}')\n",
    "    print(f'Precision: {precision:.4f}')\n",
    "    print(f'Recall: {recall:.4f}')\n",
    "    print(f'F1-Score: {f1:.4f}')\n",
    "    print(f'AUC: {auc:.4f}')\n",
    "    \n",
    "    return accuracy, precision, recall, f1, auc"
   ]
  },
  {
   "cell_type": "code",
   "execution_count": 126,
   "metadata": {},
   "outputs": [
    {
     "name": "stdout",
     "output_type": "stream",
     "text": [
      "Accuracy: 0.7350\n",
      "Precision: 0.7627\n",
      "Recall: 0.7258\n",
      "F1-Score: 0.7438\n",
      "AUC: 0.7356\n"
     ]
    },
    {
     "data": {
      "text/plain": [
       "(0.7350427350427351,\n",
       " 0.7627118644067796,\n",
       " 0.7258064516129032,\n",
       " 0.743801652892562,\n",
       " 0.7356304985337244)"
      ]
     },
     "execution_count": 126,
     "metadata": {},
     "output_type": "execute_result"
    }
   ],
   "source": [
    "# Evaluate the model\n",
    "evaluate_model(model, test_loader, device)"
   ]
  }
 ],
 "metadata": {
  "kernelspec": {
   "display_name": "Python 3",
   "language": "python",
   "name": "python3"
  },
  "language_info": {
   "codemirror_mode": {
    "name": "ipython",
    "version": 3
   },
   "file_extension": ".py",
   "mimetype": "text/x-python",
   "name": "python",
   "nbconvert_exporter": "python",
   "pygments_lexer": "ipython3",
   "version": "3.12.2"
  }
 },
 "nbformat": 4,
 "nbformat_minor": 2
}
