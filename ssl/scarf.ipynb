{
 "cells": [
  {
   "cell_type": "markdown",
   "metadata": {},
   "source": [
    "# SSL: SCARF\n"
   ]
  },
  {
   "cell_type": "markdown",
   "metadata": {},
   "source": [
    "This work is based on the one published by the author of the [TS3L library](https://github.com/Alcoholrithm/TabularS3L).\n",
    "\n",
    "Specifically, this code is implementing [SCARF](https://openreview.net/forum?id=CuV_qYkmKb3)"
   ]
  },
  {
   "cell_type": "code",
   "execution_count": 62,
   "metadata": {},
   "outputs": [],
   "source": [
    "import pandas as pd\n",
    "from sklearn.metrics import accuracy_score\n",
    "from sklearn.model_selection import train_test_split\n",
    "import numpy as np\n",
    "\n",
    "# Prepare the SCARFLightning Module\n",
    "from ts3l.pl_modules import SCARFLightning\n",
    "from ts3l.utils.scarf_utils import SCARFDataset\n",
    "from ts3l.utils import TS3LDataModule\n",
    "from ts3l.utils.scarf_utils import SCARFConfig\n",
    "from ts3l.utils.embedding_utils import IdentityEmbeddingConfig\n",
    "from ts3l.utils.backbone_utils import MLPBackboneConfig\n",
    "from pytorch_lightning import Trainer\n",
    "\n",
    "\n",
    "# Evaluation\n",
    "from sklearn.metrics import accuracy_score\n",
    "import torch\n",
    "from torch.nn import functional as F\n",
    "from torch.utils.data import DataLoader, SequentialSampler"
   ]
  },
  {
   "cell_type": "markdown",
   "metadata": {},
   "source": [
    "## Data loading"
   ]
  },
  {
   "cell_type": "code",
   "execution_count": 63,
   "metadata": {},
   "outputs": [],
   "source": [
    "TRAIN_DATA_PATH = \"../data/sequential/train_data.csv\"\n",
    "VAL_DATA_PATH = \"../data/sequential/val_data.csv\"\n",
    "UNLABELLED_DATA_PATH = \"../data/sequential/unlabelled_data.csv\"\n",
    "\n",
    "PSEUDO_LABELLED_DATA_PATH = \"../data/ssl/pseudo_labelled_data_scarf.csv\""
   ]
  },
  {
   "cell_type": "code",
   "execution_count": 64,
   "metadata": {},
   "outputs": [],
   "source": [
    "def get_dataframes(train_path, val_path, unlabelled_path, with_clinical=False):\n",
    "    # Load the data\n",
    "    train_df = pd.read_csv(train_path)\n",
    "    val_df = pd.read_csv(val_path)\n",
    "    unlabelled_df = pd.read_csv(unlabelled_path)\n",
    "\n",
    "    # Drop the columns that are not needed\n",
    "    train_df = train_df.drop(columns=['DssTime', 'Event', 'auto_id'])\n",
    "    val_df = val_df.drop(columns=['DssTime', 'Event', 'auto_id'])\n",
    "    unlabelled_df = unlabelled_df.drop(columns=['auto_id'])\n",
    "\n",
    "    # Extract numerical and categorical columns\n",
    "    # Numerical cols: Gene + Age\n",
    "    numerical_cols = train_df.columns[:21].tolist()\n",
    "    # But also Size\n",
    "    numerical_cols.append('Size')\n",
    "    # Categorical cols: Clinical\n",
    "    categorical_cols = train_df.drop(columns=['Label', 'Size']).columns[21:].tolist()\n",
    "    if not with_clinical:\n",
    "        train_df = train_df.drop(columns=categorical_cols)\n",
    "        val_df = val_df.drop(columns=categorical_cols)\n",
    "        unlabelled_df = unlabelled_df.drop(columns=categorical_cols)\n",
    "        categorical_cols = []\n",
    "    else:\n",
    "        categorical_cols = ['Chemotherapy', 'Menopausal State', 'Radio Therapy',\n",
    "                            'Hormone Therapy', 'Surgery-breast conserving',\n",
    "                            'Surgery-mastectomy', 'Neoplasm Histologic Grade',\n",
    "                            'Cellularity']\n",
    "        not_cols=[]\n",
    "        # The model has problems with these columns\n",
    "        train_df = train_df.drop(columns=not_cols)\n",
    "        val_df = val_df.drop(columns=not_cols)\n",
    "        unlabelled_df = unlabelled_df.drop(columns=not_cols)\n",
    "\n",
    "    print(f'Train data shape: {train_df.shape}')\n",
    "    print(f'Val data shape: {val_df.shape}')\n",
    "    print(f'Unlabelled data shape: {unlabelled_df.shape}')\n",
    "    print(f'Numerical columns: {numerical_cols}')\n",
    "    if with_clinical:\n",
    "        print(f'Categorical columns: {categorical_cols}')\n",
    "    return train_df, val_df, unlabelled_df, numerical_cols, categorical_cols"
   ]
  },
  {
   "cell_type": "code",
   "execution_count": 65,
   "metadata": {},
   "outputs": [
    {
     "name": "stdout",
     "output_type": "stream",
     "text": [
      "Train data shape: (372, 31)\n",
      "Val data shape: (93, 31)\n",
      "Unlabelled data shape: (1168, 30)\n",
      "Numerical columns: ['ESR1', 'PGR', 'ERBB2', 'MKI67', 'PLAU', 'ELAVL1', 'EGFR', 'BTRC', 'FBXO6', 'SHMT2', 'KRAS', 'SRPK2', 'YWHAQ', 'PDHA1', 'EWSR1', 'ZDHHC17', 'ENO1', 'DBN1', 'PLK1', 'GSK3B', 'Age', 'Size']\n",
      "Categorical columns: ['Chemotherapy', 'Menopausal State', 'Radio Therapy', 'Hormone Therapy', 'Surgery-breast conserving', 'Surgery-mastectomy', 'Neoplasm Histologic Grade', 'Cellularity']\n"
     ]
    }
   ],
   "source": [
    "train_data, val_data, unlabelled_data, numerical_cols, categorical_cols = get_dataframes(\n",
    "    TRAIN_DATA_PATH,\n",
    "    VAL_DATA_PATH,\n",
    "    UNLABELLED_DATA_PATH,\n",
    "    with_clinical=True)"
   ]
  },
  {
   "cell_type": "code",
   "execution_count": 66,
   "metadata": {},
   "outputs": [
    {
     "data": {
      "text/html": [
       "<div>\n",
       "<style scoped>\n",
       "    .dataframe tbody tr th:only-of-type {\n",
       "        vertical-align: middle;\n",
       "    }\n",
       "\n",
       "    .dataframe tbody tr th {\n",
       "        vertical-align: top;\n",
       "    }\n",
       "\n",
       "    .dataframe thead th {\n",
       "        text-align: right;\n",
       "    }\n",
       "</style>\n",
       "<table border=\"1\" class=\"dataframe\">\n",
       "  <thead>\n",
       "    <tr style=\"text-align: right;\">\n",
       "      <th></th>\n",
       "      <th>ESR1</th>\n",
       "      <th>PGR</th>\n",
       "      <th>ERBB2</th>\n",
       "      <th>MKI67</th>\n",
       "      <th>PLAU</th>\n",
       "      <th>ELAVL1</th>\n",
       "      <th>EGFR</th>\n",
       "      <th>BTRC</th>\n",
       "      <th>FBXO6</th>\n",
       "      <th>SHMT2</th>\n",
       "      <th>...</th>\n",
       "      <th>Menopausal State</th>\n",
       "      <th>Size</th>\n",
       "      <th>Radio Therapy</th>\n",
       "      <th>Chemotherapy</th>\n",
       "      <th>Hormone Therapy</th>\n",
       "      <th>Neoplasm Histologic Grade</th>\n",
       "      <th>Cellularity</th>\n",
       "      <th>Surgery-breast conserving</th>\n",
       "      <th>Surgery-mastectomy</th>\n",
       "      <th>Label</th>\n",
       "    </tr>\n",
       "  </thead>\n",
       "  <tbody>\n",
       "    <tr>\n",
       "      <th>0</th>\n",
       "      <td>11.445577</td>\n",
       "      <td>5.383985</td>\n",
       "      <td>10.523773</td>\n",
       "      <td>5.878819</td>\n",
       "      <td>7.376048</td>\n",
       "      <td>6.224054</td>\n",
       "      <td>5.730411</td>\n",
       "      <td>6.937679</td>\n",
       "      <td>7.314421</td>\n",
       "      <td>9.496653</td>\n",
       "      <td>...</td>\n",
       "      <td>1</td>\n",
       "      <td>43</td>\n",
       "      <td>1</td>\n",
       "      <td>0</td>\n",
       "      <td>0</td>\n",
       "      <td>1</td>\n",
       "      <td>0.5</td>\n",
       "      <td>1</td>\n",
       "      <td>0</td>\n",
       "      <td>1</td>\n",
       "    </tr>\n",
       "    <tr>\n",
       "      <th>1</th>\n",
       "      <td>11.728241</td>\n",
       "      <td>6.853981</td>\n",
       "      <td>9.093163</td>\n",
       "      <td>6.189151</td>\n",
       "      <td>9.775104</td>\n",
       "      <td>5.891141</td>\n",
       "      <td>5.644219</td>\n",
       "      <td>6.445037</td>\n",
       "      <td>7.500848</td>\n",
       "      <td>10.140590</td>\n",
       "      <td>...</td>\n",
       "      <td>1</td>\n",
       "      <td>43</td>\n",
       "      <td>1</td>\n",
       "      <td>0</td>\n",
       "      <td>1</td>\n",
       "      <td>3</td>\n",
       "      <td>1.0</td>\n",
       "      <td>0</td>\n",
       "      <td>1</td>\n",
       "      <td>0</td>\n",
       "    </tr>\n",
       "    <tr>\n",
       "      <th>2</th>\n",
       "      <td>11.122611</td>\n",
       "      <td>5.322075</td>\n",
       "      <td>11.719898</td>\n",
       "      <td>6.121027</td>\n",
       "      <td>8.733519</td>\n",
       "      <td>6.321382</td>\n",
       "      <td>6.011898</td>\n",
       "      <td>6.702699</td>\n",
       "      <td>7.682648</td>\n",
       "      <td>9.736608</td>\n",
       "      <td>...</td>\n",
       "      <td>1</td>\n",
       "      <td>15</td>\n",
       "      <td>0</td>\n",
       "      <td>0</td>\n",
       "      <td>0</td>\n",
       "      <td>2</td>\n",
       "      <td>1.0</td>\n",
       "      <td>0</td>\n",
       "      <td>1</td>\n",
       "      <td>0</td>\n",
       "    </tr>\n",
       "    <tr>\n",
       "      <th>3</th>\n",
       "      <td>11.246158</td>\n",
       "      <td>7.200805</td>\n",
       "      <td>10.488210</td>\n",
       "      <td>5.921079</td>\n",
       "      <td>9.480574</td>\n",
       "      <td>5.598995</td>\n",
       "      <td>5.923112</td>\n",
       "      <td>6.411695</td>\n",
       "      <td>7.998787</td>\n",
       "      <td>10.009468</td>\n",
       "      <td>...</td>\n",
       "      <td>1</td>\n",
       "      <td>20</td>\n",
       "      <td>1</td>\n",
       "      <td>0</td>\n",
       "      <td>1</td>\n",
       "      <td>3</td>\n",
       "      <td>0.5</td>\n",
       "      <td>1</td>\n",
       "      <td>0</td>\n",
       "      <td>0</td>\n",
       "    </tr>\n",
       "    <tr>\n",
       "      <th>4</th>\n",
       "      <td>9.744005</td>\n",
       "      <td>5.481691</td>\n",
       "      <td>11.031849</td>\n",
       "      <td>5.826471</td>\n",
       "      <td>8.732274</td>\n",
       "      <td>5.873227</td>\n",
       "      <td>5.495358</td>\n",
       "      <td>6.243658</td>\n",
       "      <td>7.719020</td>\n",
       "      <td>9.327830</td>\n",
       "      <td>...</td>\n",
       "      <td>1</td>\n",
       "      <td>30</td>\n",
       "      <td>1</td>\n",
       "      <td>0</td>\n",
       "      <td>1</td>\n",
       "      <td>2</td>\n",
       "      <td>1.0</td>\n",
       "      <td>1</td>\n",
       "      <td>0</td>\n",
       "      <td>1</td>\n",
       "    </tr>\n",
       "  </tbody>\n",
       "</table>\n",
       "<p>5 rows × 31 columns</p>\n",
       "</div>"
      ],
      "text/plain": [
       "        ESR1       PGR      ERBB2     MKI67      PLAU    ELAVL1      EGFR  \\\n",
       "0  11.445577  5.383985  10.523773  5.878819  7.376048  6.224054  5.730411   \n",
       "1  11.728241  6.853981   9.093163  6.189151  9.775104  5.891141  5.644219   \n",
       "2  11.122611  5.322075  11.719898  6.121027  8.733519  6.321382  6.011898   \n",
       "3  11.246158  7.200805  10.488210  5.921079  9.480574  5.598995  5.923112   \n",
       "4   9.744005  5.481691  11.031849  5.826471  8.732274  5.873227  5.495358   \n",
       "\n",
       "       BTRC     FBXO6      SHMT2  ...  Menopausal State  Size  Radio Therapy  \\\n",
       "0  6.937679  7.314421   9.496653  ...                 1    43              1   \n",
       "1  6.445037  7.500848  10.140590  ...                 1    43              1   \n",
       "2  6.702699  7.682648   9.736608  ...                 1    15              0   \n",
       "3  6.411695  7.998787  10.009468  ...                 1    20              1   \n",
       "4  6.243658  7.719020   9.327830  ...                 1    30              1   \n",
       "\n",
       "   Chemotherapy  Hormone Therapy  Neoplasm Histologic Grade  Cellularity  \\\n",
       "0             0                0                          1          0.5   \n",
       "1             0                1                          3          1.0   \n",
       "2             0                0                          2          1.0   \n",
       "3             0                1                          3          0.5   \n",
       "4             0                1                          2          1.0   \n",
       "\n",
       "   Surgery-breast conserving  Surgery-mastectomy  Label  \n",
       "0                          1                   0      1  \n",
       "1                          0                   1      0  \n",
       "2                          0                   1      0  \n",
       "3                          1                   0      0  \n",
       "4                          1                   0      1  \n",
       "\n",
       "[5 rows x 31 columns]"
      ]
     },
     "execution_count": 66,
     "metadata": {},
     "output_type": "execute_result"
    }
   ],
   "source": [
    "train_data.head()"
   ]
  },
  {
   "cell_type": "code",
   "execution_count": 67,
   "metadata": {},
   "outputs": [],
   "source": [
    "full_X_train = train_data.drop(columns=['Label'])\n",
    "full_y_train = train_data['Label']\n",
    "\n",
    "# Use the validation data as test data\n",
    "X_test = val_data.drop(columns=['Label'])\n",
    "y_test = val_data['Label']"
   ]
  },
  {
   "cell_type": "markdown",
   "metadata": {},
   "source": [
    "## Data configuration"
   ]
  },
  {
   "cell_type": "code",
   "execution_count": 68,
   "metadata": {},
   "outputs": [
    {
     "name": "stdout",
     "output_type": "stream",
     "text": [
      "Training data shape: (297, 30)\n",
      "Validation data shape: (75, 30)\n"
     ]
    }
   ],
   "source": [
    "# Split the train_data into training and validation sets\n",
    "X_train, X_val, y_train, y_val = train_test_split(\n",
    "    full_X_train,\n",
    "    full_y_train,\n",
    "    test_size=0.2,\n",
    "    random_state=42,\n",
    "    stratify=full_y_train)\n",
    "\n",
    "print(f'Training data shape: {X_train.shape}')\n",
    "print(f'Validation data shape: {X_val.shape}')"
   ]
  },
  {
   "cell_type": "markdown",
   "metadata": {},
   "source": [
    "## Model configuration"
   ]
  },
  {
   "cell_type": "code",
   "execution_count": 69,
   "metadata": {},
   "outputs": [],
   "source": [
    "metric = \"accuracy_score\"\n",
    "input_dim = X_train.shape[1]\n",
    "pretraining_head_dim = 1024\n",
    "output_dim = 2\n",
    "head_depth = 2\n",
    "dropout_rate = 0.05\n",
    "\n",
    "corruption_rate = 0.6\n",
    "\n",
    "batch_size = 128\n",
    "max_epochs = 20\n",
    "\n",
    "embedding_config = IdentityEmbeddingConfig(input_dim = input_dim)\n",
    "backbone_config = MLPBackboneConfig(input_dim = embedding_config.output_dim)"
   ]
  },
  {
   "cell_type": "code",
   "execution_count": 70,
   "metadata": {},
   "outputs": [],
   "source": [
    "config = SCARFConfig( \n",
    "    task=\"classification\",\n",
    "    loss_fn=\"CrossEntropyLoss\",\n",
    "    metric=metric, metric_hparams={},\n",
    "    embedding_config=embedding_config,\n",
    "    backbone_config=backbone_config,\n",
    "    pretraining_head_dim=pretraining_head_dim,\n",
    "    output_dim=output_dim,\n",
    "    head_depth=head_depth,\n",
    "    dropout_rate=dropout_rate,\n",
    "    corruption_rate = corruption_rate\n",
    ")"
   ]
  },
  {
   "cell_type": "markdown",
   "metadata": {},
   "source": [
    "## Model training: 1st phase"
   ]
  },
  {
   "cell_type": "code",
   "execution_count": 71,
   "metadata": {},
   "outputs": [],
   "source": [
    "### First Phase Learning\n",
    "train_ds = SCARFDataset(\n",
    "    X_train,\n",
    "    unlabeled_data=unlabelled_data,\n",
    "    config = config,\n",
    "    continuous_cols=numerical_cols,\n",
    "    category_cols=categorical_cols)\n",
    "\n",
    "valid_ds = SCARFDataset(\n",
    "    X_val,\n",
    "    config=config,\n",
    "    continuous_cols=numerical_cols,\n",
    "    category_cols=categorical_cols\n",
    ")\n",
    "\n",
    "datamodule = TS3LDataModule(train_ds, valid_ds, batch_size=batch_size, train_sampler=\"random\", n_jobs=8)\n"
   ]
  },
  {
   "cell_type": "code",
   "execution_count": 72,
   "metadata": {},
   "outputs": [
    {
     "name": "stderr",
     "output_type": "stream",
     "text": [
      "Seed set to 42\n",
      "GPU available: False, used: False\n",
      "TPU available: False, using: 0 TPU cores\n",
      "HPU available: False, using: 0 HPUs\n",
      "\n",
      "  | Name             | Type             | Params | Mode \n",
      "--------------------------------------------------------------\n",
      "0 | task_loss_fn     | CrossEntropyLoss | 0      | train\n",
      "1 | contrastive_loss | NTXentLoss       | 0      | train\n",
      "2 | model            | SCARF            | 1.2 M  | train\n",
      "--------------------------------------------------------------\n",
      "1.2 M     Trainable params\n",
      "0         Non-trainable params\n",
      "1.2 M     Total params\n",
      "4.820     Total estimated model params size (MB)\n",
      "23        Modules in train mode\n",
      "0         Modules in eval mode\n"
     ]
    },
    {
     "name": "stdout",
     "output_type": "stream",
     "text": [
      "                                                                           \r"
     ]
    },
    {
     "name": "stderr",
     "output_type": "stream",
     "text": [
      "/home/sonk/envs/pandas/lib/python3.10/site-packages/pytorch_lightning/loops/fit_loop.py:298: The number of training batches (12) is smaller than the logging interval Trainer(log_every_n_steps=50). Set a lower value for log_every_n_steps if you want to see logs for the training epoch.\n"
     ]
    },
    {
     "name": "stdout",
     "output_type": "stream",
     "text": [
      "Epoch 0: 100%|██████████| 12/12 [00:15<00:00,  0.75it/s, v_num=128, train_loss=5.360, val_loss=4.550]"
     ]
    },
    {
     "name": "stderr",
     "output_type": "stream",
     "text": [
      "Metric val_loss improved. New best score: 4.547\n"
     ]
    },
    {
     "name": "stdout",
     "output_type": "stream",
     "text": [
      "Epoch 1: 100%|██████████| 12/12 [00:17<00:00,  0.69it/s, v_num=128, train_loss=5.220, val_loss=4.260]"
     ]
    },
    {
     "name": "stderr",
     "output_type": "stream",
     "text": [
      "Metric val_loss improved by 0.282 >= min_delta = 0.0. New best score: 4.264\n"
     ]
    },
    {
     "name": "stdout",
     "output_type": "stream",
     "text": [
      "Epoch 4: 100%|██████████| 12/12 [00:15<00:00,  0.78it/s, v_num=128, train_loss=5.170, val_loss=4.570]"
     ]
    },
    {
     "name": "stderr",
     "output_type": "stream",
     "text": [
      "Monitored metric val_loss did not improve in the last 3 records. Best score: 4.264. Signaling Trainer to stop.\n"
     ]
    },
    {
     "name": "stdout",
     "output_type": "stream",
     "text": [
      "Epoch 4: 100%|██████████| 12/12 [00:15<00:00,  0.77it/s, v_num=128, train_loss=5.170, val_loss=4.570]\n"
     ]
    }
   ],
   "source": [
    "from pytorch_lightning.callbacks import EarlyStopping\n",
    "# Define early stopping callback\n",
    "early_stopping = EarlyStopping(\n",
    "    monitor='val_loss',  # Metric to monitor\n",
    "    patience=3,          # Number of epochs with no improvement after which training will be stopped\n",
    "    verbose=True,\n",
    "    mode='min'           # Mode can be 'min' or 'max' depending on the metric\n",
    ")\n",
    "\n",
    "pl_scarf = SCARFLightning(config)\n",
    "\n",
    "trainer = Trainer(\n",
    "    accelerator = 'cpu',\n",
    "    max_epochs = max_epochs,\n",
    "    num_sanity_val_steps = 2,\n",
    "    callbacks = [early_stopping]\n",
    "    )\n",
    "\n",
    "trainer.fit(pl_scarf, datamodule)"
   ]
  },
  {
   "cell_type": "markdown",
   "metadata": {},
   "source": [
    "## Model training: 2nd phase"
   ]
  },
  {
   "cell_type": "code",
   "execution_count": 73,
   "metadata": {},
   "outputs": [],
   "source": [
    "### Second Phase Learning\n",
    "\n",
    "pl_scarf.set_second_phase()\n"
   ]
  },
  {
   "cell_type": "code",
   "execution_count": 74,
   "metadata": {},
   "outputs": [],
   "source": [
    "train_ds = SCARFDataset(\n",
    "    X_train,\n",
    "    y_train.values,\n",
    "    continuous_cols=numerical_cols,\n",
    "    category_cols=categorical_cols,\n",
    "    is_second_phase=True)\n",
    "\n",
    "valid_ds = SCARFDataset(\n",
    "    X_val,\n",
    "    y_val.values,\n",
    "    continuous_cols=numerical_cols,\n",
    "    category_cols=categorical_cols,\n",
    "    is_second_phase=True)\n",
    "\n",
    "datamodule = TS3LDataModule(train_ds, valid_ds, batch_size = batch_size, train_sampler=\"weighted\", n_jobs=8)\n"
   ]
  },
  {
   "cell_type": "code",
   "execution_count": 75,
   "metadata": {},
   "outputs": [
    {
     "name": "stderr",
     "output_type": "stream",
     "text": [
      "GPU available: False, used: False\n",
      "TPU available: False, using: 0 TPU cores\n",
      "HPU available: False, using: 0 HPUs\n",
      "\n",
      "  | Name             | Type             | Params | Mode \n",
      "--------------------------------------------------------------\n",
      "0 | task_loss_fn     | CrossEntropyLoss | 0      | train\n",
      "1 | contrastive_loss | NTXentLoss       | 0      | train\n",
      "2 | model            | SCARF            | 1.2 M  | train\n",
      "--------------------------------------------------------------\n",
      "1.2 M     Trainable params\n",
      "0         Non-trainable params\n",
      "1.2 M     Total params\n",
      "4.820     Total estimated model params size (MB)\n",
      "23        Modules in train mode\n",
      "0         Modules in eval mode\n"
     ]
    },
    {
     "name": "stdout",
     "output_type": "stream",
     "text": [
      "                                                                           \r"
     ]
    },
    {
     "name": "stderr",
     "output_type": "stream",
     "text": [
      "/home/sonk/envs/pandas/lib/python3.10/site-packages/pytorch_lightning/loops/fit_loop.py:298: The number of training batches (3) is smaller than the logging interval Trainer(log_every_n_steps=50). Set a lower value for log_every_n_steps if you want to see logs for the training epoch.\n"
     ]
    },
    {
     "name": "stdout",
     "output_type": "stream",
     "text": [
      "Epoch 0: 100%|██████████| 3/3 [00:00<00:00,  8.61it/s, v_num=129, train_loss=0.857, train_accuracy_score=0.549, val_accuracy_score=0.560, val_loss=0.709]"
     ]
    },
    {
     "name": "stderr",
     "output_type": "stream",
     "text": [
      "Metric val_loss improved by 3.555 >= min_delta = 0.0. New best score: 0.709\n"
     ]
    },
    {
     "name": "stdout",
     "output_type": "stream",
     "text": [
      "Epoch 1: 100%|██████████| 3/3 [00:00<00:00,  5.43it/s, v_num=129, train_loss=0.776, train_accuracy_score=0.576, val_accuracy_score=0.627, val_loss=0.689]"
     ]
    },
    {
     "name": "stderr",
     "output_type": "stream",
     "text": [
      "Metric val_loss improved by 0.020 >= min_delta = 0.0. New best score: 0.689\n"
     ]
    },
    {
     "name": "stdout",
     "output_type": "stream",
     "text": [
      "Epoch 2: 100%|██████████| 3/3 [00:00<00:00,  5.74it/s, v_num=129, train_loss=0.869, train_accuracy_score=0.566, val_accuracy_score=0.587, val_loss=0.681]"
     ]
    },
    {
     "name": "stderr",
     "output_type": "stream",
     "text": [
      "Metric val_loss improved by 0.008 >= min_delta = 0.0. New best score: 0.681\n"
     ]
    },
    {
     "name": "stdout",
     "output_type": "stream",
     "text": [
      "Epoch 3: 100%|██████████| 3/3 [00:00<00:00,  5.71it/s, v_num=129, train_loss=0.846, train_accuracy_score=0.522, val_accuracy_score=0.627, val_loss=0.675]"
     ]
    },
    {
     "name": "stderr",
     "output_type": "stream",
     "text": [
      "Metric val_loss improved by 0.006 >= min_delta = 0.0. New best score: 0.675\n"
     ]
    },
    {
     "name": "stdout",
     "output_type": "stream",
     "text": [
      "Epoch 4: 100%|██████████| 3/3 [00:00<00:00,  5.61it/s, v_num=129, train_loss=0.896, train_accuracy_score=0.485, val_accuracy_score=0.573, val_loss=0.671]"
     ]
    },
    {
     "name": "stderr",
     "output_type": "stream",
     "text": [
      "Metric val_loss improved by 0.004 >= min_delta = 0.0. New best score: 0.671\n"
     ]
    },
    {
     "name": "stdout",
     "output_type": "stream",
     "text": [
      "Epoch 5: 100%|██████████| 3/3 [00:00<00:00,  5.48it/s, v_num=129, train_loss=0.805, train_accuracy_score=0.572, val_accuracy_score=0.587, val_loss=0.670]"
     ]
    },
    {
     "name": "stderr",
     "output_type": "stream",
     "text": [
      "Metric val_loss improved by 0.001 >= min_delta = 0.0. New best score: 0.670\n"
     ]
    },
    {
     "name": "stdout",
     "output_type": "stream",
     "text": [
      "Epoch 7: 100%|██████████| 3/3 [00:00<00:00,  5.08it/s, v_num=129, train_loss=0.791, train_accuracy_score=0.599, val_accuracy_score=0.587, val_loss=0.668]"
     ]
    },
    {
     "name": "stderr",
     "output_type": "stream",
     "text": [
      "Metric val_loss improved by 0.002 >= min_delta = 0.0. New best score: 0.668\n"
     ]
    },
    {
     "name": "stdout",
     "output_type": "stream",
     "text": [
      "Epoch 8: 100%|██████████| 3/3 [00:00<00:00,  5.77it/s, v_num=129, train_loss=0.773, train_accuracy_score=0.566, val_accuracy_score=0.547, val_loss=0.666]"
     ]
    },
    {
     "name": "stderr",
     "output_type": "stream",
     "text": [
      "Metric val_loss improved by 0.001 >= min_delta = 0.0. New best score: 0.666\n"
     ]
    },
    {
     "name": "stdout",
     "output_type": "stream",
     "text": [
      "Epoch 9: 100%|██████████| 3/3 [00:00<00:00,  5.48it/s, v_num=129, train_loss=0.815, train_accuracy_score=0.556, val_accuracy_score=0.560, val_loss=0.664]"
     ]
    },
    {
     "name": "stderr",
     "output_type": "stream",
     "text": [
      "Metric val_loss improved by 0.002 >= min_delta = 0.0. New best score: 0.664\n"
     ]
    },
    {
     "name": "stdout",
     "output_type": "stream",
     "text": [
      "Epoch 10: 100%|██████████| 3/3 [00:00<00:00,  5.38it/s, v_num=129, train_loss=0.839, train_accuracy_score=0.596, val_accuracy_score=0.573, val_loss=0.664]"
     ]
    },
    {
     "name": "stderr",
     "output_type": "stream",
     "text": [
      "Metric val_loss improved by 0.000 >= min_delta = 0.0. New best score: 0.664\n"
     ]
    },
    {
     "name": "stdout",
     "output_type": "stream",
     "text": [
      "Epoch 12: 100%|██████████| 3/3 [00:00<00:00,  5.81it/s, v_num=129, train_loss=0.774, train_accuracy_score=0.593, val_accuracy_score=0.587, val_loss=0.662]"
     ]
    },
    {
     "name": "stderr",
     "output_type": "stream",
     "text": [
      "Metric val_loss improved by 0.002 >= min_delta = 0.0. New best score: 0.662\n"
     ]
    },
    {
     "name": "stdout",
     "output_type": "stream",
     "text": [
      "Epoch 13: 100%|██████████| 3/3 [00:00<00:00,  5.79it/s, v_num=129, train_loss=0.775, train_accuracy_score=0.586, val_accuracy_score=0.587, val_loss=0.658]"
     ]
    },
    {
     "name": "stderr",
     "output_type": "stream",
     "text": [
      "Metric val_loss improved by 0.003 >= min_delta = 0.0. New best score: 0.658\n"
     ]
    },
    {
     "name": "stdout",
     "output_type": "stream",
     "text": [
      "Epoch 15: 100%|██████████| 3/3 [00:00<00:00,  5.78it/s, v_num=129, train_loss=0.814, train_accuracy_score=0.596, val_accuracy_score=0.613, val_loss=0.656]"
     ]
    },
    {
     "name": "stderr",
     "output_type": "stream",
     "text": [
      "Metric val_loss improved by 0.002 >= min_delta = 0.0. New best score: 0.656\n"
     ]
    },
    {
     "name": "stdout",
     "output_type": "stream",
     "text": [
      "Epoch 18: 100%|██████████| 3/3 [00:00<00:00,  5.72it/s, v_num=129, train_loss=0.793, train_accuracy_score=0.566, val_accuracy_score=0.613, val_loss=0.657]"
     ]
    },
    {
     "name": "stderr",
     "output_type": "stream",
     "text": [
      "Monitored metric val_loss did not improve in the last 3 records. Best score: 0.656. Signaling Trainer to stop.\n"
     ]
    },
    {
     "name": "stdout",
     "output_type": "stream",
     "text": [
      "Epoch 18: 100%|██████████| 3/3 [00:00<00:00,  5.24it/s, v_num=129, train_loss=0.793, train_accuracy_score=0.566, val_accuracy_score=0.613, val_loss=0.657]\n"
     ]
    }
   ],
   "source": [
    "trainer = Trainer(\n",
    "                    accelerator = 'cpu',\n",
    "                    max_epochs = max_epochs,\n",
    "                    num_sanity_val_steps = 2,\n",
    "                    callbacks = [early_stopping]\n",
    "    )\n",
    "\n",
    "trainer.fit(pl_scarf, datamodule)"
   ]
  },
  {
   "cell_type": "markdown",
   "metadata": {},
   "source": [
    "## Evaluation"
   ]
  },
  {
   "cell_type": "code",
   "execution_count": 76,
   "metadata": {},
   "outputs": [],
   "source": [
    "test_ds = SCARFDataset(\n",
    "    X_test,\n",
    "    continuous_cols=numerical_cols,\n",
    "    category_cols=categorical_cols,\n",
    "    is_second_phase=True)\n",
    "\n",
    "test_dl = DataLoader(\n",
    "    test_ds,\n",
    "    batch_size,\n",
    "    shuffle=False,\n",
    "    sampler=SequentialSampler(test_ds),\n",
    "    num_workers=8)\n"
   ]
  },
  {
   "cell_type": "code",
   "execution_count": 78,
   "metadata": {},
   "outputs": [
    {
     "name": "stdout",
     "output_type": "stream",
     "text": [
      "Predicting DataLoader 0: 100%|██████████| 1/1 [00:00<00:00, 369.18it/s]\n",
      "Accuracy 0.63\n"
     ]
    }
   ],
   "source": [
    "preds = trainer.predict(pl_scarf, test_dl)\n",
    "        \n",
    "preds = F.softmax(torch.concat([out.cpu() for out in preds]).squeeze(),dim=1)\n",
    "\n",
    "accuracy = accuracy_score(y_test, preds.argmax(1))\n",
    "\n",
    "print(\"Accuracy %.2f\" % accuracy)"
   ]
  },
  {
   "cell_type": "markdown",
   "metadata": {},
   "source": [
    "## Label prediction"
   ]
  },
  {
   "cell_type": "code",
   "execution_count": 79,
   "metadata": {},
   "outputs": [],
   "source": [
    "unlabelled_ds = SCARFDataset(\n",
    "    X=unlabelled_data,\n",
    "    config=config,\n",
    "    continuous_cols=numerical_cols,\n",
    "    category_cols=categorical_cols)\n",
    "\n",
    "unlabelled_dl = DataLoader(\n",
    "    unlabelled_ds,\n",
    "    batch_size,\n",
    "    shuffle=False,\n",
    "    sampler=SequentialSampler(unlabelled_ds)\n",
    ")"
   ]
  },
  {
   "cell_type": "code",
   "execution_count": 80,
   "metadata": {},
   "outputs": [
    {
     "name": "stderr",
     "output_type": "stream",
     "text": [
      "/home/sonk/envs/pandas/lib/python3.10/site-packages/pytorch_lightning/trainer/connectors/data_connector.py:424: The 'predict_dataloader' does not have many workers which may be a bottleneck. Consider increasing the value of the `num_workers` argument` to `num_workers=11` in the `DataLoader` to improve performance.\n"
     ]
    },
    {
     "name": "stdout",
     "output_type": "stream",
     "text": [
      "Predicting DataLoader 0: 100%|██████████| 10/10 [00:00<00:00, 96.02it/s]\n"
     ]
    },
    {
     "data": {
      "text/html": [
       "<div>\n",
       "<style scoped>\n",
       "    .dataframe tbody tr th:only-of-type {\n",
       "        vertical-align: middle;\n",
       "    }\n",
       "\n",
       "    .dataframe tbody tr th {\n",
       "        vertical-align: top;\n",
       "    }\n",
       "\n",
       "    .dataframe thead th {\n",
       "        text-align: right;\n",
       "    }\n",
       "</style>\n",
       "<table border=\"1\" class=\"dataframe\">\n",
       "  <thead>\n",
       "    <tr style=\"text-align: right;\">\n",
       "      <th></th>\n",
       "      <th>label</th>\n",
       "      <th>confidence</th>\n",
       "    </tr>\n",
       "  </thead>\n",
       "  <tbody>\n",
       "    <tr>\n",
       "      <th>0</th>\n",
       "      <td>0</td>\n",
       "      <td>0.592871</td>\n",
       "    </tr>\n",
       "    <tr>\n",
       "      <th>1</th>\n",
       "      <td>1</td>\n",
       "      <td>0.516037</td>\n",
       "    </tr>\n",
       "    <tr>\n",
       "      <th>2</th>\n",
       "      <td>0</td>\n",
       "      <td>0.709010</td>\n",
       "    </tr>\n",
       "    <tr>\n",
       "      <th>3</th>\n",
       "      <td>0</td>\n",
       "      <td>0.524126</td>\n",
       "    </tr>\n",
       "    <tr>\n",
       "      <th>4</th>\n",
       "      <td>0</td>\n",
       "      <td>0.669345</td>\n",
       "    </tr>\n",
       "    <tr>\n",
       "      <th>...</th>\n",
       "      <td>...</td>\n",
       "      <td>...</td>\n",
       "    </tr>\n",
       "    <tr>\n",
       "      <th>1163</th>\n",
       "      <td>0</td>\n",
       "      <td>0.761280</td>\n",
       "    </tr>\n",
       "    <tr>\n",
       "      <th>1164</th>\n",
       "      <td>0</td>\n",
       "      <td>0.612800</td>\n",
       "    </tr>\n",
       "    <tr>\n",
       "      <th>1165</th>\n",
       "      <td>1</td>\n",
       "      <td>0.588077</td>\n",
       "    </tr>\n",
       "    <tr>\n",
       "      <th>1166</th>\n",
       "      <td>0</td>\n",
       "      <td>0.695925</td>\n",
       "    </tr>\n",
       "    <tr>\n",
       "      <th>1167</th>\n",
       "      <td>0</td>\n",
       "      <td>0.650895</td>\n",
       "    </tr>\n",
       "  </tbody>\n",
       "</table>\n",
       "<p>1168 rows × 2 columns</p>\n",
       "</div>"
      ],
      "text/plain": [
       "      label  confidence\n",
       "0         0    0.592871\n",
       "1         1    0.516037\n",
       "2         0    0.709010\n",
       "3         0    0.524126\n",
       "4         0    0.669345\n",
       "...     ...         ...\n",
       "1163      0    0.761280\n",
       "1164      0    0.612800\n",
       "1165      1    0.588077\n",
       "1166      0    0.695925\n",
       "1167      0    0.650895\n",
       "\n",
       "[1168 rows x 2 columns]"
      ]
     },
     "execution_count": 80,
     "metadata": {},
     "output_type": "execute_result"
    }
   ],
   "source": [
    "preds = trainer.predict(pl_scarf, unlabelled_dl)\n",
    "preds = F.softmax(torch.concat([out.cpu() for out in preds]).squeeze(),dim=1)\n",
    "\n",
    "predicted_labels = preds.argmax(1)\n",
    "associated_probabilities = preds[np.arange(preds.shape[0]), predicted_labels]\n",
    "\n",
    "pd.DataFrame({'label': predicted_labels, 'confidence': associated_probabilities})"
   ]
  },
  {
   "cell_type": "markdown",
   "metadata": {},
   "source": [
    "## Data export"
   ]
  },
  {
   "cell_type": "code",
   "execution_count": 81,
   "metadata": {},
   "outputs": [
    {
     "data": {
      "text/html": [
       "<div>\n",
       "<style scoped>\n",
       "    .dataframe tbody tr th:only-of-type {\n",
       "        vertical-align: middle;\n",
       "    }\n",
       "\n",
       "    .dataframe tbody tr th {\n",
       "        vertical-align: top;\n",
       "    }\n",
       "\n",
       "    .dataframe thead th {\n",
       "        text-align: right;\n",
       "    }\n",
       "</style>\n",
       "<table border=\"1\" class=\"dataframe\">\n",
       "  <thead>\n",
       "    <tr style=\"text-align: right;\">\n",
       "      <th></th>\n",
       "      <th>ESR1</th>\n",
       "      <th>PGR</th>\n",
       "      <th>ERBB2</th>\n",
       "      <th>MKI67</th>\n",
       "      <th>PLAU</th>\n",
       "      <th>ELAVL1</th>\n",
       "      <th>EGFR</th>\n",
       "      <th>BTRC</th>\n",
       "      <th>FBXO6</th>\n",
       "      <th>SHMT2</th>\n",
       "      <th>...</th>\n",
       "      <th>Hormone Therapy</th>\n",
       "      <th>Neoplasm Histologic Grade</th>\n",
       "      <th>Cellularity</th>\n",
       "      <th>Surgery-breast conserving</th>\n",
       "      <th>Surgery-mastectomy</th>\n",
       "      <th>Label</th>\n",
       "      <th>DssTime</th>\n",
       "      <th>Event</th>\n",
       "      <th>auto_id</th>\n",
       "      <th>Confidence</th>\n",
       "    </tr>\n",
       "  </thead>\n",
       "  <tbody>\n",
       "    <tr>\n",
       "      <th>0</th>\n",
       "      <td>11.445577</td>\n",
       "      <td>5.383985</td>\n",
       "      <td>10.523773</td>\n",
       "      <td>5.878819</td>\n",
       "      <td>7.376048</td>\n",
       "      <td>6.224054</td>\n",
       "      <td>5.730411</td>\n",
       "      <td>6.937679</td>\n",
       "      <td>7.314421</td>\n",
       "      <td>9.496653</td>\n",
       "      <td>...</td>\n",
       "      <td>0</td>\n",
       "      <td>1</td>\n",
       "      <td>0.5</td>\n",
       "      <td>1</td>\n",
       "      <td>0</td>\n",
       "      <td>1</td>\n",
       "      <td>52.733333</td>\n",
       "      <td>1</td>\n",
       "      <td>1271</td>\n",
       "      <td>1.0</td>\n",
       "    </tr>\n",
       "    <tr>\n",
       "      <th>1</th>\n",
       "      <td>11.728241</td>\n",
       "      <td>6.853981</td>\n",
       "      <td>9.093163</td>\n",
       "      <td>6.189151</td>\n",
       "      <td>9.775104</td>\n",
       "      <td>5.891141</td>\n",
       "      <td>5.644219</td>\n",
       "      <td>6.445037</td>\n",
       "      <td>7.500848</td>\n",
       "      <td>10.140590</td>\n",
       "      <td>...</td>\n",
       "      <td>1</td>\n",
       "      <td>3</td>\n",
       "      <td>1.0</td>\n",
       "      <td>0</td>\n",
       "      <td>1</td>\n",
       "      <td>0</td>\n",
       "      <td>61.100000</td>\n",
       "      <td>1</td>\n",
       "      <td>1050</td>\n",
       "      <td>1.0</td>\n",
       "    </tr>\n",
       "    <tr>\n",
       "      <th>2</th>\n",
       "      <td>11.122611</td>\n",
       "      <td>5.322075</td>\n",
       "      <td>11.719898</td>\n",
       "      <td>6.121027</td>\n",
       "      <td>8.733519</td>\n",
       "      <td>6.321382</td>\n",
       "      <td>6.011898</td>\n",
       "      <td>6.702699</td>\n",
       "      <td>7.682648</td>\n",
       "      <td>9.736608</td>\n",
       "      <td>...</td>\n",
       "      <td>0</td>\n",
       "      <td>2</td>\n",
       "      <td>1.0</td>\n",
       "      <td>0</td>\n",
       "      <td>1</td>\n",
       "      <td>0</td>\n",
       "      <td>94.033333</td>\n",
       "      <td>1</td>\n",
       "      <td>1300</td>\n",
       "      <td>1.0</td>\n",
       "    </tr>\n",
       "    <tr>\n",
       "      <th>3</th>\n",
       "      <td>11.246158</td>\n",
       "      <td>7.200805</td>\n",
       "      <td>10.488210</td>\n",
       "      <td>5.921079</td>\n",
       "      <td>9.480574</td>\n",
       "      <td>5.598995</td>\n",
       "      <td>5.923112</td>\n",
       "      <td>6.411695</td>\n",
       "      <td>7.998787</td>\n",
       "      <td>10.009468</td>\n",
       "      <td>...</td>\n",
       "      <td>1</td>\n",
       "      <td>3</td>\n",
       "      <td>0.5</td>\n",
       "      <td>1</td>\n",
       "      <td>0</td>\n",
       "      <td>0</td>\n",
       "      <td>118.133333</td>\n",
       "      <td>1</td>\n",
       "      <td>1156</td>\n",
       "      <td>1.0</td>\n",
       "    </tr>\n",
       "    <tr>\n",
       "      <th>4</th>\n",
       "      <td>9.744005</td>\n",
       "      <td>5.481691</td>\n",
       "      <td>11.031849</td>\n",
       "      <td>5.826471</td>\n",
       "      <td>8.732274</td>\n",
       "      <td>5.873227</td>\n",
       "      <td>5.495358</td>\n",
       "      <td>6.243658</td>\n",
       "      <td>7.719020</td>\n",
       "      <td>9.327830</td>\n",
       "      <td>...</td>\n",
       "      <td>1</td>\n",
       "      <td>2</td>\n",
       "      <td>1.0</td>\n",
       "      <td>1</td>\n",
       "      <td>0</td>\n",
       "      <td>1</td>\n",
       "      <td>27.066667</td>\n",
       "      <td>1</td>\n",
       "      <td>1458</td>\n",
       "      <td>1.0</td>\n",
       "    </tr>\n",
       "  </tbody>\n",
       "</table>\n",
       "<p>5 rows × 35 columns</p>\n",
       "</div>"
      ],
      "text/plain": [
       "        ESR1       PGR      ERBB2     MKI67      PLAU    ELAVL1      EGFR  \\\n",
       "0  11.445577  5.383985  10.523773  5.878819  7.376048  6.224054  5.730411   \n",
       "1  11.728241  6.853981   9.093163  6.189151  9.775104  5.891141  5.644219   \n",
       "2  11.122611  5.322075  11.719898  6.121027  8.733519  6.321382  6.011898   \n",
       "3  11.246158  7.200805  10.488210  5.921079  9.480574  5.598995  5.923112   \n",
       "4   9.744005  5.481691  11.031849  5.826471  8.732274  5.873227  5.495358   \n",
       "\n",
       "       BTRC     FBXO6      SHMT2  ...  Hormone Therapy  \\\n",
       "0  6.937679  7.314421   9.496653  ...                0   \n",
       "1  6.445037  7.500848  10.140590  ...                1   \n",
       "2  6.702699  7.682648   9.736608  ...                0   \n",
       "3  6.411695  7.998787  10.009468  ...                1   \n",
       "4  6.243658  7.719020   9.327830  ...                1   \n",
       "\n",
       "   Neoplasm Histologic Grade  Cellularity  Surgery-breast conserving  \\\n",
       "0                          1          0.5                          1   \n",
       "1                          3          1.0                          0   \n",
       "2                          2          1.0                          0   \n",
       "3                          3          0.5                          1   \n",
       "4                          2          1.0                          1   \n",
       "\n",
       "   Surgery-mastectomy  Label     DssTime  Event  auto_id  Confidence  \n",
       "0                   0      1   52.733333      1     1271         1.0  \n",
       "1                   1      0   61.100000      1     1050         1.0  \n",
       "2                   1      0   94.033333      1     1300         1.0  \n",
       "3                   0      0  118.133333      1     1156         1.0  \n",
       "4                   0      1   27.066667      1     1458         1.0  \n",
       "\n",
       "[5 rows x 35 columns]"
      ]
     },
     "execution_count": 81,
     "metadata": {},
     "output_type": "execute_result"
    }
   ],
   "source": [
    "unlabelled_data = pd.read_csv(UNLABELLED_DATA_PATH)\n",
    "train_data = pd.read_csv(TRAIN_DATA_PATH)\n",
    "train_data['Confidence'] = 1.0\n",
    "\n",
    "train_data.head()"
   ]
  },
  {
   "cell_type": "code",
   "execution_count": 82,
   "metadata": {},
   "outputs": [
    {
     "data": {
      "text/html": [
       "<div>\n",
       "<style scoped>\n",
       "    .dataframe tbody tr th:only-of-type {\n",
       "        vertical-align: middle;\n",
       "    }\n",
       "\n",
       "    .dataframe tbody tr th {\n",
       "        vertical-align: top;\n",
       "    }\n",
       "\n",
       "    .dataframe thead th {\n",
       "        text-align: right;\n",
       "    }\n",
       "</style>\n",
       "<table border=\"1\" class=\"dataframe\">\n",
       "  <thead>\n",
       "    <tr style=\"text-align: right;\">\n",
       "      <th></th>\n",
       "      <th>ESR1</th>\n",
       "      <th>PGR</th>\n",
       "      <th>ERBB2</th>\n",
       "      <th>MKI67</th>\n",
       "      <th>PLAU</th>\n",
       "      <th>ELAVL1</th>\n",
       "      <th>EGFR</th>\n",
       "      <th>BTRC</th>\n",
       "      <th>FBXO6</th>\n",
       "      <th>SHMT2</th>\n",
       "      <th>...</th>\n",
       "      <th>Radio Therapy</th>\n",
       "      <th>Chemotherapy</th>\n",
       "      <th>Hormone Therapy</th>\n",
       "      <th>Neoplasm Histologic Grade</th>\n",
       "      <th>Cellularity</th>\n",
       "      <th>Surgery-breast conserving</th>\n",
       "      <th>Surgery-mastectomy</th>\n",
       "      <th>auto_id</th>\n",
       "      <th>Label</th>\n",
       "      <th>Confidence</th>\n",
       "    </tr>\n",
       "  </thead>\n",
       "  <tbody>\n",
       "    <tr>\n",
       "      <th>0</th>\n",
       "      <td>10.047059</td>\n",
       "      <td>7.505424</td>\n",
       "      <td>9.729606</td>\n",
       "      <td>5.451007</td>\n",
       "      <td>8.474830</td>\n",
       "      <td>6.412419</td>\n",
       "      <td>5.899440</td>\n",
       "      <td>7.069394</td>\n",
       "      <td>7.100058</td>\n",
       "      <td>9.102318</td>\n",
       "      <td>...</td>\n",
       "      <td>1</td>\n",
       "      <td>0</td>\n",
       "      <td>1</td>\n",
       "      <td>3.0</td>\n",
       "      <td>1.0</td>\n",
       "      <td>1.0</td>\n",
       "      <td>0.0</td>\n",
       "      <td>2000</td>\n",
       "      <td>0</td>\n",
       "      <td>0.592871</td>\n",
       "    </tr>\n",
       "    <tr>\n",
       "      <th>1</th>\n",
       "      <td>10.404685</td>\n",
       "      <td>6.815637</td>\n",
       "      <td>10.334979</td>\n",
       "      <td>5.488309</td>\n",
       "      <td>9.994894</td>\n",
       "      <td>6.525927</td>\n",
       "      <td>5.585357</td>\n",
       "      <td>6.071653</td>\n",
       "      <td>7.810600</td>\n",
       "      <td>9.431167</td>\n",
       "      <td>...</td>\n",
       "      <td>1</td>\n",
       "      <td>1</td>\n",
       "      <td>1</td>\n",
       "      <td>2.0</td>\n",
       "      <td>0.5</td>\n",
       "      <td>0.0</td>\n",
       "      <td>1.0</td>\n",
       "      <td>2001</td>\n",
       "      <td>1</td>\n",
       "      <td>0.516037</td>\n",
       "    </tr>\n",
       "    <tr>\n",
       "      <th>2</th>\n",
       "      <td>10.793832</td>\n",
       "      <td>7.720952</td>\n",
       "      <td>9.276507</td>\n",
       "      <td>5.478224</td>\n",
       "      <td>8.184773</td>\n",
       "      <td>5.949741</td>\n",
       "      <td>5.743395</td>\n",
       "      <td>7.244882</td>\n",
       "      <td>7.781876</td>\n",
       "      <td>8.716918</td>\n",
       "      <td>...</td>\n",
       "      <td>1</td>\n",
       "      <td>1</td>\n",
       "      <td>1</td>\n",
       "      <td>2.0</td>\n",
       "      <td>0.5</td>\n",
       "      <td>1.0</td>\n",
       "      <td>0.0</td>\n",
       "      <td>2002</td>\n",
       "      <td>0</td>\n",
       "      <td>0.709010</td>\n",
       "    </tr>\n",
       "    <tr>\n",
       "      <th>3</th>\n",
       "      <td>10.440667</td>\n",
       "      <td>5.592522</td>\n",
       "      <td>8.613192</td>\n",
       "      <td>5.436625</td>\n",
       "      <td>8.210389</td>\n",
       "      <td>6.203913</td>\n",
       "      <td>5.852012</td>\n",
       "      <td>6.219653</td>\n",
       "      <td>7.560101</td>\n",
       "      <td>9.600030</td>\n",
       "      <td>...</td>\n",
       "      <td>1</td>\n",
       "      <td>0</td>\n",
       "      <td>1</td>\n",
       "      <td>2.0</td>\n",
       "      <td>0.5</td>\n",
       "      <td>1.0</td>\n",
       "      <td>0.0</td>\n",
       "      <td>2003</td>\n",
       "      <td>0</td>\n",
       "      <td>0.524126</td>\n",
       "    </tr>\n",
       "    <tr>\n",
       "      <th>4</th>\n",
       "      <td>12.521038</td>\n",
       "      <td>5.325554</td>\n",
       "      <td>10.678267</td>\n",
       "      <td>5.623786</td>\n",
       "      <td>7.786509</td>\n",
       "      <td>6.153012</td>\n",
       "      <td>5.502281</td>\n",
       "      <td>7.278257</td>\n",
       "      <td>7.674681</td>\n",
       "      <td>10.367760</td>\n",
       "      <td>...</td>\n",
       "      <td>1</td>\n",
       "      <td>0</td>\n",
       "      <td>1</td>\n",
       "      <td>3.0</td>\n",
       "      <td>0.5</td>\n",
       "      <td>1.0</td>\n",
       "      <td>0.0</td>\n",
       "      <td>2004</td>\n",
       "      <td>0</td>\n",
       "      <td>0.669345</td>\n",
       "    </tr>\n",
       "    <tr>\n",
       "      <th>...</th>\n",
       "      <td>...</td>\n",
       "      <td>...</td>\n",
       "      <td>...</td>\n",
       "      <td>...</td>\n",
       "      <td>...</td>\n",
       "      <td>...</td>\n",
       "      <td>...</td>\n",
       "      <td>...</td>\n",
       "      <td>...</td>\n",
       "      <td>...</td>\n",
       "      <td>...</td>\n",
       "      <td>...</td>\n",
       "      <td>...</td>\n",
       "      <td>...</td>\n",
       "      <td>...</td>\n",
       "      <td>...</td>\n",
       "      <td>...</td>\n",
       "      <td>...</td>\n",
       "      <td>...</td>\n",
       "      <td>...</td>\n",
       "      <td>...</td>\n",
       "    </tr>\n",
       "    <tr>\n",
       "      <th>1163</th>\n",
       "      <td>11.628490</td>\n",
       "      <td>5.570690</td>\n",
       "      <td>10.475695</td>\n",
       "      <td>6.032211</td>\n",
       "      <td>9.944405</td>\n",
       "      <td>5.865408</td>\n",
       "      <td>5.703147</td>\n",
       "      <td>6.649948</td>\n",
       "      <td>7.272166</td>\n",
       "      <td>9.750208</td>\n",
       "      <td>...</td>\n",
       "      <td>0</td>\n",
       "      <td>0</td>\n",
       "      <td>1</td>\n",
       "      <td>3.0</td>\n",
       "      <td>1.0</td>\n",
       "      <td>0.0</td>\n",
       "      <td>1.0</td>\n",
       "      <td>3163</td>\n",
       "      <td>0</td>\n",
       "      <td>0.761280</td>\n",
       "    </tr>\n",
       "    <tr>\n",
       "      <th>1164</th>\n",
       "      <td>10.879891</td>\n",
       "      <td>6.431113</td>\n",
       "      <td>10.219154</td>\n",
       "      <td>5.435795</td>\n",
       "      <td>9.224122</td>\n",
       "      <td>5.699195</td>\n",
       "      <td>5.825643</td>\n",
       "      <td>6.404899</td>\n",
       "      <td>7.385644</td>\n",
       "      <td>9.271953</td>\n",
       "      <td>...</td>\n",
       "      <td>0</td>\n",
       "      <td>0</td>\n",
       "      <td>1</td>\n",
       "      <td>3.0</td>\n",
       "      <td>1.0</td>\n",
       "      <td>0.0</td>\n",
       "      <td>1.0</td>\n",
       "      <td>3164</td>\n",
       "      <td>0</td>\n",
       "      <td>0.612800</td>\n",
       "    </tr>\n",
       "    <tr>\n",
       "      <th>1165</th>\n",
       "      <td>9.591235</td>\n",
       "      <td>7.984515</td>\n",
       "      <td>9.935179</td>\n",
       "      <td>5.605596</td>\n",
       "      <td>9.799519</td>\n",
       "      <td>5.808704</td>\n",
       "      <td>5.905282</td>\n",
       "      <td>6.491419</td>\n",
       "      <td>7.865526</td>\n",
       "      <td>9.741103</td>\n",
       "      <td>...</td>\n",
       "      <td>1</td>\n",
       "      <td>0</td>\n",
       "      <td>1</td>\n",
       "      <td>3.0</td>\n",
       "      <td>1.0</td>\n",
       "      <td>1.0</td>\n",
       "      <td>0.0</td>\n",
       "      <td>3165</td>\n",
       "      <td>1</td>\n",
       "      <td>0.588077</td>\n",
       "    </tr>\n",
       "    <tr>\n",
       "      <th>1166</th>\n",
       "      <td>11.055114</td>\n",
       "      <td>8.282737</td>\n",
       "      <td>9.892589</td>\n",
       "      <td>5.753274</td>\n",
       "      <td>8.687667</td>\n",
       "      <td>5.475813</td>\n",
       "      <td>5.587906</td>\n",
       "      <td>6.830579</td>\n",
       "      <td>8.468221</td>\n",
       "      <td>9.482622</td>\n",
       "      <td>...</td>\n",
       "      <td>0</td>\n",
       "      <td>0</td>\n",
       "      <td>1</td>\n",
       "      <td>2.0</td>\n",
       "      <td>0.5</td>\n",
       "      <td>0.0</td>\n",
       "      <td>1.0</td>\n",
       "      <td>3166</td>\n",
       "      <td>0</td>\n",
       "      <td>0.695925</td>\n",
       "    </tr>\n",
       "    <tr>\n",
       "      <th>1167</th>\n",
       "      <td>10.696475</td>\n",
       "      <td>5.533486</td>\n",
       "      <td>10.227787</td>\n",
       "      <td>5.588965</td>\n",
       "      <td>10.212643</td>\n",
       "      <td>6.633792</td>\n",
       "      <td>5.504219</td>\n",
       "      <td>6.468054</td>\n",
       "      <td>8.391464</td>\n",
       "      <td>9.812163</td>\n",
       "      <td>...</td>\n",
       "      <td>1</td>\n",
       "      <td>0</td>\n",
       "      <td>1</td>\n",
       "      <td>3.0</td>\n",
       "      <td>1.0</td>\n",
       "      <td>1.0</td>\n",
       "      <td>0.0</td>\n",
       "      <td>3167</td>\n",
       "      <td>0</td>\n",
       "      <td>0.650895</td>\n",
       "    </tr>\n",
       "  </tbody>\n",
       "</table>\n",
       "<p>1168 rows × 33 columns</p>\n",
       "</div>"
      ],
      "text/plain": [
       "           ESR1       PGR      ERBB2     MKI67       PLAU    ELAVL1      EGFR  \\\n",
       "0     10.047059  7.505424   9.729606  5.451007   8.474830  6.412419  5.899440   \n",
       "1     10.404685  6.815637  10.334979  5.488309   9.994894  6.525927  5.585357   \n",
       "2     10.793832  7.720952   9.276507  5.478224   8.184773  5.949741  5.743395   \n",
       "3     10.440667  5.592522   8.613192  5.436625   8.210389  6.203913  5.852012   \n",
       "4     12.521038  5.325554  10.678267  5.623786   7.786509  6.153012  5.502281   \n",
       "...         ...       ...        ...       ...        ...       ...       ...   \n",
       "1163  11.628490  5.570690  10.475695  6.032211   9.944405  5.865408  5.703147   \n",
       "1164  10.879891  6.431113  10.219154  5.435795   9.224122  5.699195  5.825643   \n",
       "1165   9.591235  7.984515   9.935179  5.605596   9.799519  5.808704  5.905282   \n",
       "1166  11.055114  8.282737   9.892589  5.753274   8.687667  5.475813  5.587906   \n",
       "1167  10.696475  5.533486  10.227787  5.588965  10.212643  6.633792  5.504219   \n",
       "\n",
       "          BTRC     FBXO6      SHMT2  ...  Radio Therapy  Chemotherapy  \\\n",
       "0     7.069394  7.100058   9.102318  ...              1             0   \n",
       "1     6.071653  7.810600   9.431167  ...              1             1   \n",
       "2     7.244882  7.781876   8.716918  ...              1             1   \n",
       "3     6.219653  7.560101   9.600030  ...              1             0   \n",
       "4     7.278257  7.674681  10.367760  ...              1             0   \n",
       "...        ...       ...        ...  ...            ...           ...   \n",
       "1163  6.649948  7.272166   9.750208  ...              0             0   \n",
       "1164  6.404899  7.385644   9.271953  ...              0             0   \n",
       "1165  6.491419  7.865526   9.741103  ...              1             0   \n",
       "1166  6.830579  8.468221   9.482622  ...              0             0   \n",
       "1167  6.468054  8.391464   9.812163  ...              1             0   \n",
       "\n",
       "      Hormone Therapy  Neoplasm Histologic Grade  Cellularity  \\\n",
       "0                   1                        3.0          1.0   \n",
       "1                   1                        2.0          0.5   \n",
       "2                   1                        2.0          0.5   \n",
       "3                   1                        2.0          0.5   \n",
       "4                   1                        3.0          0.5   \n",
       "...               ...                        ...          ...   \n",
       "1163                1                        3.0          1.0   \n",
       "1164                1                        3.0          1.0   \n",
       "1165                1                        3.0          1.0   \n",
       "1166                1                        2.0          0.5   \n",
       "1167                1                        3.0          1.0   \n",
       "\n",
       "      Surgery-breast conserving  Surgery-mastectomy  auto_id  Label  \\\n",
       "0                           1.0                 0.0     2000      0   \n",
       "1                           0.0                 1.0     2001      1   \n",
       "2                           1.0                 0.0     2002      0   \n",
       "3                           1.0                 0.0     2003      0   \n",
       "4                           1.0                 0.0     2004      0   \n",
       "...                         ...                 ...      ...    ...   \n",
       "1163                        0.0                 1.0     3163      0   \n",
       "1164                        0.0                 1.0     3164      0   \n",
       "1165                        1.0                 0.0     3165      1   \n",
       "1166                        0.0                 1.0     3166      0   \n",
       "1167                        1.0                 0.0     3167      0   \n",
       "\n",
       "      Confidence  \n",
       "0       0.592871  \n",
       "1       0.516037  \n",
       "2       0.709010  \n",
       "3       0.524126  \n",
       "4       0.669345  \n",
       "...          ...  \n",
       "1163    0.761280  \n",
       "1164    0.612800  \n",
       "1165    0.588077  \n",
       "1166    0.695925  \n",
       "1167    0.650895  \n",
       "\n",
       "[1168 rows x 33 columns]"
      ]
     },
     "execution_count": 82,
     "metadata": {},
     "output_type": "execute_result"
    }
   ],
   "source": [
    "unlabelled_data['Label'] = predicted_labels\n",
    "unlabelled_data['Confidence'] = associated_probabilities\n",
    "\n",
    "unlabelled_data"
   ]
  },
  {
   "cell_type": "code",
   "execution_count": 83,
   "metadata": {},
   "outputs": [],
   "source": [
    "combined_data = pd.concat([train_data, unlabelled_data], ignore_index=True)\n",
    "combined_data.sort_values(by='auto_id').to_csv(PSEUDO_LABELLED_DATA_PATH, index=False)"
   ]
  },
  {
   "cell_type": "code",
   "execution_count": 84,
   "metadata": {},
   "outputs": [
    {
     "data": {
      "text/plain": [
       "(1540, 35)"
      ]
     },
     "execution_count": 84,
     "metadata": {},
     "output_type": "execute_result"
    }
   ],
   "source": [
    "combined_data.shape"
   ]
  }
 ],
 "metadata": {
  "kernelspec": {
   "display_name": "pandas",
   "language": "python",
   "name": "python3"
  },
  "language_info": {
   "codemirror_mode": {
    "name": "ipython",
    "version": 3
   },
   "file_extension": ".py",
   "mimetype": "text/x-python",
   "name": "python",
   "nbconvert_exporter": "python",
   "pygments_lexer": "ipython3",
   "version": "3.10.12"
  }
 },
 "nbformat": 4,
 "nbformat_minor": 2
}
