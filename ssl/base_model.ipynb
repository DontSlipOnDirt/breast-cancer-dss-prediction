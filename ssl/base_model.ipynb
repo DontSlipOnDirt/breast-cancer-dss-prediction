{
 "cells": [
  {
   "cell_type": "code",
   "execution_count": 2,
   "metadata": {},
   "outputs": [],
   "source": [
    "# Prepare the VIMELightning Module\n",
    "from ts3l.pl_modules import VIMELightning\n",
    "from ts3l.utils.vime_utils import VIMEDataset\n",
    "from ts3l.utils import TS3LDataModule, get_category_cardinality\n",
    "from ts3l.utils.vime_utils import VIMEConfig\n",
    "from ts3l.utils.embedding_utils import IdentityEmbeddingConfig\n",
    "from ts3l.utils.backbone_utils import MLPBackboneConfig\n",
    "from pytorch_lightning import Trainer\n",
    "\n",
    "import pandas as pd"
   ]
  },
  {
   "cell_type": "code",
   "execution_count": 7,
   "metadata": {},
   "outputs": [
    {
     "name": "stdout",
     "output_type": "stream",
     "text": [
      "Train data shape: (465, 33)\n",
      "Test data shape: (117, 33)\n",
      "Unlabelled data shape: (1168, 30)\n"
     ]
    }
   ],
   "source": [
    "test_data = pd.read_csv('../data/test_data.csv')\n",
    "train_data = pd.read_csv('../data/train_data.csv')\n",
    "unlabelled_data = pd.read_csv('../data/unlabelled_data.csv')\n",
    "\n",
    "print(f'Train data shape: {train_data.shape}')\n",
    "print(f'Test data shape: {test_data.shape}')\n",
    "print(f'Unlabelled data shape: {unlabelled_data.shape}')"
   ]
  },
  {
   "cell_type": "code",
   "execution_count": 9,
   "metadata": {},
   "outputs": [
    {
     "data": {
      "text/html": [
       "<div>\n",
       "<style scoped>\n",
       "    .dataframe tbody tr th:only-of-type {\n",
       "        vertical-align: middle;\n",
       "    }\n",
       "\n",
       "    .dataframe tbody tr th {\n",
       "        vertical-align: top;\n",
       "    }\n",
       "\n",
       "    .dataframe thead th {\n",
       "        text-align: right;\n",
       "    }\n",
       "</style>\n",
       "<table border=\"1\" class=\"dataframe\">\n",
       "  <thead>\n",
       "    <tr style=\"text-align: right;\">\n",
       "      <th></th>\n",
       "      <th>ESR1</th>\n",
       "      <th>PGR</th>\n",
       "      <th>ERBB2</th>\n",
       "      <th>MKI67</th>\n",
       "      <th>PLAU</th>\n",
       "      <th>ELAVL1</th>\n",
       "      <th>EGFR</th>\n",
       "      <th>BTRC</th>\n",
       "      <th>FBXO6</th>\n",
       "      <th>SHMT2</th>\n",
       "      <th>...</th>\n",
       "      <th>Radio Therapy</th>\n",
       "      <th>Chemotherapy</th>\n",
       "      <th>Hormone Therapy</th>\n",
       "      <th>Neoplasm Histologic Grade</th>\n",
       "      <th>Cellularity</th>\n",
       "      <th>Surgery-breast conserving</th>\n",
       "      <th>Surgery-mastectomy</th>\n",
       "      <th>Label</th>\n",
       "      <th>DssTime</th>\n",
       "      <th>Event</th>\n",
       "    </tr>\n",
       "  </thead>\n",
       "  <tbody>\n",
       "    <tr>\n",
       "      <th>0</th>\n",
       "      <td>11.239750</td>\n",
       "      <td>5.954311</td>\n",
       "      <td>9.739996</td>\n",
       "      <td>6.046045</td>\n",
       "      <td>10.040187</td>\n",
       "      <td>5.905724</td>\n",
       "      <td>5.881255</td>\n",
       "      <td>6.538235</td>\n",
       "      <td>7.260572</td>\n",
       "      <td>10.774752</td>\n",
       "      <td>...</td>\n",
       "      <td>1</td>\n",
       "      <td>0</td>\n",
       "      <td>1</td>\n",
       "      <td>3</td>\n",
       "      <td>0.5</td>\n",
       "      <td>0</td>\n",
       "      <td>1</td>\n",
       "      <td>1</td>\n",
       "      <td>7.800000</td>\n",
       "      <td>1</td>\n",
       "    </tr>\n",
       "    <tr>\n",
       "      <th>1</th>\n",
       "      <td>10.927313</td>\n",
       "      <td>7.002502</td>\n",
       "      <td>10.033753</td>\n",
       "      <td>5.568993</td>\n",
       "      <td>8.306619</td>\n",
       "      <td>6.547491</td>\n",
       "      <td>5.733367</td>\n",
       "      <td>6.128118</td>\n",
       "      <td>7.917904</td>\n",
       "      <td>9.514045</td>\n",
       "      <td>...</td>\n",
       "      <td>1</td>\n",
       "      <td>0</td>\n",
       "      <td>1</td>\n",
       "      <td>2</td>\n",
       "      <td>0.5</td>\n",
       "      <td>0</td>\n",
       "      <td>1</td>\n",
       "      <td>0</td>\n",
       "      <td>132.033333</td>\n",
       "      <td>1</td>\n",
       "    </tr>\n",
       "    <tr>\n",
       "      <th>2</th>\n",
       "      <td>6.312633</td>\n",
       "      <td>5.305683</td>\n",
       "      <td>9.068778</td>\n",
       "      <td>5.919384</td>\n",
       "      <td>8.210977</td>\n",
       "      <td>5.896152</td>\n",
       "      <td>5.634379</td>\n",
       "      <td>5.625037</td>\n",
       "      <td>7.684047</td>\n",
       "      <td>11.422518</td>\n",
       "      <td>...</td>\n",
       "      <td>1</td>\n",
       "      <td>1</td>\n",
       "      <td>0</td>\n",
       "      <td>3</td>\n",
       "      <td>1.0</td>\n",
       "      <td>0</td>\n",
       "      <td>1</td>\n",
       "      <td>1</td>\n",
       "      <td>28.500000</td>\n",
       "      <td>1</td>\n",
       "    </tr>\n",
       "    <tr>\n",
       "      <th>3</th>\n",
       "      <td>9.185200</td>\n",
       "      <td>5.480888</td>\n",
       "      <td>9.580607</td>\n",
       "      <td>5.655789</td>\n",
       "      <td>7.756504</td>\n",
       "      <td>6.026981</td>\n",
       "      <td>6.008594</td>\n",
       "      <td>6.269051</td>\n",
       "      <td>7.428641</td>\n",
       "      <td>9.478211</td>\n",
       "      <td>...</td>\n",
       "      <td>1</td>\n",
       "      <td>0</td>\n",
       "      <td>1</td>\n",
       "      <td>3</td>\n",
       "      <td>1.0</td>\n",
       "      <td>0</td>\n",
       "      <td>1</td>\n",
       "      <td>1</td>\n",
       "      <td>39.166667</td>\n",
       "      <td>1</td>\n",
       "    </tr>\n",
       "    <tr>\n",
       "      <th>4</th>\n",
       "      <td>7.249462</td>\n",
       "      <td>5.164281</td>\n",
       "      <td>10.233184</td>\n",
       "      <td>5.721403</td>\n",
       "      <td>8.918334</td>\n",
       "      <td>6.392132</td>\n",
       "      <td>5.588450</td>\n",
       "      <td>6.062906</td>\n",
       "      <td>7.968933</td>\n",
       "      <td>9.578638</td>\n",
       "      <td>...</td>\n",
       "      <td>1</td>\n",
       "      <td>1</td>\n",
       "      <td>0</td>\n",
       "      <td>2</td>\n",
       "      <td>1.0</td>\n",
       "      <td>0</td>\n",
       "      <td>1</td>\n",
       "      <td>1</td>\n",
       "      <td>31.300000</td>\n",
       "      <td>1</td>\n",
       "    </tr>\n",
       "  </tbody>\n",
       "</table>\n",
       "<p>5 rows × 33 columns</p>\n",
       "</div>"
      ],
      "text/plain": [
       "        ESR1       PGR      ERBB2     MKI67       PLAU    ELAVL1      EGFR  \\\n",
       "0  11.239750  5.954311   9.739996  6.046045  10.040187  5.905724  5.881255   \n",
       "1  10.927313  7.002502  10.033753  5.568993   8.306619  6.547491  5.733367   \n",
       "2   6.312633  5.305683   9.068778  5.919384   8.210977  5.896152  5.634379   \n",
       "3   9.185200  5.480888   9.580607  5.655789   7.756504  6.026981  6.008594   \n",
       "4   7.249462  5.164281  10.233184  5.721403   8.918334  6.392132  5.588450   \n",
       "\n",
       "       BTRC     FBXO6      SHMT2  ...  Radio Therapy  Chemotherapy  \\\n",
       "0  6.538235  7.260572  10.774752  ...              1             0   \n",
       "1  6.128118  7.917904   9.514045  ...              1             0   \n",
       "2  5.625037  7.684047  11.422518  ...              1             1   \n",
       "3  6.269051  7.428641   9.478211  ...              1             0   \n",
       "4  6.062906  7.968933   9.578638  ...              1             1   \n",
       "\n",
       "   Hormone Therapy  Neoplasm Histologic Grade  Cellularity  \\\n",
       "0                1                          3          0.5   \n",
       "1                1                          2          0.5   \n",
       "2                0                          3          1.0   \n",
       "3                1                          3          1.0   \n",
       "4                0                          2          1.0   \n",
       "\n",
       "   Surgery-breast conserving  Surgery-mastectomy  Label     DssTime  Event  \n",
       "0                          0                   1      1    7.800000      1  \n",
       "1                          0                   1      0  132.033333      1  \n",
       "2                          0                   1      1   28.500000      1  \n",
       "3                          0                   1      1   39.166667      1  \n",
       "4                          0                   1      1   31.300000      1  \n",
       "\n",
       "[5 rows x 33 columns]"
      ]
     },
     "execution_count": 9,
     "metadata": {},
     "output_type": "execute_result"
    }
   ],
   "source": [
    "test_data.head()"
   ]
  },
  {
   "cell_type": "code",
   "execution_count": 12,
   "metadata": {},
   "outputs": [],
   "source": [
    "full_X_train = train_data.drop(columns=['Label', 'DssTime', 'Event'])\n",
    "full_y_train = train_data['Label']\n",
    "\n",
    "X_test = test_data.drop(columns=['Label', 'DssTime', 'Event'])\n",
    "y_test = test_data['Label']"
   ]
  },
  {
   "cell_type": "code",
   "execution_count": 15,
   "metadata": {},
   "outputs": [
    {
     "name": "stdout",
     "output_type": "stream",
     "text": [
      "Training data shape: (372, 30)\n",
      "Validation data shape: (93, 30)\n"
     ]
    }
   ],
   "source": [
    "from sklearn.model_selection import train_test_split\n",
    "\n",
    "# Split the train_data into training and validation sets\n",
    "X_train, X_val, y_train, y_val = train_test_split(\n",
    "    full_X_train,\n",
    "    full_y_train,\n",
    "    test_size=0.2,\n",
    "    random_state=42,\n",
    "    stratify=full_y_train)\n",
    "\n",
    "print(f'Training data shape: {X_train.shape}')\n",
    "print(f'Validation data shape: {X_val.shape}')"
   ]
  },
  {
   "cell_type": "code",
   "execution_count": 16,
   "metadata": {},
   "outputs": [],
   "source": [
    "metric = \"accuracy_score\"\n",
    "input_dim = X_train.shape[1]\n",
    "predictor_dim = 1024\n",
    "output_dim = 2\n",
    "alpha1 = 2.0\n",
    "alpha2 = 2.0\n",
    "beta = 1.0\n",
    "K = 3\n",
    "p_m = 0.2"
   ]
  },
  {
   "cell_type": "code",
   "execution_count": 17,
   "metadata": {},
   "outputs": [],
   "source": [
    "batch_size = 128\n",
    "max_epochs = 20"
   ]
  },
  {
   "cell_type": "code",
   "execution_count": 18,
   "metadata": {},
   "outputs": [],
   "source": [
    "embedding_config = IdentityEmbeddingConfig(input_dim = input_dim)\n",
    "backbone_config = MLPBackboneConfig(input_dim = embedding_config.output_dim)"
   ]
  },
  {
   "cell_type": "code",
   "execution_count": 21,
   "metadata": {},
   "outputs": [],
   "source": [
    "config = VIMEConfig( \n",
    "                    task=\"classification\",\n",
    "                    loss_fn=\"CrossEntropyLoss\",\n",
    "                    metric=metric,\n",
    "                    metric_hparams={},\n",
    "                    embedding_config=embedding_config,\n",
    "                    backbone_config=backbone_config,\n",
    "                    predictor_dim=predictor_dim,\n",
    "                    output_dim=output_dim,\n",
    "                    alpha1=alpha1,\n",
    "                    alpha2=alpha2, \n",
    "                    beta=beta,\n",
    "                    K=K,\n",
    "                    p_m = p_m,\n",
    "                    #cat_cardinality=get_category_cardinality(data, category_cols),\n",
    "                    #num_continuous=len(continuous_cols)\n",
    "                    num_continuous=10\n",
    ")\n"
   ]
  },
  {
   "cell_type": "code",
   "execution_count": null,
   "metadata": {},
   "outputs": [
    {
     "name": "stderr",
     "output_type": "stream",
     "text": [
      "Seed set to 42\n"
     ]
    }
   ],
   "source": [
    "pl_vime = VIMELightning(config)"
   ]
  },
  {
   "cell_type": "code",
   "execution_count": null,
   "metadata": {},
   "outputs": [],
   "source": [
    "### First Phase Learning\n",
    "train_ds = VIMEDataset(\n",
    "    X=X_train,\n",
    "    unlabeled_data=X_unlabeled,\n",
    "    config=config,\n",
    "    continuous_cols=continuous_cols,\n",
    "    category_cols=category_cols\n",
    ")\n",
    "valid_ds = VIMEDataset(X = X_valid, config=config, continuous_cols = continuous_cols, category_cols = category_cols)\n",
    "\n",
    "datamodule = TS3LDataModule(train_ds, valid_ds, batch_size, train_sampler='random')"
   ]
  }
 ],
 "metadata": {
  "kernelspec": {
   "display_name": "pandas",
   "language": "python",
   "name": "python3"
  },
  "language_info": {
   "codemirror_mode": {
    "name": "ipython",
    "version": 3
   },
   "file_extension": ".py",
   "mimetype": "text/x-python",
   "name": "python",
   "nbconvert_exporter": "python",
   "pygments_lexer": "ipython3",
   "version": "3.10.12"
  }
 },
 "nbformat": 4,
 "nbformat_minor": 2
}
