{
 "cells": [
  {
   "cell_type": "markdown",
   "metadata": {},
   "source": [
    "# SSL: VIME"
   ]
  },
  {
   "cell_type": "markdown",
   "metadata": {},
   "source": [
    "This work is based on the one published by the author of the [TS3L library](https://github.com/Alcoholrithm/TabularS3L).\n",
    "\n",
    "Specifically, this code is implementing [VIME](https://proceedings.neurips.cc/paper_files/paper/2020/file/7d97667a3e056acab9aaf653807b4a03-Paper.pdf)"
   ]
  },
  {
   "cell_type": "code",
   "execution_count": 58,
   "metadata": {},
   "outputs": [],
   "source": [
    "# Prepare the VIMELightning Module\n",
    "from ts3l.pl_modules import VIMELightning\n",
    "from ts3l.utils.vime_utils import VIMEDataset\n",
    "from ts3l.utils import TS3LDataModule, get_category_cardinality\n",
    "from ts3l.utils.vime_utils import VIMEConfig\n",
    "from ts3l.utils.embedding_utils import IdentityEmbeddingConfig\n",
    "from ts3l.utils.backbone_utils import MLPBackboneConfig\n",
    "from pytorch_lightning import Trainer\n",
    "import numpy as np\n",
    "from ts3l.utils.vime_utils import VIMESecondPhaseCollateFN\n",
    "from sklearn.metrics import accuracy_score\n",
    "import torch\n",
    "from torch.nn import functional as F\n",
    "from torch.utils.data import DataLoader, SequentialSampler\n",
    "from sklearn.model_selection import train_test_split\n",
    "\n",
    "import pandas as pd"
   ]
  },
  {
   "cell_type": "markdown",
   "metadata": {},
   "source": [
    "## Data loading"
   ]
  },
  {
   "cell_type": "code",
   "execution_count": 59,
   "metadata": {},
   "outputs": [],
   "source": [
    "TRAIN_DATA_PATH = \"../data/sequential/train_data.csv\"\n",
    "VAL_DATA_PATH = \"../data/sequential/val_data.csv\"\n",
    "UNLABELLED_DATA_PATH = \"../data/sequential/unlabelled_data.csv\"\n",
    "\n",
    "PSEUDO_LABELLED_DATA_PATH = \"../data/ssl/pseudo_labelled_data_vime.csv\""
   ]
  },
  {
   "cell_type": "code",
   "execution_count": 60,
   "metadata": {},
   "outputs": [],
   "source": [
    "def get_dataframes(train_path, val_path, unlabelled_path, with_clinical=False):\n",
    "    # Load the data\n",
    "    train_df = pd.read_csv(train_path)\n",
    "    unlabelled_df = pd.read_csv(unlabelled_path)\n",
    "    val_df = pd.read_csv(val_path)\n",
    "\n",
    "    # Drop the columns that are not needed\n",
    "    train_df = train_df.drop(columns=['DssTime', 'Event', 'auto_id'])\n",
    "    val_df = val_df.drop(columns=['DssTime', 'Event', 'auto_id'])\n",
    "    unlabelled_df = unlabelled_df.drop(columns=['auto_id'])\n",
    "\n",
    "    # Extract numerical and categorical columns\n",
    "    # Numerical cols: Gene + Age\n",
    "    numerical_cols = train_df.columns[:21].tolist()\n",
    "    # But also Size\n",
    "    numerical_cols.append('Size')\n",
    "    # Categorical cols: Clinical\n",
    "    categorical_cols = train_df.drop(columns=['Label', 'Size']).columns[21:].tolist()\n",
    "    if not with_clinical:\n",
    "        train_df = train_df.drop(columns=categorical_cols)\n",
    "        val_df = val_df.drop(columns=categorical_cols)\n",
    "        unlabelled_df = unlabelled_df.drop(columns=categorical_cols)\n",
    "        categorical_cols = []\n",
    "    else:\n",
    "        categorical_cols = ['Chemotherapy', 'Menopausal State', 'Radio Therapy', 'Hormone Therapy', 'Surgery-breast conserving', 'Surgery-mastectomy']\n",
    "        # The model has problems with these columns\n",
    "        not_cols = ['Neoplasm Histologic Grade', 'Cellularity']\n",
    "        train_df = train_df.drop(columns=not_cols)\n",
    "        val_df = val_df.drop(columns=not_cols)\n",
    "        unlabelled_df = unlabelled_df.drop(columns=not_cols)\n",
    "\n",
    "    print(f'Train data shape: {train_df.shape}')\n",
    "    print(f'Val data shape: {val_df.shape}')\n",
    "    print(f'Unlabelled data shape: {unlabelled_df.shape}')\n",
    "    print(f'Numerical columns: {numerical_cols}')\n",
    "    if with_clinical:\n",
    "        print(f'Categorical columns: {categorical_cols}')\n",
    "    return train_df, val_df, unlabelled_df, numerical_cols, categorical_cols"
   ]
  },
  {
   "cell_type": "code",
   "execution_count": 61,
   "metadata": {},
   "outputs": [
    {
     "name": "stdout",
     "output_type": "stream",
     "text": [
      "Train data shape: (372, 23)\n",
      "Val data shape: (93, 23)\n",
      "Unlabelled data shape: (1168, 22)\n",
      "Numerical columns: ['ESR1', 'PGR', 'ERBB2', 'MKI67', 'PLAU', 'ELAVL1', 'EGFR', 'BTRC', 'FBXO6', 'SHMT2', 'KRAS', 'SRPK2', 'YWHAQ', 'PDHA1', 'EWSR1', 'ZDHHC17', 'ENO1', 'DBN1', 'PLK1', 'GSK3B', 'Age', 'Size']\n"
     ]
    }
   ],
   "source": [
    "train_data, val_data, unlabelled_data, numerical_cols, categorical_cols = get_dataframes(\n",
    "    TRAIN_DATA_PATH,\n",
    "    VAL_DATA_PATH,\n",
    "    UNLABELLED_DATA_PATH,\n",
    "    with_clinical=False)"
   ]
  },
  {
   "cell_type": "code",
   "execution_count": 62,
   "metadata": {},
   "outputs": [
    {
     "data": {
      "text/html": [
       "<div>\n",
       "<style scoped>\n",
       "    .dataframe tbody tr th:only-of-type {\n",
       "        vertical-align: middle;\n",
       "    }\n",
       "\n",
       "    .dataframe tbody tr th {\n",
       "        vertical-align: top;\n",
       "    }\n",
       "\n",
       "    .dataframe thead th {\n",
       "        text-align: right;\n",
       "    }\n",
       "</style>\n",
       "<table border=\"1\" class=\"dataframe\">\n",
       "  <thead>\n",
       "    <tr style=\"text-align: right;\">\n",
       "      <th></th>\n",
       "      <th>ESR1</th>\n",
       "      <th>PGR</th>\n",
       "      <th>ERBB2</th>\n",
       "      <th>MKI67</th>\n",
       "      <th>PLAU</th>\n",
       "      <th>ELAVL1</th>\n",
       "      <th>EGFR</th>\n",
       "      <th>BTRC</th>\n",
       "      <th>FBXO6</th>\n",
       "      <th>SHMT2</th>\n",
       "      <th>...</th>\n",
       "      <th>PDHA1</th>\n",
       "      <th>EWSR1</th>\n",
       "      <th>ZDHHC17</th>\n",
       "      <th>ENO1</th>\n",
       "      <th>DBN1</th>\n",
       "      <th>PLK1</th>\n",
       "      <th>GSK3B</th>\n",
       "      <th>Age</th>\n",
       "      <th>Size</th>\n",
       "      <th>Label</th>\n",
       "    </tr>\n",
       "  </thead>\n",
       "  <tbody>\n",
       "    <tr>\n",
       "      <th>0</th>\n",
       "      <td>11.445577</td>\n",
       "      <td>5.383985</td>\n",
       "      <td>10.523773</td>\n",
       "      <td>5.878819</td>\n",
       "      <td>7.376048</td>\n",
       "      <td>6.224054</td>\n",
       "      <td>5.730411</td>\n",
       "      <td>6.937679</td>\n",
       "      <td>7.314421</td>\n",
       "      <td>9.496653</td>\n",
       "      <td>...</td>\n",
       "      <td>8.472817</td>\n",
       "      <td>10.014916</td>\n",
       "      <td>8.037095</td>\n",
       "      <td>11.556363</td>\n",
       "      <td>9.697175</td>\n",
       "      <td>6.687842</td>\n",
       "      <td>8.197441</td>\n",
       "      <td>63</td>\n",
       "      <td>43</td>\n",
       "      <td>1</td>\n",
       "    </tr>\n",
       "    <tr>\n",
       "      <th>1</th>\n",
       "      <td>11.728241</td>\n",
       "      <td>6.853981</td>\n",
       "      <td>9.093163</td>\n",
       "      <td>6.189151</td>\n",
       "      <td>9.775104</td>\n",
       "      <td>5.891141</td>\n",
       "      <td>5.644219</td>\n",
       "      <td>6.445037</td>\n",
       "      <td>7.500848</td>\n",
       "      <td>10.140590</td>\n",
       "      <td>...</td>\n",
       "      <td>7.908106</td>\n",
       "      <td>9.290438</td>\n",
       "      <td>7.124771</td>\n",
       "      <td>12.319678</td>\n",
       "      <td>8.687310</td>\n",
       "      <td>6.408426</td>\n",
       "      <td>8.303559</td>\n",
       "      <td>74</td>\n",
       "      <td>43</td>\n",
       "      <td>0</td>\n",
       "    </tr>\n",
       "    <tr>\n",
       "      <th>2</th>\n",
       "      <td>11.122611</td>\n",
       "      <td>5.322075</td>\n",
       "      <td>11.719898</td>\n",
       "      <td>6.121027</td>\n",
       "      <td>8.733519</td>\n",
       "      <td>6.321382</td>\n",
       "      <td>6.011898</td>\n",
       "      <td>6.702699</td>\n",
       "      <td>7.682648</td>\n",
       "      <td>9.736608</td>\n",
       "      <td>...</td>\n",
       "      <td>8.242456</td>\n",
       "      <td>9.763899</td>\n",
       "      <td>8.006279</td>\n",
       "      <td>12.571911</td>\n",
       "      <td>9.236787</td>\n",
       "      <td>6.921407</td>\n",
       "      <td>8.155855</td>\n",
       "      <td>52</td>\n",
       "      <td>15</td>\n",
       "      <td>0</td>\n",
       "    </tr>\n",
       "    <tr>\n",
       "      <th>3</th>\n",
       "      <td>11.246158</td>\n",
       "      <td>7.200805</td>\n",
       "      <td>10.488210</td>\n",
       "      <td>5.921079</td>\n",
       "      <td>9.480574</td>\n",
       "      <td>5.598995</td>\n",
       "      <td>5.923112</td>\n",
       "      <td>6.411695</td>\n",
       "      <td>7.998787</td>\n",
       "      <td>10.009468</td>\n",
       "      <td>...</td>\n",
       "      <td>8.216202</td>\n",
       "      <td>9.566260</td>\n",
       "      <td>7.362756</td>\n",
       "      <td>12.310459</td>\n",
       "      <td>9.304842</td>\n",
       "      <td>6.561758</td>\n",
       "      <td>8.985041</td>\n",
       "      <td>62</td>\n",
       "      <td>20</td>\n",
       "      <td>0</td>\n",
       "    </tr>\n",
       "    <tr>\n",
       "      <th>4</th>\n",
       "      <td>9.744005</td>\n",
       "      <td>5.481691</td>\n",
       "      <td>11.031849</td>\n",
       "      <td>5.826471</td>\n",
       "      <td>8.732274</td>\n",
       "      <td>5.873227</td>\n",
       "      <td>5.495358</td>\n",
       "      <td>6.243658</td>\n",
       "      <td>7.719020</td>\n",
       "      <td>9.327830</td>\n",
       "      <td>...</td>\n",
       "      <td>8.311747</td>\n",
       "      <td>8.969407</td>\n",
       "      <td>7.349488</td>\n",
       "      <td>11.630288</td>\n",
       "      <td>8.838334</td>\n",
       "      <td>6.456821</td>\n",
       "      <td>7.996271</td>\n",
       "      <td>55</td>\n",
       "      <td>30</td>\n",
       "      <td>1</td>\n",
       "    </tr>\n",
       "  </tbody>\n",
       "</table>\n",
       "<p>5 rows × 23 columns</p>\n",
       "</div>"
      ],
      "text/plain": [
       "        ESR1       PGR      ERBB2     MKI67      PLAU    ELAVL1      EGFR  \\\n",
       "0  11.445577  5.383985  10.523773  5.878819  7.376048  6.224054  5.730411   \n",
       "1  11.728241  6.853981   9.093163  6.189151  9.775104  5.891141  5.644219   \n",
       "2  11.122611  5.322075  11.719898  6.121027  8.733519  6.321382  6.011898   \n",
       "3  11.246158  7.200805  10.488210  5.921079  9.480574  5.598995  5.923112   \n",
       "4   9.744005  5.481691  11.031849  5.826471  8.732274  5.873227  5.495358   \n",
       "\n",
       "       BTRC     FBXO6      SHMT2  ...     PDHA1      EWSR1   ZDHHC17  \\\n",
       "0  6.937679  7.314421   9.496653  ...  8.472817  10.014916  8.037095   \n",
       "1  6.445037  7.500848  10.140590  ...  7.908106   9.290438  7.124771   \n",
       "2  6.702699  7.682648   9.736608  ...  8.242456   9.763899  8.006279   \n",
       "3  6.411695  7.998787  10.009468  ...  8.216202   9.566260  7.362756   \n",
       "4  6.243658  7.719020   9.327830  ...  8.311747   8.969407  7.349488   \n",
       "\n",
       "        ENO1      DBN1      PLK1     GSK3B  Age  Size  Label  \n",
       "0  11.556363  9.697175  6.687842  8.197441   63    43      1  \n",
       "1  12.319678  8.687310  6.408426  8.303559   74    43      0  \n",
       "2  12.571911  9.236787  6.921407  8.155855   52    15      0  \n",
       "3  12.310459  9.304842  6.561758  8.985041   62    20      0  \n",
       "4  11.630288  8.838334  6.456821  7.996271   55    30      1  \n",
       "\n",
       "[5 rows x 23 columns]"
      ]
     },
     "execution_count": 62,
     "metadata": {},
     "output_type": "execute_result"
    }
   ],
   "source": [
    "train_data.head()"
   ]
  },
  {
   "cell_type": "code",
   "execution_count": 63,
   "metadata": {},
   "outputs": [
    {
     "data": {
      "text/html": [
       "<div>\n",
       "<style scoped>\n",
       "    .dataframe tbody tr th:only-of-type {\n",
       "        vertical-align: middle;\n",
       "    }\n",
       "\n",
       "    .dataframe tbody tr th {\n",
       "        vertical-align: top;\n",
       "    }\n",
       "\n",
       "    .dataframe thead th {\n",
       "        text-align: right;\n",
       "    }\n",
       "</style>\n",
       "<table border=\"1\" class=\"dataframe\">\n",
       "  <thead>\n",
       "    <tr style=\"text-align: right;\">\n",
       "      <th></th>\n",
       "      <th>ESR1</th>\n",
       "      <th>PGR</th>\n",
       "      <th>ERBB2</th>\n",
       "      <th>MKI67</th>\n",
       "      <th>PLAU</th>\n",
       "      <th>ELAVL1</th>\n",
       "      <th>EGFR</th>\n",
       "      <th>BTRC</th>\n",
       "      <th>FBXO6</th>\n",
       "      <th>SHMT2</th>\n",
       "      <th>...</th>\n",
       "      <th>PDHA1</th>\n",
       "      <th>EWSR1</th>\n",
       "      <th>ZDHHC17</th>\n",
       "      <th>ENO1</th>\n",
       "      <th>DBN1</th>\n",
       "      <th>PLK1</th>\n",
       "      <th>GSK3B</th>\n",
       "      <th>Age</th>\n",
       "      <th>Size</th>\n",
       "      <th>Label</th>\n",
       "    </tr>\n",
       "  </thead>\n",
       "  <tbody>\n",
       "    <tr>\n",
       "      <th>0</th>\n",
       "      <td>6.407398</td>\n",
       "      <td>5.332991</td>\n",
       "      <td>11.028405</td>\n",
       "      <td>5.570715</td>\n",
       "      <td>7.884060</td>\n",
       "      <td>6.170632</td>\n",
       "      <td>6.524852</td>\n",
       "      <td>6.087229</td>\n",
       "      <td>7.607153</td>\n",
       "      <td>9.709837</td>\n",
       "      <td>...</td>\n",
       "      <td>8.532754</td>\n",
       "      <td>9.604273</td>\n",
       "      <td>7.083617</td>\n",
       "      <td>12.200205</td>\n",
       "      <td>8.891170</td>\n",
       "      <td>6.152993</td>\n",
       "      <td>7.939270</td>\n",
       "      <td>66</td>\n",
       "      <td>35</td>\n",
       "      <td>0</td>\n",
       "    </tr>\n",
       "    <tr>\n",
       "      <th>1</th>\n",
       "      <td>5.359227</td>\n",
       "      <td>5.233657</td>\n",
       "      <td>11.295086</td>\n",
       "      <td>5.467575</td>\n",
       "      <td>7.806072</td>\n",
       "      <td>7.934447</td>\n",
       "      <td>6.342535</td>\n",
       "      <td>6.249445</td>\n",
       "      <td>6.337625</td>\n",
       "      <td>9.996191</td>\n",
       "      <td>...</td>\n",
       "      <td>8.390242</td>\n",
       "      <td>10.186778</td>\n",
       "      <td>8.099785</td>\n",
       "      <td>13.601299</td>\n",
       "      <td>9.575482</td>\n",
       "      <td>6.218334</td>\n",
       "      <td>7.666581</td>\n",
       "      <td>82</td>\n",
       "      <td>45</td>\n",
       "      <td>1</td>\n",
       "    </tr>\n",
       "    <tr>\n",
       "      <th>2</th>\n",
       "      <td>5.874314</td>\n",
       "      <td>5.226781</td>\n",
       "      <td>10.052359</td>\n",
       "      <td>6.345439</td>\n",
       "      <td>8.733782</td>\n",
       "      <td>7.140753</td>\n",
       "      <td>7.271026</td>\n",
       "      <td>6.408314</td>\n",
       "      <td>7.436915</td>\n",
       "      <td>11.848892</td>\n",
       "      <td>...</td>\n",
       "      <td>8.245571</td>\n",
       "      <td>9.444395</td>\n",
       "      <td>6.876545</td>\n",
       "      <td>13.176860</td>\n",
       "      <td>9.369397</td>\n",
       "      <td>7.176979</td>\n",
       "      <td>8.714151</td>\n",
       "      <td>67</td>\n",
       "      <td>45</td>\n",
       "      <td>1</td>\n",
       "    </tr>\n",
       "    <tr>\n",
       "      <th>3</th>\n",
       "      <td>11.050258</td>\n",
       "      <td>5.361671</td>\n",
       "      <td>9.424651</td>\n",
       "      <td>6.489388</td>\n",
       "      <td>8.299958</td>\n",
       "      <td>6.422778</td>\n",
       "      <td>5.706520</td>\n",
       "      <td>6.598701</td>\n",
       "      <td>7.400819</td>\n",
       "      <td>10.873850</td>\n",
       "      <td>...</td>\n",
       "      <td>8.034139</td>\n",
       "      <td>9.131501</td>\n",
       "      <td>7.746938</td>\n",
       "      <td>12.840906</td>\n",
       "      <td>9.305580</td>\n",
       "      <td>7.096915</td>\n",
       "      <td>8.558510</td>\n",
       "      <td>58</td>\n",
       "      <td>21</td>\n",
       "      <td>0</td>\n",
       "    </tr>\n",
       "    <tr>\n",
       "      <th>4</th>\n",
       "      <td>11.424278</td>\n",
       "      <td>5.372667</td>\n",
       "      <td>10.864729</td>\n",
       "      <td>6.410957</td>\n",
       "      <td>6.787171</td>\n",
       "      <td>6.926255</td>\n",
       "      <td>5.685226</td>\n",
       "      <td>7.046461</td>\n",
       "      <td>6.946620</td>\n",
       "      <td>9.987552</td>\n",
       "      <td>...</td>\n",
       "      <td>8.297451</td>\n",
       "      <td>9.849713</td>\n",
       "      <td>7.425202</td>\n",
       "      <td>11.245177</td>\n",
       "      <td>9.321138</td>\n",
       "      <td>6.654876</td>\n",
       "      <td>8.723850</td>\n",
       "      <td>54</td>\n",
       "      <td>30</td>\n",
       "      <td>1</td>\n",
       "    </tr>\n",
       "  </tbody>\n",
       "</table>\n",
       "<p>5 rows × 23 columns</p>\n",
       "</div>"
      ],
      "text/plain": [
       "        ESR1       PGR      ERBB2     MKI67      PLAU    ELAVL1      EGFR  \\\n",
       "0   6.407398  5.332991  11.028405  5.570715  7.884060  6.170632  6.524852   \n",
       "1   5.359227  5.233657  11.295086  5.467575  7.806072  7.934447  6.342535   \n",
       "2   5.874314  5.226781  10.052359  6.345439  8.733782  7.140753  7.271026   \n",
       "3  11.050258  5.361671   9.424651  6.489388  8.299958  6.422778  5.706520   \n",
       "4  11.424278  5.372667  10.864729  6.410957  6.787171  6.926255  5.685226   \n",
       "\n",
       "       BTRC     FBXO6      SHMT2  ...     PDHA1      EWSR1   ZDHHC17  \\\n",
       "0  6.087229  7.607153   9.709837  ...  8.532754   9.604273  7.083617   \n",
       "1  6.249445  6.337625   9.996191  ...  8.390242  10.186778  8.099785   \n",
       "2  6.408314  7.436915  11.848892  ...  8.245571   9.444395  6.876545   \n",
       "3  6.598701  7.400819  10.873850  ...  8.034139   9.131501  7.746938   \n",
       "4  7.046461  6.946620   9.987552  ...  8.297451   9.849713  7.425202   \n",
       "\n",
       "        ENO1      DBN1      PLK1     GSK3B  Age  Size  Label  \n",
       "0  12.200205  8.891170  6.152993  7.939270   66    35      0  \n",
       "1  13.601299  9.575482  6.218334  7.666581   82    45      1  \n",
       "2  13.176860  9.369397  7.176979  8.714151   67    45      1  \n",
       "3  12.840906  9.305580  7.096915  8.558510   58    21      0  \n",
       "4  11.245177  9.321138  6.654876  8.723850   54    30      1  \n",
       "\n",
       "[5 rows x 23 columns]"
      ]
     },
     "execution_count": 63,
     "metadata": {},
     "output_type": "execute_result"
    }
   ],
   "source": [
    "val_data.head()"
   ]
  },
  {
   "cell_type": "code",
   "execution_count": 64,
   "metadata": {},
   "outputs": [
    {
     "data": {
      "text/html": [
       "<div>\n",
       "<style scoped>\n",
       "    .dataframe tbody tr th:only-of-type {\n",
       "        vertical-align: middle;\n",
       "    }\n",
       "\n",
       "    .dataframe tbody tr th {\n",
       "        vertical-align: top;\n",
       "    }\n",
       "\n",
       "    .dataframe thead th {\n",
       "        text-align: right;\n",
       "    }\n",
       "</style>\n",
       "<table border=\"1\" class=\"dataframe\">\n",
       "  <thead>\n",
       "    <tr style=\"text-align: right;\">\n",
       "      <th></th>\n",
       "      <th>ESR1</th>\n",
       "      <th>PGR</th>\n",
       "      <th>ERBB2</th>\n",
       "      <th>MKI67</th>\n",
       "      <th>PLAU</th>\n",
       "      <th>ELAVL1</th>\n",
       "      <th>EGFR</th>\n",
       "      <th>BTRC</th>\n",
       "      <th>FBXO6</th>\n",
       "      <th>SHMT2</th>\n",
       "      <th>...</th>\n",
       "      <th>YWHAQ</th>\n",
       "      <th>PDHA1</th>\n",
       "      <th>EWSR1</th>\n",
       "      <th>ZDHHC17</th>\n",
       "      <th>ENO1</th>\n",
       "      <th>DBN1</th>\n",
       "      <th>PLK1</th>\n",
       "      <th>GSK3B</th>\n",
       "      <th>Age</th>\n",
       "      <th>Size</th>\n",
       "    </tr>\n",
       "  </thead>\n",
       "  <tbody>\n",
       "    <tr>\n",
       "      <th>0</th>\n",
       "      <td>10.047059</td>\n",
       "      <td>7.505424</td>\n",
       "      <td>9.729606</td>\n",
       "      <td>5.451007</td>\n",
       "      <td>8.474830</td>\n",
       "      <td>6.412419</td>\n",
       "      <td>5.899440</td>\n",
       "      <td>7.069394</td>\n",
       "      <td>7.100058</td>\n",
       "      <td>9.102318</td>\n",
       "      <td>...</td>\n",
       "      <td>12.124106</td>\n",
       "      <td>8.234815</td>\n",
       "      <td>9.674483</td>\n",
       "      <td>7.375406</td>\n",
       "      <td>12.024185</td>\n",
       "      <td>7.757081</td>\n",
       "      <td>6.455580</td>\n",
       "      <td>8.385158</td>\n",
       "      <td>43.19</td>\n",
       "      <td>10.0</td>\n",
       "    </tr>\n",
       "    <tr>\n",
       "      <th>1</th>\n",
       "      <td>10.404685</td>\n",
       "      <td>6.815637</td>\n",
       "      <td>10.334979</td>\n",
       "      <td>5.488309</td>\n",
       "      <td>9.994894</td>\n",
       "      <td>6.525927</td>\n",
       "      <td>5.585357</td>\n",
       "      <td>6.071653</td>\n",
       "      <td>7.810600</td>\n",
       "      <td>9.431167</td>\n",
       "      <td>...</td>\n",
       "      <td>12.712623</td>\n",
       "      <td>8.242056</td>\n",
       "      <td>9.154340</td>\n",
       "      <td>7.585137</td>\n",
       "      <td>11.844377</td>\n",
       "      <td>8.042064</td>\n",
       "      <td>6.036497</td>\n",
       "      <td>7.464064</td>\n",
       "      <td>47.68</td>\n",
       "      <td>25.0</td>\n",
       "    </tr>\n",
       "    <tr>\n",
       "      <th>2</th>\n",
       "      <td>10.793832</td>\n",
       "      <td>7.720952</td>\n",
       "      <td>9.276507</td>\n",
       "      <td>5.478224</td>\n",
       "      <td>8.184773</td>\n",
       "      <td>5.949741</td>\n",
       "      <td>5.743395</td>\n",
       "      <td>7.244882</td>\n",
       "      <td>7.781876</td>\n",
       "      <td>8.716918</td>\n",
       "      <td>...</td>\n",
       "      <td>12.102056</td>\n",
       "      <td>8.105696</td>\n",
       "      <td>9.136500</td>\n",
       "      <td>7.730418</td>\n",
       "      <td>10.790484</td>\n",
       "      <td>7.599985</td>\n",
       "      <td>5.953310</td>\n",
       "      <td>7.229434</td>\n",
       "      <td>56.45</td>\n",
       "      <td>10.0</td>\n",
       "    </tr>\n",
       "    <tr>\n",
       "      <th>3</th>\n",
       "      <td>10.440667</td>\n",
       "      <td>5.592522</td>\n",
       "      <td>8.613192</td>\n",
       "      <td>5.436625</td>\n",
       "      <td>8.210389</td>\n",
       "      <td>6.203913</td>\n",
       "      <td>5.852012</td>\n",
       "      <td>6.219653</td>\n",
       "      <td>7.560101</td>\n",
       "      <td>9.600030</td>\n",
       "      <td>...</td>\n",
       "      <td>11.839824</td>\n",
       "      <td>8.376467</td>\n",
       "      <td>9.257898</td>\n",
       "      <td>7.743428</td>\n",
       "      <td>11.212880</td>\n",
       "      <td>7.770462</td>\n",
       "      <td>6.194253</td>\n",
       "      <td>7.289188</td>\n",
       "      <td>89.08</td>\n",
       "      <td>29.0</td>\n",
       "    </tr>\n",
       "    <tr>\n",
       "      <th>4</th>\n",
       "      <td>12.521038</td>\n",
       "      <td>5.325554</td>\n",
       "      <td>10.678267</td>\n",
       "      <td>5.623786</td>\n",
       "      <td>7.786509</td>\n",
       "      <td>6.153012</td>\n",
       "      <td>5.502281</td>\n",
       "      <td>7.278257</td>\n",
       "      <td>7.674681</td>\n",
       "      <td>10.367760</td>\n",
       "      <td>...</td>\n",
       "      <td>11.363913</td>\n",
       "      <td>9.031051</td>\n",
       "      <td>9.462490</td>\n",
       "      <td>7.472229</td>\n",
       "      <td>12.955410</td>\n",
       "      <td>8.591434</td>\n",
       "      <td>6.645760</td>\n",
       "      <td>8.737746</td>\n",
       "      <td>86.41</td>\n",
       "      <td>16.0</td>\n",
       "    </tr>\n",
       "  </tbody>\n",
       "</table>\n",
       "<p>5 rows × 22 columns</p>\n",
       "</div>"
      ],
      "text/plain": [
       "        ESR1       PGR      ERBB2     MKI67      PLAU    ELAVL1      EGFR  \\\n",
       "0  10.047059  7.505424   9.729606  5.451007  8.474830  6.412419  5.899440   \n",
       "1  10.404685  6.815637  10.334979  5.488309  9.994894  6.525927  5.585357   \n",
       "2  10.793832  7.720952   9.276507  5.478224  8.184773  5.949741  5.743395   \n",
       "3  10.440667  5.592522   8.613192  5.436625  8.210389  6.203913  5.852012   \n",
       "4  12.521038  5.325554  10.678267  5.623786  7.786509  6.153012  5.502281   \n",
       "\n",
       "       BTRC     FBXO6      SHMT2  ...      YWHAQ     PDHA1     EWSR1  \\\n",
       "0  7.069394  7.100058   9.102318  ...  12.124106  8.234815  9.674483   \n",
       "1  6.071653  7.810600   9.431167  ...  12.712623  8.242056  9.154340   \n",
       "2  7.244882  7.781876   8.716918  ...  12.102056  8.105696  9.136500   \n",
       "3  6.219653  7.560101   9.600030  ...  11.839824  8.376467  9.257898   \n",
       "4  7.278257  7.674681  10.367760  ...  11.363913  9.031051  9.462490   \n",
       "\n",
       "    ZDHHC17       ENO1      DBN1      PLK1     GSK3B    Age  Size  \n",
       "0  7.375406  12.024185  7.757081  6.455580  8.385158  43.19  10.0  \n",
       "1  7.585137  11.844377  8.042064  6.036497  7.464064  47.68  25.0  \n",
       "2  7.730418  10.790484  7.599985  5.953310  7.229434  56.45  10.0  \n",
       "3  7.743428  11.212880  7.770462  6.194253  7.289188  89.08  29.0  \n",
       "4  7.472229  12.955410  8.591434  6.645760  8.737746  86.41  16.0  \n",
       "\n",
       "[5 rows x 22 columns]"
      ]
     },
     "execution_count": 64,
     "metadata": {},
     "output_type": "execute_result"
    }
   ],
   "source": [
    "unlabelled_data.head()"
   ]
  },
  {
   "cell_type": "code",
   "execution_count": 65,
   "metadata": {},
   "outputs": [
    {
     "data": {
      "text/plain": [
       "22"
      ]
     },
     "execution_count": 65,
     "metadata": {},
     "output_type": "execute_result"
    }
   ],
   "source": [
    "len(categorical_cols) + len(numerical_cols)"
   ]
  },
  {
   "cell_type": "markdown",
   "metadata": {},
   "source": [
    "## Data configuration"
   ]
  },
  {
   "cell_type": "code",
   "execution_count": 66,
   "metadata": {},
   "outputs": [],
   "source": [
    "full_X_train = train_data.drop(columns=['Label'])\n",
    "full_y_train = train_data['Label']\n",
    "\n",
    "# The validation data will serve as the test data\n",
    "X_test = val_data.drop(columns=['Label'])\n",
    "y_test = val_data['Label']"
   ]
  },
  {
   "cell_type": "code",
   "execution_count": 67,
   "metadata": {},
   "outputs": [
    {
     "name": "stdout",
     "output_type": "stream",
     "text": [
      "Training data shape: (297, 22)\n",
      "Validation data shape: (75, 22)\n"
     ]
    }
   ],
   "source": [
    "# Split the train_data into training and validation sets\n",
    "X_train, X_val, y_train, y_val = train_test_split(\n",
    "    full_X_train,\n",
    "    full_y_train,\n",
    "    test_size=0.2,\n",
    "    random_state=42,\n",
    "    stratify=full_y_train)\n",
    "\n",
    "print(f'Training data shape: {X_train.shape}')\n",
    "print(f'Validation data shape: {X_val.shape}')"
   ]
  },
  {
   "cell_type": "markdown",
   "metadata": {},
   "source": [
    "## Model configuration"
   ]
  },
  {
   "cell_type": "code",
   "execution_count": 68,
   "metadata": {},
   "outputs": [],
   "source": [
    "metric = \"accuracy_score\"\n",
    "input_dim = X_train.shape[1]\n",
    "# predictor_dim = 1024\n",
    "predictor_dim = 256\n",
    "# alpha: hyper-parameter to control two self-supervised loss\n",
    "alpha1 = 2.0\n",
    "alpha2 = 2.0\n",
    "# beta is introduced to control the trade-off between the supervised and unsupervised losses\n",
    "beta = 1.0\n",
    "#  K: number of augmented data\n",
    "K = 2\n",
    "# The probability (bernoulli) of masking a feature\n",
    "# This will increase the difficulty of the reconstruction task\n",
    "p_m = 0.2\n",
    "# batch_size = 128\n",
    "batch_size = 32\n",
    "max_epochs = 20\n",
    "\n",
    "embedding_config = IdentityEmbeddingConfig(input_dim = input_dim)\n",
    "backbone_config = MLPBackboneConfig(input_dim = embedding_config.output_dim)\n",
    "cardinality = get_category_cardinality(X_train, categorical_cols)"
   ]
  },
  {
   "cell_type": "code",
   "execution_count": 69,
   "metadata": {},
   "outputs": [],
   "source": [
    "config = VIMEConfig( \n",
    "                    task=\"classification\",\n",
    "                    loss_fn=\"CrossEntropyLoss\",\n",
    "                    metric=metric,\n",
    "                    metric_hparams={},\n",
    "                    embedding_config=embedding_config,\n",
    "                    backbone_config=backbone_config,\n",
    "                    predictor_dim=predictor_dim,\n",
    "                    output_dim=2,\n",
    "                    alpha1=alpha1,\n",
    "                    alpha2=alpha2, \n",
    "                    beta=beta,\n",
    "                    K=K,\n",
    "                    p_m = p_m,\n",
    "                    cat_cardinality=cardinality,\n",
    "                    num_continuous=len(numerical_cols),\n",
    ")\n"
   ]
  },
  {
   "cell_type": "code",
   "execution_count": 70,
   "metadata": {},
   "outputs": [],
   "source": [
    "train_ds = VIMEDataset(\n",
    "    X=X_train,\n",
    "    unlabeled_data=unlabelled_data,\n",
    "    config=config,\n",
    "    continuous_cols=numerical_cols,\n",
    "    category_cols=categorical_cols\n",
    ")\n",
    "\n",
    "valid_ds = VIMEDataset(\n",
    "    X=X_train,\n",
    "    config=config,\n",
    "    continuous_cols=numerical_cols,\n",
    "    category_cols=categorical_cols\n",
    ")\n",
    "\n",
    "datamodule = TS3LDataModule(train_ds, valid_ds, batch_size, train_sampler='random', n_jobs=8)"
   ]
  },
  {
   "cell_type": "markdown",
   "metadata": {},
   "source": [
    "## Model training: 1st phase"
   ]
  },
  {
   "cell_type": "code",
   "execution_count": 71,
   "metadata": {},
   "outputs": [
    {
     "name": "stderr",
     "output_type": "stream",
     "text": [
      "GPU available: False, used: False\n",
      "TPU available: False, using: 0 TPU cores\n",
      "HPU available: False, using: 0 HPUs\n",
      "Seed set to 42\n",
      "\n",
      "  | Name                        | Type             | Params | Mode \n",
      "-------------------------------------------------------------------------\n",
      "0 | task_loss_fn                | CrossEntropyLoss | 0      | train\n",
      "1 | mask_loss_fn                | BCELoss          | 0      | train\n",
      "2 | categorical_feature_loss_fn | CrossEntropyLoss | 0      | train\n",
      "3 | continuous_feature_loss_fn  | MSELoss          | 0      | train\n",
      "4 | consistency_loss_fn         | MSELoss          | 0      | train\n",
      "5 | model                       | VIME             | 124 K  | train\n",
      "-------------------------------------------------------------------------\n",
      "124 K     Trainable params\n",
      "0         Non-trainable params\n",
      "124 K     Total params\n",
      "0.499     Total estimated model params size (MB)\n",
      "23        Modules in train mode\n",
      "0         Modules in eval mode\n"
     ]
    },
    {
     "name": "stdout",
     "output_type": "stream",
     "text": [
      "                                                                           \r"
     ]
    },
    {
     "name": "stderr",
     "output_type": "stream",
     "text": [
      "/home/sonk/envs/pandas/lib/python3.10/site-packages/pytorch_lightning/loops/fit_loop.py:298: The number of training batches (46) is smaller than the logging interval Trainer(log_every_n_steps=50). Set a lower value for log_every_n_steps if you want to see logs for the training epoch.\n"
     ]
    },
    {
     "name": "stdout",
     "output_type": "stream",
     "text": [
      "Epoch 0: 100%|██████████| 46/46 [00:00<00:00, 84.01it/s, v_num=130, train_loss=556.0, val_loss=571.0]"
     ]
    },
    {
     "name": "stderr",
     "output_type": "stream",
     "text": [
      "Metric val_loss improved. New best score: 570.792\n"
     ]
    },
    {
     "name": "stdout",
     "output_type": "stream",
     "text": [
      "Epoch 1: 100%|██████████| 46/46 [00:00<00:00, 60.60it/s, v_num=130, train_loss=502.0, val_loss=495.0]"
     ]
    },
    {
     "name": "stderr",
     "output_type": "stream",
     "text": [
      "Metric val_loss improved by 75.719 >= min_delta = 0.0. New best score: 495.073\n"
     ]
    },
    {
     "name": "stdout",
     "output_type": "stream",
     "text": [
      "Epoch 2: 100%|██████████| 46/46 [00:00<00:00, 65.52it/s, v_num=130, train_loss=447.0, val_loss=430.0]"
     ]
    },
    {
     "name": "stderr",
     "output_type": "stream",
     "text": [
      "Metric val_loss improved by 64.823 >= min_delta = 0.0. New best score: 430.250\n"
     ]
    },
    {
     "name": "stdout",
     "output_type": "stream",
     "text": [
      "Epoch 3: 100%|██████████| 46/46 [00:00<00:00, 64.46it/s, v_num=130, train_loss=390.0, val_loss=368.0] "
     ]
    },
    {
     "name": "stderr",
     "output_type": "stream",
     "text": [
      "Metric val_loss improved by 61.880 >= min_delta = 0.0. New best score: 368.371\n"
     ]
    },
    {
     "name": "stdout",
     "output_type": "stream",
     "text": [
      "Epoch 4: 100%|██████████| 46/46 [00:00<00:00, 61.08it/s, v_num=130, train_loss=331.0, val_loss=312.0]"
     ]
    },
    {
     "name": "stderr",
     "output_type": "stream",
     "text": [
      "Metric val_loss improved by 56.194 >= min_delta = 0.0. New best score: 312.177\n"
     ]
    },
    {
     "name": "stdout",
     "output_type": "stream",
     "text": [
      "Epoch 5: 100%|██████████| 46/46 [00:00<00:00, 65.20it/s, v_num=130, train_loss=277.0, val_loss=265.0] "
     ]
    },
    {
     "name": "stderr",
     "output_type": "stream",
     "text": [
      "Metric val_loss improved by 47.239 >= min_delta = 0.0. New best score: 264.939\n"
     ]
    },
    {
     "name": "stdout",
     "output_type": "stream",
     "text": [
      "Epoch 6: 100%|██████████| 46/46 [00:00<00:00, 63.35it/s, v_num=130, train_loss=232.0, val_loss=231.0]"
     ]
    },
    {
     "name": "stderr",
     "output_type": "stream",
     "text": [
      "Metric val_loss improved by 33.676 >= min_delta = 0.0. New best score: 231.262\n"
     ]
    },
    {
     "name": "stdout",
     "output_type": "stream",
     "text": [
      "Epoch 7: 100%|██████████| 46/46 [00:00<00:00, 65.50it/s, v_num=130, train_loss=195.0, val_loss=218.0] "
     ]
    },
    {
     "name": "stderr",
     "output_type": "stream",
     "text": [
      "Metric val_loss improved by 13.526 >= min_delta = 0.0. New best score: 217.736\n"
     ]
    },
    {
     "name": "stdout",
     "output_type": "stream",
     "text": [
      "Epoch 8: 100%|██████████| 46/46 [00:00<00:00, 66.78it/s, v_num=130, train_loss=173.0, val_loss=185.0] "
     ]
    },
    {
     "name": "stderr",
     "output_type": "stream",
     "text": [
      "Metric val_loss improved by 32.307 >= min_delta = 0.0. New best score: 185.429\n"
     ]
    },
    {
     "name": "stdout",
     "output_type": "stream",
     "text": [
      "Epoch 10: 100%|██████████| 46/46 [00:00<00:00, 61.75it/s, v_num=130, train_loss=134.0, val_loss=152.0]"
     ]
    },
    {
     "name": "stderr",
     "output_type": "stream",
     "text": [
      "Metric val_loss improved by 33.762 >= min_delta = 0.0. New best score: 151.667\n"
     ]
    },
    {
     "name": "stdout",
     "output_type": "stream",
     "text": [
      "Epoch 11: 100%|██████████| 46/46 [00:00<00:00, 62.06it/s, v_num=130, train_loss=120.0, val_loss=139.0]"
     ]
    },
    {
     "name": "stderr",
     "output_type": "stream",
     "text": [
      "Metric val_loss improved by 12.289 >= min_delta = 0.0. New best score: 139.378\n"
     ]
    },
    {
     "name": "stdout",
     "output_type": "stream",
     "text": [
      "Epoch 13: 100%|██████████| 46/46 [00:00<00:00, 59.20it/s, v_num=130, train_loss=106.0, val_loss=127.0]"
     ]
    },
    {
     "name": "stderr",
     "output_type": "stream",
     "text": [
      "Metric val_loss improved by 12.589 >= min_delta = 0.0. New best score: 126.789\n"
     ]
    },
    {
     "name": "stdout",
     "output_type": "stream",
     "text": [
      "Epoch 14: 100%|██████████| 46/46 [00:00<00:00, 63.68it/s, v_num=130, train_loss=98.90, val_loss=125.0]"
     ]
    },
    {
     "name": "stderr",
     "output_type": "stream",
     "text": [
      "Metric val_loss improved by 1.783 >= min_delta = 0.0. New best score: 125.006\n"
     ]
    },
    {
     "name": "stdout",
     "output_type": "stream",
     "text": [
      "Epoch 16: 100%|██████████| 46/46 [00:00<00:00, 58.69it/s, v_num=130, train_loss=97.30, val_loss=118.0] "
     ]
    },
    {
     "name": "stderr",
     "output_type": "stream",
     "text": [
      "Metric val_loss improved by 7.045 >= min_delta = 0.0. New best score: 117.962\n"
     ]
    },
    {
     "name": "stdout",
     "output_type": "stream",
     "text": [
      "Epoch 17: 100%|██████████| 46/46 [00:00<00:00, 64.07it/s, v_num=130, train_loss=94.60, val_loss=104.0] "
     ]
    },
    {
     "name": "stderr",
     "output_type": "stream",
     "text": [
      "Metric val_loss improved by 13.578 >= min_delta = 0.0. New best score: 104.383\n"
     ]
    },
    {
     "name": "stdout",
     "output_type": "stream",
     "text": [
      "Epoch 19: 100%|██████████| 46/46 [00:00<00:00, 64.85it/s, v_num=130, train_loss=82.50, val_loss=117.0] "
     ]
    },
    {
     "name": "stderr",
     "output_type": "stream",
     "text": [
      "`Trainer.fit` stopped: `max_epochs=20` reached.\n"
     ]
    },
    {
     "name": "stdout",
     "output_type": "stream",
     "text": [
      "Epoch 19: 100%|██████████| 46/46 [00:00<00:00, 63.99it/s, v_num=130, train_loss=82.50, val_loss=117.0]\n"
     ]
    }
   ],
   "source": [
    "from pytorch_lightning.callbacks import EarlyStopping\n",
    "\n",
    "# Define early stopping callback\n",
    "early_stopping = EarlyStopping(\n",
    "    monitor='val_loss',  # Metric to monitor\n",
    "    patience=3,          # Number of epochs with no improvement after which training will be stopped\n",
    "    verbose=True,\n",
    "    mode='min'           # Mode can be 'min' or 'max' depending on the metric\n",
    ")\n",
    "\n",
    "trainer = Trainer(\n",
    "    accelerator = 'cpu',\n",
    "    max_epochs = max_epochs,\n",
    "    num_sanity_val_steps = 2,\n",
    "    callbacks = [early_stopping],\n",
    ")\n",
    "\n",
    "pl_vime = VIMELightning(config)\n",
    "trainer.fit(pl_vime, datamodule)"
   ]
  },
  {
   "cell_type": "markdown",
   "metadata": {},
   "source": [
    "## Model training: 2nd phase"
   ]
  },
  {
   "cell_type": "code",
   "execution_count": 72,
   "metadata": {},
   "outputs": [
    {
     "name": "stdout",
     "output_type": "stream",
     "text": [
      "(1168, 22)\n",
      "(1164, 22)\n"
     ]
    },
    {
     "data": {
      "text/html": [
       "<div>\n",
       "<style scoped>\n",
       "    .dataframe tbody tr th:only-of-type {\n",
       "        vertical-align: middle;\n",
       "    }\n",
       "\n",
       "    .dataframe tbody tr th {\n",
       "        vertical-align: top;\n",
       "    }\n",
       "\n",
       "    .dataframe thead th {\n",
       "        text-align: right;\n",
       "    }\n",
       "</style>\n",
       "<table border=\"1\" class=\"dataframe\">\n",
       "  <thead>\n",
       "    <tr style=\"text-align: right;\">\n",
       "      <th></th>\n",
       "      <th>ESR1</th>\n",
       "      <th>PGR</th>\n",
       "      <th>ERBB2</th>\n",
       "      <th>MKI67</th>\n",
       "      <th>PLAU</th>\n",
       "      <th>ELAVL1</th>\n",
       "      <th>EGFR</th>\n",
       "      <th>BTRC</th>\n",
       "      <th>FBXO6</th>\n",
       "      <th>SHMT2</th>\n",
       "      <th>...</th>\n",
       "      <th>YWHAQ</th>\n",
       "      <th>PDHA1</th>\n",
       "      <th>EWSR1</th>\n",
       "      <th>ZDHHC17</th>\n",
       "      <th>ENO1</th>\n",
       "      <th>DBN1</th>\n",
       "      <th>PLK1</th>\n",
       "      <th>GSK3B</th>\n",
       "      <th>Age</th>\n",
       "      <th>Size</th>\n",
       "    </tr>\n",
       "  </thead>\n",
       "  <tbody>\n",
       "    <tr>\n",
       "      <th>1164</th>\n",
       "      <td>10.879891</td>\n",
       "      <td>6.431113</td>\n",
       "      <td>10.219154</td>\n",
       "      <td>5.435795</td>\n",
       "      <td>9.224122</td>\n",
       "      <td>5.699195</td>\n",
       "      <td>5.825643</td>\n",
       "      <td>6.404899</td>\n",
       "      <td>7.385644</td>\n",
       "      <td>9.271953</td>\n",
       "      <td>...</td>\n",
       "      <td>11.529199</td>\n",
       "      <td>8.334326</td>\n",
       "      <td>9.309069</td>\n",
       "      <td>7.048923</td>\n",
       "      <td>12.041769</td>\n",
       "      <td>8.572415</td>\n",
       "      <td>6.128115</td>\n",
       "      <td>7.682540</td>\n",
       "      <td>56.90</td>\n",
       "      <td>45.0</td>\n",
       "    </tr>\n",
       "    <tr>\n",
       "      <th>1165</th>\n",
       "      <td>9.591235</td>\n",
       "      <td>7.984515</td>\n",
       "      <td>9.935179</td>\n",
       "      <td>5.605596</td>\n",
       "      <td>9.799519</td>\n",
       "      <td>5.808704</td>\n",
       "      <td>5.905282</td>\n",
       "      <td>6.491419</td>\n",
       "      <td>7.865526</td>\n",
       "      <td>9.741103</td>\n",
       "      <td>...</td>\n",
       "      <td>12.011174</td>\n",
       "      <td>8.173189</td>\n",
       "      <td>9.294825</td>\n",
       "      <td>7.316246</td>\n",
       "      <td>12.540138</td>\n",
       "      <td>8.634905</td>\n",
       "      <td>6.089312</td>\n",
       "      <td>7.838041</td>\n",
       "      <td>43.10</td>\n",
       "      <td>25.0</td>\n",
       "    </tr>\n",
       "    <tr>\n",
       "      <th>1166</th>\n",
       "      <td>11.055114</td>\n",
       "      <td>8.282737</td>\n",
       "      <td>9.892589</td>\n",
       "      <td>5.753274</td>\n",
       "      <td>8.687667</td>\n",
       "      <td>5.475813</td>\n",
       "      <td>5.587906</td>\n",
       "      <td>6.830579</td>\n",
       "      <td>8.468221</td>\n",
       "      <td>9.482622</td>\n",
       "      <td>...</td>\n",
       "      <td>11.872388</td>\n",
       "      <td>8.245726</td>\n",
       "      <td>9.357164</td>\n",
       "      <td>7.354395</td>\n",
       "      <td>11.980115</td>\n",
       "      <td>8.250034</td>\n",
       "      <td>6.443083</td>\n",
       "      <td>8.319481</td>\n",
       "      <td>61.16</td>\n",
       "      <td>25.0</td>\n",
       "    </tr>\n",
       "    <tr>\n",
       "      <th>1167</th>\n",
       "      <td>10.696475</td>\n",
       "      <td>5.533486</td>\n",
       "      <td>10.227787</td>\n",
       "      <td>5.588965</td>\n",
       "      <td>10.212643</td>\n",
       "      <td>6.633792</td>\n",
       "      <td>5.504219</td>\n",
       "      <td>6.468054</td>\n",
       "      <td>8.391464</td>\n",
       "      <td>9.812163</td>\n",
       "      <td>...</td>\n",
       "      <td>11.701313</td>\n",
       "      <td>8.618193</td>\n",
       "      <td>9.742585</td>\n",
       "      <td>7.435703</td>\n",
       "      <td>12.639017</td>\n",
       "      <td>7.710563</td>\n",
       "      <td>6.684053</td>\n",
       "      <td>7.930635</td>\n",
       "      <td>60.02</td>\n",
       "      <td>20.0</td>\n",
       "    </tr>\n",
       "  </tbody>\n",
       "</table>\n",
       "<p>4 rows × 22 columns</p>\n",
       "</div>"
      ],
      "text/plain": [
       "           ESR1       PGR      ERBB2     MKI67       PLAU    ELAVL1      EGFR  \\\n",
       "1164  10.879891  6.431113  10.219154  5.435795   9.224122  5.699195  5.825643   \n",
       "1165   9.591235  7.984515   9.935179  5.605596   9.799519  5.808704  5.905282   \n",
       "1166  11.055114  8.282737   9.892589  5.753274   8.687667  5.475813  5.587906   \n",
       "1167  10.696475  5.533486  10.227787  5.588965  10.212643  6.633792  5.504219   \n",
       "\n",
       "          BTRC     FBXO6     SHMT2  ...      YWHAQ     PDHA1     EWSR1  \\\n",
       "1164  6.404899  7.385644  9.271953  ...  11.529199  8.334326  9.309069   \n",
       "1165  6.491419  7.865526  9.741103  ...  12.011174  8.173189  9.294825   \n",
       "1166  6.830579  8.468221  9.482622  ...  11.872388  8.245726  9.357164   \n",
       "1167  6.468054  8.391464  9.812163  ...  11.701313  8.618193  9.742585   \n",
       "\n",
       "       ZDHHC17       ENO1      DBN1      PLK1     GSK3B    Age  Size  \n",
       "1164  7.048923  12.041769  8.572415  6.128115  7.682540  56.90  45.0  \n",
       "1165  7.316246  12.540138  8.634905  6.089312  7.838041  43.10  25.0  \n",
       "1166  7.354395  11.980115  8.250034  6.443083  8.319481  61.16  25.0  \n",
       "1167  7.435703  12.639017  7.710563  6.684053  7.930635  60.02  20.0  \n",
       "\n",
       "[4 rows x 22 columns]"
      ]
     },
     "execution_count": 72,
     "metadata": {},
     "output_type": "execute_result"
    }
   ],
   "source": [
    "\n",
    "print(unlabelled_data.shape)\n",
    "\n",
    "threshold = 1164\n",
    "\n",
    "f_unlabelled_data = unlabelled_data.head(threshold)\n",
    "print(f_unlabelled_data.shape)\n",
    "\n",
    "# Something's wrong with this rows, it make the model crash\n",
    "unlabelled_data.tail(len(unlabelled_data) - threshold)"
   ]
  },
  {
   "cell_type": "code",
   "execution_count": 73,
   "metadata": {},
   "outputs": [],
   "source": [
    "pl_vime.set_second_phase()\n",
    "\n",
    "train_ds = VIMEDataset(\n",
    "    X_train,\n",
    "    y_train.values,\n",
    "    config,\n",
    "    unlabeled_data=f_unlabelled_data,\n",
    "    continuous_cols=numerical_cols,\n",
    "    category_cols=categorical_cols,\n",
    "    is_second_phase=True)\n",
    "\n",
    "valid_ds = VIMEDataset(\n",
    "    X_val,\n",
    "    y_val.values,\n",
    "    config,\n",
    "    continuous_cols=numerical_cols,\n",
    "    category_cols=categorical_cols,\n",
    "    is_second_phase=True)\n",
    "\n",
    "datamodule = TS3LDataModule(\n",
    "    train_ds,\n",
    "    valid_ds,\n",
    "    batch_size=batch_size,\n",
    "    train_sampler=\"weighted\",\n",
    "    train_collate_fn=VIMESecondPhaseCollateFN()\n",
    ")"
   ]
  },
  {
   "cell_type": "code",
   "execution_count": 74,
   "metadata": {},
   "outputs": [
    {
     "name": "stderr",
     "output_type": "stream",
     "text": [
      "GPU available: False, used: False\n",
      "TPU available: False, using: 0 TPU cores\n",
      "HPU available: False, using: 0 HPUs\n",
      "/home/sonk/envs/pandas/lib/python3.10/site-packages/torch/utils/data/dataloader.py:617: UserWarning: This DataLoader will create 32 worker processes in total. Our suggested max number of worker in current system is 12, which is smaller than what this DataLoader is going to create. Please be aware that excessive worker creation might get DataLoader running slow or even freeze, lower the worker number to avoid potential slowness/freeze if necessary.\n",
      "  warnings.warn(\n",
      "\n",
      "  | Name                        | Type             | Params | Mode \n",
      "-------------------------------------------------------------------------\n",
      "0 | task_loss_fn                | CrossEntropyLoss | 0      | train\n",
      "1 | mask_loss_fn                | BCELoss          | 0      | train\n",
      "2 | categorical_feature_loss_fn | CrossEntropyLoss | 0      | train\n",
      "3 | continuous_feature_loss_fn  | MSELoss          | 0      | train\n",
      "4 | consistency_loss_fn         | MSELoss          | 0      | train\n",
      "5 | model                       | VIME             | 124 K  | train\n",
      "-------------------------------------------------------------------------\n",
      "105 K     Trainable params\n",
      "19.7 K    Non-trainable params\n",
      "124 K     Total params\n",
      "0.499     Total estimated model params size (MB)\n",
      "23        Modules in train mode\n",
      "0         Modules in eval mode\n"
     ]
    },
    {
     "name": "stdout",
     "output_type": "stream",
     "text": [
      "                                                                           \r"
     ]
    },
    {
     "name": "stderr",
     "output_type": "stream",
     "text": [
      "/home/sonk/envs/pandas/lib/python3.10/site-packages/torch/utils/data/dataloader.py:617: UserWarning: This DataLoader will create 32 worker processes in total. Our suggested max number of worker in current system is 12, which is smaller than what this DataLoader is going to create. Please be aware that excessive worker creation might get DataLoader running slow or even freeze, lower the worker number to avoid potential slowness/freeze if necessary.\n",
      "  warnings.warn(\n",
      "/home/sonk/envs/pandas/lib/python3.10/site-packages/pytorch_lightning/loops/fit_loop.py:298: The number of training batches (46) is smaller than the logging interval Trainer(log_every_n_steps=50). Set a lower value for log_every_n_steps if you want to see logs for the training epoch.\n"
     ]
    },
    {
     "name": "stdout",
     "output_type": "stream",
     "text": [
      "Epoch 0: 100%|██████████| 46/46 [00:01<00:00, 39.08it/s, v_num=131, train_loss=2.210, train_accuracy_score=0.530, val_accuracy_score=0.520, val_loss=0.705]"
     ]
    },
    {
     "name": "stderr",
     "output_type": "stream",
     "text": [
      "Metric val_loss improved by 103.678 >= min_delta = 0.0. New best score: 0.705\n"
     ]
    },
    {
     "name": "stdout",
     "output_type": "stream",
     "text": [
      "Epoch 1:   0%|          | 0/46 [00:00<?, ?it/s, v_num=131, train_loss=2.210, train_accuracy_score=0.530, val_accuracy_score=0.520, val_loss=0.705]         "
     ]
    },
    {
     "name": "stderr",
     "output_type": "stream",
     "text": [
      "/home/sonk/envs/pandas/lib/python3.10/site-packages/torch/utils/data/dataloader.py:617: UserWarning: This DataLoader will create 32 worker processes in total. Our suggested max number of worker in current system is 12, which is smaller than what this DataLoader is going to create. Please be aware that excessive worker creation might get DataLoader running slow or even freeze, lower the worker number to avoid potential slowness/freeze if necessary.\n",
      "  warnings.warn(\n"
     ]
    },
    {
     "name": "stdout",
     "output_type": "stream",
     "text": [
      "Epoch 1: 100%|██████████| 46/46 [00:03<00:00, 13.19it/s, v_num=131, train_loss=1.490, train_accuracy_score=0.532, val_accuracy_score=0.533, val_loss=0.685]"
     ]
    },
    {
     "name": "stderr",
     "output_type": "stream",
     "text": [
      "Metric val_loss improved by 0.020 >= min_delta = 0.0. New best score: 0.685\n"
     ]
    },
    {
     "name": "stdout",
     "output_type": "stream",
     "text": [
      "Epoch 2:   0%|          | 0/46 [00:00<?, ?it/s, v_num=131, train_loss=1.490, train_accuracy_score=0.532, val_accuracy_score=0.533, val_loss=0.685]         "
     ]
    },
    {
     "name": "stderr",
     "output_type": "stream",
     "text": [
      "/home/sonk/envs/pandas/lib/python3.10/site-packages/torch/utils/data/dataloader.py:617: UserWarning: This DataLoader will create 32 worker processes in total. Our suggested max number of worker in current system is 12, which is smaller than what this DataLoader is going to create. Please be aware that excessive worker creation might get DataLoader running slow or even freeze, lower the worker number to avoid potential slowness/freeze if necessary.\n",
      "  warnings.warn(\n"
     ]
    },
    {
     "name": "stdout",
     "output_type": "stream",
     "text": [
      "Epoch 2: 100%|██████████| 46/46 [00:01<00:00, 23.80it/s, v_num=131, train_loss=1.190, train_accuracy_score=0.537, val_accuracy_score=0.587, val_loss=0.674]"
     ]
    },
    {
     "name": "stderr",
     "output_type": "stream",
     "text": [
      "Metric val_loss improved by 0.011 >= min_delta = 0.0. New best score: 0.674\n"
     ]
    },
    {
     "name": "stdout",
     "output_type": "stream",
     "text": [
      "Epoch 3:   0%|          | 0/46 [00:00<?, ?it/s, v_num=131, train_loss=1.190, train_accuracy_score=0.537, val_accuracy_score=0.587, val_loss=0.674]         "
     ]
    },
    {
     "name": "stderr",
     "output_type": "stream",
     "text": [
      "/home/sonk/envs/pandas/lib/python3.10/site-packages/torch/utils/data/dataloader.py:617: UserWarning: This DataLoader will create 32 worker processes in total. Our suggested max number of worker in current system is 12, which is smaller than what this DataLoader is going to create. Please be aware that excessive worker creation might get DataLoader running slow or even freeze, lower the worker number to avoid potential slowness/freeze if necessary.\n",
      "  warnings.warn(\n"
     ]
    },
    {
     "name": "stdout",
     "output_type": "stream",
     "text": [
      "Epoch 3: 100%|██████████| 46/46 [00:01<00:00, 24.46it/s, v_num=131, train_loss=1.060, train_accuracy_score=0.583, val_accuracy_score=0.680, val_loss=0.650]"
     ]
    },
    {
     "name": "stderr",
     "output_type": "stream",
     "text": [
      "Metric val_loss improved by 0.024 >= min_delta = 0.0. New best score: 0.650\n"
     ]
    },
    {
     "name": "stdout",
     "output_type": "stream",
     "text": [
      "Epoch 4:   0%|          | 0/46 [00:00<?, ?it/s, v_num=131, train_loss=1.060, train_accuracy_score=0.583, val_accuracy_score=0.680, val_loss=0.650]         "
     ]
    },
    {
     "name": "stderr",
     "output_type": "stream",
     "text": [
      "/home/sonk/envs/pandas/lib/python3.10/site-packages/torch/utils/data/dataloader.py:617: UserWarning: This DataLoader will create 32 worker processes in total. Our suggested max number of worker in current system is 12, which is smaller than what this DataLoader is going to create. Please be aware that excessive worker creation might get DataLoader running slow or even freeze, lower the worker number to avoid potential slowness/freeze if necessary.\n",
      "  warnings.warn(\n"
     ]
    },
    {
     "name": "stdout",
     "output_type": "stream",
     "text": [
      "Epoch 5:   0%|          | 0/46 [00:00<?, ?it/s, v_num=131, train_loss=1.010, train_accuracy_score=0.555, val_accuracy_score=0.640, val_loss=0.672]         "
     ]
    },
    {
     "name": "stderr",
     "output_type": "stream",
     "text": [
      "/home/sonk/envs/pandas/lib/python3.10/site-packages/torch/utils/data/dataloader.py:617: UserWarning: This DataLoader will create 32 worker processes in total. Our suggested max number of worker in current system is 12, which is smaller than what this DataLoader is going to create. Please be aware that excessive worker creation might get DataLoader running slow or even freeze, lower the worker number to avoid potential slowness/freeze if necessary.\n",
      "  warnings.warn(\n"
     ]
    },
    {
     "name": "stdout",
     "output_type": "stream",
     "text": [
      "Epoch 6:   0%|          | 0/46 [00:00<?, ?it/s, v_num=131, train_loss=0.970, train_accuracy_score=0.600, val_accuracy_score=0.640, val_loss=0.654]         "
     ]
    },
    {
     "name": "stderr",
     "output_type": "stream",
     "text": [
      "/home/sonk/envs/pandas/lib/python3.10/site-packages/torch/utils/data/dataloader.py:617: UserWarning: This DataLoader will create 32 worker processes in total. Our suggested max number of worker in current system is 12, which is smaller than what this DataLoader is going to create. Please be aware that excessive worker creation might get DataLoader running slow or even freeze, lower the worker number to avoid potential slowness/freeze if necessary.\n",
      "  warnings.warn(\n"
     ]
    },
    {
     "name": "stdout",
     "output_type": "stream",
     "text": [
      "Epoch 6: 100%|██████████| 46/46 [00:02<00:00, 22.53it/s, v_num=131, train_loss=0.916, train_accuracy_score=0.610, val_accuracy_score=0.627, val_loss=0.698]"
     ]
    },
    {
     "name": "stderr",
     "output_type": "stream",
     "text": [
      "Monitored metric val_loss did not improve in the last 3 records. Best score: 0.650. Signaling Trainer to stop.\n"
     ]
    },
    {
     "name": "stdout",
     "output_type": "stream",
     "text": [
      "Epoch 6: 100%|██████████| 46/46 [00:02<00:00, 22.36it/s, v_num=131, train_loss=0.916, train_accuracy_score=0.610, val_accuracy_score=0.627, val_loss=0.698]\n"
     ]
    }
   ],
   "source": [
    "trainer = Trainer(\n",
    "        accelerator = 'cpu',\n",
    "        max_epochs = max_epochs,\n",
    "        num_sanity_val_steps = 2,\n",
    "        callbacks = [early_stopping],\n",
    "    )\n",
    "\n",
    "trainer.fit(pl_vime, datamodule)"
   ]
  },
  {
   "cell_type": "markdown",
   "metadata": {},
   "source": [
    "## Evaluation"
   ]
  },
  {
   "cell_type": "code",
   "execution_count": 75,
   "metadata": {},
   "outputs": [],
   "source": [
    "test_ds = VIMEDataset(\n",
    "    X_test,\n",
    "    category_cols=categorical_cols,\n",
    "    continuous_cols=numerical_cols,\n",
    "    is_second_phase=True)\n",
    "\n",
    "test_dl = DataLoader(\n",
    "    test_ds,\n",
    "    batch_size,\n",
    "    shuffle=False,\n",
    "    sampler=SequentialSampler(test_ds)\n",
    ")"
   ]
  },
  {
   "cell_type": "code",
   "execution_count": 76,
   "metadata": {},
   "outputs": [
    {
     "name": "stderr",
     "output_type": "stream",
     "text": [
      "/home/sonk/envs/pandas/lib/python3.10/site-packages/torch/utils/data/dataloader.py:617: UserWarning: This DataLoader will create 32 worker processes in total. Our suggested max number of worker in current system is 12, which is smaller than what this DataLoader is going to create. Please be aware that excessive worker creation might get DataLoader running slow or even freeze, lower the worker number to avoid potential slowness/freeze if necessary.\n",
      "  warnings.warn(\n",
      "/home/sonk/envs/pandas/lib/python3.10/site-packages/pytorch_lightning/trainer/connectors/data_connector.py:424: The 'predict_dataloader' does not have many workers which may be a bottleneck. Consider increasing the value of the `num_workers` argument` to `num_workers=11` in the `DataLoader` to improve performance.\n"
     ]
    },
    {
     "name": "stdout",
     "output_type": "stream",
     "text": [
      "Predicting DataLoader 0: 100%|██████████| 3/3 [00:00<00:00, 47.29it/s]\n",
      "Accuracy 0.61\n"
     ]
    }
   ],
   "source": [
    "preds = trainer.predict(pl_vime, test_dl)\n",
    "preds = F.softmax(torch.concat([out.cpu() for out in preds]).squeeze(),dim=1)\n",
    "\n",
    "accuracy = accuracy_score(y_test, preds.argmax(1))\n",
    "\n",
    "print(\"Accuracy %.2f\" % accuracy)"
   ]
  },
  {
   "cell_type": "code",
   "execution_count": 78,
   "metadata": {},
   "outputs": [
    {
     "data": {
      "text/html": [
       "<div>\n",
       "<style scoped>\n",
       "    .dataframe tbody tr th:only-of-type {\n",
       "        vertical-align: middle;\n",
       "    }\n",
       "\n",
       "    .dataframe tbody tr th {\n",
       "        vertical-align: top;\n",
       "    }\n",
       "\n",
       "    .dataframe thead th {\n",
       "        text-align: right;\n",
       "    }\n",
       "</style>\n",
       "<table border=\"1\" class=\"dataframe\">\n",
       "  <thead>\n",
       "    <tr style=\"text-align: right;\">\n",
       "      <th></th>\n",
       "      <th>label</th>\n",
       "      <th>probability</th>\n",
       "    </tr>\n",
       "  </thead>\n",
       "  <tbody>\n",
       "    <tr>\n",
       "      <th>0</th>\n",
       "      <td>1</td>\n",
       "      <td>0.557235</td>\n",
       "    </tr>\n",
       "    <tr>\n",
       "      <th>1</th>\n",
       "      <td>0</td>\n",
       "      <td>0.582431</td>\n",
       "    </tr>\n",
       "    <tr>\n",
       "      <th>2</th>\n",
       "      <td>1</td>\n",
       "      <td>0.568620</td>\n",
       "    </tr>\n",
       "    <tr>\n",
       "      <th>3</th>\n",
       "      <td>0</td>\n",
       "      <td>0.697947</td>\n",
       "    </tr>\n",
       "    <tr>\n",
       "      <th>4</th>\n",
       "      <td>0</td>\n",
       "      <td>0.688896</td>\n",
       "    </tr>\n",
       "    <tr>\n",
       "      <th>...</th>\n",
       "      <td>...</td>\n",
       "      <td>...</td>\n",
       "    </tr>\n",
       "    <tr>\n",
       "      <th>88</th>\n",
       "      <td>1</td>\n",
       "      <td>0.604350</td>\n",
       "    </tr>\n",
       "    <tr>\n",
       "      <th>89</th>\n",
       "      <td>1</td>\n",
       "      <td>0.510552</td>\n",
       "    </tr>\n",
       "    <tr>\n",
       "      <th>90</th>\n",
       "      <td>0</td>\n",
       "      <td>0.627536</td>\n",
       "    </tr>\n",
       "    <tr>\n",
       "      <th>91</th>\n",
       "      <td>0</td>\n",
       "      <td>0.739085</td>\n",
       "    </tr>\n",
       "    <tr>\n",
       "      <th>92</th>\n",
       "      <td>0</td>\n",
       "      <td>0.723156</td>\n",
       "    </tr>\n",
       "  </tbody>\n",
       "</table>\n",
       "<p>93 rows × 2 columns</p>\n",
       "</div>"
      ],
      "text/plain": [
       "    label  probability\n",
       "0       1     0.557235\n",
       "1       0     0.582431\n",
       "2       1     0.568620\n",
       "3       0     0.697947\n",
       "4       0     0.688896\n",
       "..    ...          ...\n",
       "88      1     0.604350\n",
       "89      1     0.510552\n",
       "90      0     0.627536\n",
       "91      0     0.739085\n",
       "92      0     0.723156\n",
       "\n",
       "[93 rows x 2 columns]"
      ]
     },
     "execution_count": 78,
     "metadata": {},
     "output_type": "execute_result"
    }
   ],
   "source": [
    "predicted_labels = preds.argmax(1)\n",
    "associated_probabilities = preds[np.arange(preds.shape[0]), predicted_labels]\n",
    "pd.DataFrame({'label': predicted_labels, 'probability': associated_probabilities})"
   ]
  },
  {
   "cell_type": "markdown",
   "metadata": {},
   "source": [
    "## Label prediction"
   ]
  },
  {
   "cell_type": "code",
   "execution_count": 79,
   "metadata": {},
   "outputs": [],
   "source": [
    "unlabelled_ds = VIMEDataset(\n",
    "    X=unlabelled_data,\n",
    "    config=config,\n",
    "    continuous_cols=numerical_cols,\n",
    "    category_cols=categorical_cols)\n",
    "\n",
    "unlabelled_dl = DataLoader(\n",
    "    unlabelled_ds,\n",
    "    batch_size,\n",
    "    shuffle=False,\n",
    "    sampler=SequentialSampler(unlabelled_ds)\n",
    ")"
   ]
  },
  {
   "cell_type": "code",
   "execution_count": 80,
   "metadata": {},
   "outputs": [
    {
     "name": "stderr",
     "output_type": "stream",
     "text": [
      "/home/sonk/envs/pandas/lib/python3.10/site-packages/torch/utils/data/dataloader.py:617: UserWarning: This DataLoader will create 32 worker processes in total. Our suggested max number of worker in current system is 12, which is smaller than what this DataLoader is going to create. Please be aware that excessive worker creation might get DataLoader running slow or even freeze, lower the worker number to avoid potential slowness/freeze if necessary.\n",
      "  warnings.warn(\n",
      "/home/sonk/envs/pandas/lib/python3.10/site-packages/pytorch_lightning/trainer/connectors/data_connector.py:424: The 'predict_dataloader' does not have many workers which may be a bottleneck. Consider increasing the value of the `num_workers` argument` to `num_workers=11` in the `DataLoader` to improve performance.\n"
     ]
    },
    {
     "name": "stdout",
     "output_type": "stream",
     "text": [
      "Predicting DataLoader 0: 100%|██████████| 37/37 [00:00<00:00, 163.89it/s]\n"
     ]
    },
    {
     "data": {
      "text/html": [
       "<div>\n",
       "<style scoped>\n",
       "    .dataframe tbody tr th:only-of-type {\n",
       "        vertical-align: middle;\n",
       "    }\n",
       "\n",
       "    .dataframe tbody tr th {\n",
       "        vertical-align: top;\n",
       "    }\n",
       "\n",
       "    .dataframe thead th {\n",
       "        text-align: right;\n",
       "    }\n",
       "</style>\n",
       "<table border=\"1\" class=\"dataframe\">\n",
       "  <thead>\n",
       "    <tr style=\"text-align: right;\">\n",
       "      <th></th>\n",
       "      <th>label</th>\n",
       "      <th>confidence</th>\n",
       "    </tr>\n",
       "  </thead>\n",
       "  <tbody>\n",
       "    <tr>\n",
       "      <th>0</th>\n",
       "      <td>0</td>\n",
       "      <td>0.638018</td>\n",
       "    </tr>\n",
       "    <tr>\n",
       "      <th>1</th>\n",
       "      <td>0</td>\n",
       "      <td>0.627758</td>\n",
       "    </tr>\n",
       "    <tr>\n",
       "      <th>2</th>\n",
       "      <td>0</td>\n",
       "      <td>0.655118</td>\n",
       "    </tr>\n",
       "    <tr>\n",
       "      <th>3</th>\n",
       "      <td>0</td>\n",
       "      <td>0.728606</td>\n",
       "    </tr>\n",
       "    <tr>\n",
       "      <th>4</th>\n",
       "      <td>0</td>\n",
       "      <td>0.845933</td>\n",
       "    </tr>\n",
       "    <tr>\n",
       "      <th>...</th>\n",
       "      <td>...</td>\n",
       "      <td>...</td>\n",
       "    </tr>\n",
       "    <tr>\n",
       "      <th>1163</th>\n",
       "      <td>0</td>\n",
       "      <td>0.742593</td>\n",
       "    </tr>\n",
       "    <tr>\n",
       "      <th>1164</th>\n",
       "      <td>0</td>\n",
       "      <td>0.601021</td>\n",
       "    </tr>\n",
       "    <tr>\n",
       "      <th>1165</th>\n",
       "      <td>0</td>\n",
       "      <td>0.671212</td>\n",
       "    </tr>\n",
       "    <tr>\n",
       "      <th>1166</th>\n",
       "      <td>0</td>\n",
       "      <td>0.604925</td>\n",
       "    </tr>\n",
       "    <tr>\n",
       "      <th>1167</th>\n",
       "      <td>0</td>\n",
       "      <td>0.645519</td>\n",
       "    </tr>\n",
       "  </tbody>\n",
       "</table>\n",
       "<p>1168 rows × 2 columns</p>\n",
       "</div>"
      ],
      "text/plain": [
       "      label  confidence\n",
       "0         0    0.638018\n",
       "1         0    0.627758\n",
       "2         0    0.655118\n",
       "3         0    0.728606\n",
       "4         0    0.845933\n",
       "...     ...         ...\n",
       "1163      0    0.742593\n",
       "1164      0    0.601021\n",
       "1165      0    0.671212\n",
       "1166      0    0.604925\n",
       "1167      0    0.645519\n",
       "\n",
       "[1168 rows x 2 columns]"
      ]
     },
     "execution_count": 80,
     "metadata": {},
     "output_type": "execute_result"
    }
   ],
   "source": [
    "preds = trainer.predict(pl_vime, unlabelled_dl)\n",
    "preds = F.softmax(torch.concat([out.cpu() for out in preds]).squeeze(),dim=1)\n",
    "\n",
    "predicted_labels = preds.argmax(1)\n",
    "associated_probabilities = preds[np.arange(preds.shape[0]), predicted_labels]\n",
    "\n",
    "pd.DataFrame({'label': predicted_labels, 'confidence': associated_probabilities})"
   ]
  },
  {
   "cell_type": "markdown",
   "metadata": {},
   "source": [
    "## Data export"
   ]
  },
  {
   "cell_type": "code",
   "execution_count": 81,
   "metadata": {},
   "outputs": [],
   "source": [
    "unlabelled_data = pd.read_csv(UNLABELLED_DATA_PATH)"
   ]
  },
  {
   "cell_type": "code",
   "execution_count": 82,
   "metadata": {},
   "outputs": [],
   "source": [
    "train_data = pd.read_csv(TRAIN_DATA_PATH)"
   ]
  },
  {
   "cell_type": "code",
   "execution_count": 83,
   "metadata": {},
   "outputs": [
    {
     "data": {
      "text/html": [
       "<div>\n",
       "<style scoped>\n",
       "    .dataframe tbody tr th:only-of-type {\n",
       "        vertical-align: middle;\n",
       "    }\n",
       "\n",
       "    .dataframe tbody tr th {\n",
       "        vertical-align: top;\n",
       "    }\n",
       "\n",
       "    .dataframe thead th {\n",
       "        text-align: right;\n",
       "    }\n",
       "</style>\n",
       "<table border=\"1\" class=\"dataframe\">\n",
       "  <thead>\n",
       "    <tr style=\"text-align: right;\">\n",
       "      <th></th>\n",
       "      <th>ESR1</th>\n",
       "      <th>PGR</th>\n",
       "      <th>ERBB2</th>\n",
       "      <th>MKI67</th>\n",
       "      <th>PLAU</th>\n",
       "      <th>ELAVL1</th>\n",
       "      <th>EGFR</th>\n",
       "      <th>BTRC</th>\n",
       "      <th>FBXO6</th>\n",
       "      <th>SHMT2</th>\n",
       "      <th>...</th>\n",
       "      <th>Hormone Therapy</th>\n",
       "      <th>Neoplasm Histologic Grade</th>\n",
       "      <th>Cellularity</th>\n",
       "      <th>Surgery-breast conserving</th>\n",
       "      <th>Surgery-mastectomy</th>\n",
       "      <th>Label</th>\n",
       "      <th>DssTime</th>\n",
       "      <th>Event</th>\n",
       "      <th>auto_id</th>\n",
       "      <th>Confidence</th>\n",
       "    </tr>\n",
       "  </thead>\n",
       "  <tbody>\n",
       "    <tr>\n",
       "      <th>0</th>\n",
       "      <td>11.445577</td>\n",
       "      <td>5.383985</td>\n",
       "      <td>10.523773</td>\n",
       "      <td>5.878819</td>\n",
       "      <td>7.376048</td>\n",
       "      <td>6.224054</td>\n",
       "      <td>5.730411</td>\n",
       "      <td>6.937679</td>\n",
       "      <td>7.314421</td>\n",
       "      <td>9.496653</td>\n",
       "      <td>...</td>\n",
       "      <td>0</td>\n",
       "      <td>1</td>\n",
       "      <td>0.5</td>\n",
       "      <td>1</td>\n",
       "      <td>0</td>\n",
       "      <td>1</td>\n",
       "      <td>52.733333</td>\n",
       "      <td>1</td>\n",
       "      <td>1271</td>\n",
       "      <td>1.0</td>\n",
       "    </tr>\n",
       "    <tr>\n",
       "      <th>1</th>\n",
       "      <td>11.728241</td>\n",
       "      <td>6.853981</td>\n",
       "      <td>9.093163</td>\n",
       "      <td>6.189151</td>\n",
       "      <td>9.775104</td>\n",
       "      <td>5.891141</td>\n",
       "      <td>5.644219</td>\n",
       "      <td>6.445037</td>\n",
       "      <td>7.500848</td>\n",
       "      <td>10.140590</td>\n",
       "      <td>...</td>\n",
       "      <td>1</td>\n",
       "      <td>3</td>\n",
       "      <td>1.0</td>\n",
       "      <td>0</td>\n",
       "      <td>1</td>\n",
       "      <td>0</td>\n",
       "      <td>61.100000</td>\n",
       "      <td>1</td>\n",
       "      <td>1050</td>\n",
       "      <td>1.0</td>\n",
       "    </tr>\n",
       "    <tr>\n",
       "      <th>2</th>\n",
       "      <td>11.122611</td>\n",
       "      <td>5.322075</td>\n",
       "      <td>11.719898</td>\n",
       "      <td>6.121027</td>\n",
       "      <td>8.733519</td>\n",
       "      <td>6.321382</td>\n",
       "      <td>6.011898</td>\n",
       "      <td>6.702699</td>\n",
       "      <td>7.682648</td>\n",
       "      <td>9.736608</td>\n",
       "      <td>...</td>\n",
       "      <td>0</td>\n",
       "      <td>2</td>\n",
       "      <td>1.0</td>\n",
       "      <td>0</td>\n",
       "      <td>1</td>\n",
       "      <td>0</td>\n",
       "      <td>94.033333</td>\n",
       "      <td>1</td>\n",
       "      <td>1300</td>\n",
       "      <td>1.0</td>\n",
       "    </tr>\n",
       "    <tr>\n",
       "      <th>3</th>\n",
       "      <td>11.246158</td>\n",
       "      <td>7.200805</td>\n",
       "      <td>10.488210</td>\n",
       "      <td>5.921079</td>\n",
       "      <td>9.480574</td>\n",
       "      <td>5.598995</td>\n",
       "      <td>5.923112</td>\n",
       "      <td>6.411695</td>\n",
       "      <td>7.998787</td>\n",
       "      <td>10.009468</td>\n",
       "      <td>...</td>\n",
       "      <td>1</td>\n",
       "      <td>3</td>\n",
       "      <td>0.5</td>\n",
       "      <td>1</td>\n",
       "      <td>0</td>\n",
       "      <td>0</td>\n",
       "      <td>118.133333</td>\n",
       "      <td>1</td>\n",
       "      <td>1156</td>\n",
       "      <td>1.0</td>\n",
       "    </tr>\n",
       "    <tr>\n",
       "      <th>4</th>\n",
       "      <td>9.744005</td>\n",
       "      <td>5.481691</td>\n",
       "      <td>11.031849</td>\n",
       "      <td>5.826471</td>\n",
       "      <td>8.732274</td>\n",
       "      <td>5.873227</td>\n",
       "      <td>5.495358</td>\n",
       "      <td>6.243658</td>\n",
       "      <td>7.719020</td>\n",
       "      <td>9.327830</td>\n",
       "      <td>...</td>\n",
       "      <td>1</td>\n",
       "      <td>2</td>\n",
       "      <td>1.0</td>\n",
       "      <td>1</td>\n",
       "      <td>0</td>\n",
       "      <td>1</td>\n",
       "      <td>27.066667</td>\n",
       "      <td>1</td>\n",
       "      <td>1458</td>\n",
       "      <td>1.0</td>\n",
       "    </tr>\n",
       "  </tbody>\n",
       "</table>\n",
       "<p>5 rows × 35 columns</p>\n",
       "</div>"
      ],
      "text/plain": [
       "        ESR1       PGR      ERBB2     MKI67      PLAU    ELAVL1      EGFR  \\\n",
       "0  11.445577  5.383985  10.523773  5.878819  7.376048  6.224054  5.730411   \n",
       "1  11.728241  6.853981   9.093163  6.189151  9.775104  5.891141  5.644219   \n",
       "2  11.122611  5.322075  11.719898  6.121027  8.733519  6.321382  6.011898   \n",
       "3  11.246158  7.200805  10.488210  5.921079  9.480574  5.598995  5.923112   \n",
       "4   9.744005  5.481691  11.031849  5.826471  8.732274  5.873227  5.495358   \n",
       "\n",
       "       BTRC     FBXO6      SHMT2  ...  Hormone Therapy  \\\n",
       "0  6.937679  7.314421   9.496653  ...                0   \n",
       "1  6.445037  7.500848  10.140590  ...                1   \n",
       "2  6.702699  7.682648   9.736608  ...                0   \n",
       "3  6.411695  7.998787  10.009468  ...                1   \n",
       "4  6.243658  7.719020   9.327830  ...                1   \n",
       "\n",
       "   Neoplasm Histologic Grade  Cellularity  Surgery-breast conserving  \\\n",
       "0                          1          0.5                          1   \n",
       "1                          3          1.0                          0   \n",
       "2                          2          1.0                          0   \n",
       "3                          3          0.5                          1   \n",
       "4                          2          1.0                          1   \n",
       "\n",
       "   Surgery-mastectomy  Label     DssTime  Event  auto_id  Confidence  \n",
       "0                   0      1   52.733333      1     1271         1.0  \n",
       "1                   1      0   61.100000      1     1050         1.0  \n",
       "2                   1      0   94.033333      1     1300         1.0  \n",
       "3                   0      0  118.133333      1     1156         1.0  \n",
       "4                   0      1   27.066667      1     1458         1.0  \n",
       "\n",
       "[5 rows x 35 columns]"
      ]
     },
     "execution_count": 83,
     "metadata": {},
     "output_type": "execute_result"
    }
   ],
   "source": [
    "train_data['Confidence'] = 1.0\n",
    "\n",
    "train_data.head()"
   ]
  },
  {
   "cell_type": "code",
   "execution_count": 84,
   "metadata": {},
   "outputs": [
    {
     "data": {
      "text/html": [
       "<div>\n",
       "<style scoped>\n",
       "    .dataframe tbody tr th:only-of-type {\n",
       "        vertical-align: middle;\n",
       "    }\n",
       "\n",
       "    .dataframe tbody tr th {\n",
       "        vertical-align: top;\n",
       "    }\n",
       "\n",
       "    .dataframe thead th {\n",
       "        text-align: right;\n",
       "    }\n",
       "</style>\n",
       "<table border=\"1\" class=\"dataframe\">\n",
       "  <thead>\n",
       "    <tr style=\"text-align: right;\">\n",
       "      <th></th>\n",
       "      <th>ESR1</th>\n",
       "      <th>PGR</th>\n",
       "      <th>ERBB2</th>\n",
       "      <th>MKI67</th>\n",
       "      <th>PLAU</th>\n",
       "      <th>ELAVL1</th>\n",
       "      <th>EGFR</th>\n",
       "      <th>BTRC</th>\n",
       "      <th>FBXO6</th>\n",
       "      <th>SHMT2</th>\n",
       "      <th>...</th>\n",
       "      <th>Radio Therapy</th>\n",
       "      <th>Chemotherapy</th>\n",
       "      <th>Hormone Therapy</th>\n",
       "      <th>Neoplasm Histologic Grade</th>\n",
       "      <th>Cellularity</th>\n",
       "      <th>Surgery-breast conserving</th>\n",
       "      <th>Surgery-mastectomy</th>\n",
       "      <th>auto_id</th>\n",
       "      <th>Label</th>\n",
       "      <th>Confidence</th>\n",
       "    </tr>\n",
       "  </thead>\n",
       "  <tbody>\n",
       "    <tr>\n",
       "      <th>0</th>\n",
       "      <td>10.047059</td>\n",
       "      <td>7.505424</td>\n",
       "      <td>9.729606</td>\n",
       "      <td>5.451007</td>\n",
       "      <td>8.474830</td>\n",
       "      <td>6.412419</td>\n",
       "      <td>5.899440</td>\n",
       "      <td>7.069394</td>\n",
       "      <td>7.100058</td>\n",
       "      <td>9.102318</td>\n",
       "      <td>...</td>\n",
       "      <td>1</td>\n",
       "      <td>0</td>\n",
       "      <td>1</td>\n",
       "      <td>3.0</td>\n",
       "      <td>1.0</td>\n",
       "      <td>1.0</td>\n",
       "      <td>0.0</td>\n",
       "      <td>2000</td>\n",
       "      <td>0</td>\n",
       "      <td>0.638018</td>\n",
       "    </tr>\n",
       "    <tr>\n",
       "      <th>1</th>\n",
       "      <td>10.404685</td>\n",
       "      <td>6.815637</td>\n",
       "      <td>10.334979</td>\n",
       "      <td>5.488309</td>\n",
       "      <td>9.994894</td>\n",
       "      <td>6.525927</td>\n",
       "      <td>5.585357</td>\n",
       "      <td>6.071653</td>\n",
       "      <td>7.810600</td>\n",
       "      <td>9.431167</td>\n",
       "      <td>...</td>\n",
       "      <td>1</td>\n",
       "      <td>1</td>\n",
       "      <td>1</td>\n",
       "      <td>2.0</td>\n",
       "      <td>0.5</td>\n",
       "      <td>0.0</td>\n",
       "      <td>1.0</td>\n",
       "      <td>2001</td>\n",
       "      <td>0</td>\n",
       "      <td>0.627758</td>\n",
       "    </tr>\n",
       "    <tr>\n",
       "      <th>2</th>\n",
       "      <td>10.793832</td>\n",
       "      <td>7.720952</td>\n",
       "      <td>9.276507</td>\n",
       "      <td>5.478224</td>\n",
       "      <td>8.184773</td>\n",
       "      <td>5.949741</td>\n",
       "      <td>5.743395</td>\n",
       "      <td>7.244882</td>\n",
       "      <td>7.781876</td>\n",
       "      <td>8.716918</td>\n",
       "      <td>...</td>\n",
       "      <td>1</td>\n",
       "      <td>1</td>\n",
       "      <td>1</td>\n",
       "      <td>2.0</td>\n",
       "      <td>0.5</td>\n",
       "      <td>1.0</td>\n",
       "      <td>0.0</td>\n",
       "      <td>2002</td>\n",
       "      <td>0</td>\n",
       "      <td>0.655118</td>\n",
       "    </tr>\n",
       "    <tr>\n",
       "      <th>3</th>\n",
       "      <td>10.440667</td>\n",
       "      <td>5.592522</td>\n",
       "      <td>8.613192</td>\n",
       "      <td>5.436625</td>\n",
       "      <td>8.210389</td>\n",
       "      <td>6.203913</td>\n",
       "      <td>5.852012</td>\n",
       "      <td>6.219653</td>\n",
       "      <td>7.560101</td>\n",
       "      <td>9.600030</td>\n",
       "      <td>...</td>\n",
       "      <td>1</td>\n",
       "      <td>0</td>\n",
       "      <td>1</td>\n",
       "      <td>2.0</td>\n",
       "      <td>0.5</td>\n",
       "      <td>1.0</td>\n",
       "      <td>0.0</td>\n",
       "      <td>2003</td>\n",
       "      <td>0</td>\n",
       "      <td>0.728606</td>\n",
       "    </tr>\n",
       "    <tr>\n",
       "      <th>4</th>\n",
       "      <td>12.521038</td>\n",
       "      <td>5.325554</td>\n",
       "      <td>10.678267</td>\n",
       "      <td>5.623786</td>\n",
       "      <td>7.786509</td>\n",
       "      <td>6.153012</td>\n",
       "      <td>5.502281</td>\n",
       "      <td>7.278257</td>\n",
       "      <td>7.674681</td>\n",
       "      <td>10.367760</td>\n",
       "      <td>...</td>\n",
       "      <td>1</td>\n",
       "      <td>0</td>\n",
       "      <td>1</td>\n",
       "      <td>3.0</td>\n",
       "      <td>0.5</td>\n",
       "      <td>1.0</td>\n",
       "      <td>0.0</td>\n",
       "      <td>2004</td>\n",
       "      <td>0</td>\n",
       "      <td>0.845933</td>\n",
       "    </tr>\n",
       "    <tr>\n",
       "      <th>...</th>\n",
       "      <td>...</td>\n",
       "      <td>...</td>\n",
       "      <td>...</td>\n",
       "      <td>...</td>\n",
       "      <td>...</td>\n",
       "      <td>...</td>\n",
       "      <td>...</td>\n",
       "      <td>...</td>\n",
       "      <td>...</td>\n",
       "      <td>...</td>\n",
       "      <td>...</td>\n",
       "      <td>...</td>\n",
       "      <td>...</td>\n",
       "      <td>...</td>\n",
       "      <td>...</td>\n",
       "      <td>...</td>\n",
       "      <td>...</td>\n",
       "      <td>...</td>\n",
       "      <td>...</td>\n",
       "      <td>...</td>\n",
       "      <td>...</td>\n",
       "    </tr>\n",
       "    <tr>\n",
       "      <th>1163</th>\n",
       "      <td>11.628490</td>\n",
       "      <td>5.570690</td>\n",
       "      <td>10.475695</td>\n",
       "      <td>6.032211</td>\n",
       "      <td>9.944405</td>\n",
       "      <td>5.865408</td>\n",
       "      <td>5.703147</td>\n",
       "      <td>6.649948</td>\n",
       "      <td>7.272166</td>\n",
       "      <td>9.750208</td>\n",
       "      <td>...</td>\n",
       "      <td>0</td>\n",
       "      <td>0</td>\n",
       "      <td>1</td>\n",
       "      <td>3.0</td>\n",
       "      <td>1.0</td>\n",
       "      <td>0.0</td>\n",
       "      <td>1.0</td>\n",
       "      <td>3163</td>\n",
       "      <td>0</td>\n",
       "      <td>0.742593</td>\n",
       "    </tr>\n",
       "    <tr>\n",
       "      <th>1164</th>\n",
       "      <td>10.879891</td>\n",
       "      <td>6.431113</td>\n",
       "      <td>10.219154</td>\n",
       "      <td>5.435795</td>\n",
       "      <td>9.224122</td>\n",
       "      <td>5.699195</td>\n",
       "      <td>5.825643</td>\n",
       "      <td>6.404899</td>\n",
       "      <td>7.385644</td>\n",
       "      <td>9.271953</td>\n",
       "      <td>...</td>\n",
       "      <td>0</td>\n",
       "      <td>0</td>\n",
       "      <td>1</td>\n",
       "      <td>3.0</td>\n",
       "      <td>1.0</td>\n",
       "      <td>0.0</td>\n",
       "      <td>1.0</td>\n",
       "      <td>3164</td>\n",
       "      <td>0</td>\n",
       "      <td>0.601021</td>\n",
       "    </tr>\n",
       "    <tr>\n",
       "      <th>1165</th>\n",
       "      <td>9.591235</td>\n",
       "      <td>7.984515</td>\n",
       "      <td>9.935179</td>\n",
       "      <td>5.605596</td>\n",
       "      <td>9.799519</td>\n",
       "      <td>5.808704</td>\n",
       "      <td>5.905282</td>\n",
       "      <td>6.491419</td>\n",
       "      <td>7.865526</td>\n",
       "      <td>9.741103</td>\n",
       "      <td>...</td>\n",
       "      <td>1</td>\n",
       "      <td>0</td>\n",
       "      <td>1</td>\n",
       "      <td>3.0</td>\n",
       "      <td>1.0</td>\n",
       "      <td>1.0</td>\n",
       "      <td>0.0</td>\n",
       "      <td>3165</td>\n",
       "      <td>0</td>\n",
       "      <td>0.671212</td>\n",
       "    </tr>\n",
       "    <tr>\n",
       "      <th>1166</th>\n",
       "      <td>11.055114</td>\n",
       "      <td>8.282737</td>\n",
       "      <td>9.892589</td>\n",
       "      <td>5.753274</td>\n",
       "      <td>8.687667</td>\n",
       "      <td>5.475813</td>\n",
       "      <td>5.587906</td>\n",
       "      <td>6.830579</td>\n",
       "      <td>8.468221</td>\n",
       "      <td>9.482622</td>\n",
       "      <td>...</td>\n",
       "      <td>0</td>\n",
       "      <td>0</td>\n",
       "      <td>1</td>\n",
       "      <td>2.0</td>\n",
       "      <td>0.5</td>\n",
       "      <td>0.0</td>\n",
       "      <td>1.0</td>\n",
       "      <td>3166</td>\n",
       "      <td>0</td>\n",
       "      <td>0.604925</td>\n",
       "    </tr>\n",
       "    <tr>\n",
       "      <th>1167</th>\n",
       "      <td>10.696475</td>\n",
       "      <td>5.533486</td>\n",
       "      <td>10.227787</td>\n",
       "      <td>5.588965</td>\n",
       "      <td>10.212643</td>\n",
       "      <td>6.633792</td>\n",
       "      <td>5.504219</td>\n",
       "      <td>6.468054</td>\n",
       "      <td>8.391464</td>\n",
       "      <td>9.812163</td>\n",
       "      <td>...</td>\n",
       "      <td>1</td>\n",
       "      <td>0</td>\n",
       "      <td>1</td>\n",
       "      <td>3.0</td>\n",
       "      <td>1.0</td>\n",
       "      <td>1.0</td>\n",
       "      <td>0.0</td>\n",
       "      <td>3167</td>\n",
       "      <td>0</td>\n",
       "      <td>0.645519</td>\n",
       "    </tr>\n",
       "  </tbody>\n",
       "</table>\n",
       "<p>1168 rows × 33 columns</p>\n",
       "</div>"
      ],
      "text/plain": [
       "           ESR1       PGR      ERBB2     MKI67       PLAU    ELAVL1      EGFR  \\\n",
       "0     10.047059  7.505424   9.729606  5.451007   8.474830  6.412419  5.899440   \n",
       "1     10.404685  6.815637  10.334979  5.488309   9.994894  6.525927  5.585357   \n",
       "2     10.793832  7.720952   9.276507  5.478224   8.184773  5.949741  5.743395   \n",
       "3     10.440667  5.592522   8.613192  5.436625   8.210389  6.203913  5.852012   \n",
       "4     12.521038  5.325554  10.678267  5.623786   7.786509  6.153012  5.502281   \n",
       "...         ...       ...        ...       ...        ...       ...       ...   \n",
       "1163  11.628490  5.570690  10.475695  6.032211   9.944405  5.865408  5.703147   \n",
       "1164  10.879891  6.431113  10.219154  5.435795   9.224122  5.699195  5.825643   \n",
       "1165   9.591235  7.984515   9.935179  5.605596   9.799519  5.808704  5.905282   \n",
       "1166  11.055114  8.282737   9.892589  5.753274   8.687667  5.475813  5.587906   \n",
       "1167  10.696475  5.533486  10.227787  5.588965  10.212643  6.633792  5.504219   \n",
       "\n",
       "          BTRC     FBXO6      SHMT2  ...  Radio Therapy  Chemotherapy  \\\n",
       "0     7.069394  7.100058   9.102318  ...              1             0   \n",
       "1     6.071653  7.810600   9.431167  ...              1             1   \n",
       "2     7.244882  7.781876   8.716918  ...              1             1   \n",
       "3     6.219653  7.560101   9.600030  ...              1             0   \n",
       "4     7.278257  7.674681  10.367760  ...              1             0   \n",
       "...        ...       ...        ...  ...            ...           ...   \n",
       "1163  6.649948  7.272166   9.750208  ...              0             0   \n",
       "1164  6.404899  7.385644   9.271953  ...              0             0   \n",
       "1165  6.491419  7.865526   9.741103  ...              1             0   \n",
       "1166  6.830579  8.468221   9.482622  ...              0             0   \n",
       "1167  6.468054  8.391464   9.812163  ...              1             0   \n",
       "\n",
       "      Hormone Therapy  Neoplasm Histologic Grade  Cellularity  \\\n",
       "0                   1                        3.0          1.0   \n",
       "1                   1                        2.0          0.5   \n",
       "2                   1                        2.0          0.5   \n",
       "3                   1                        2.0          0.5   \n",
       "4                   1                        3.0          0.5   \n",
       "...               ...                        ...          ...   \n",
       "1163                1                        3.0          1.0   \n",
       "1164                1                        3.0          1.0   \n",
       "1165                1                        3.0          1.0   \n",
       "1166                1                        2.0          0.5   \n",
       "1167                1                        3.0          1.0   \n",
       "\n",
       "      Surgery-breast conserving  Surgery-mastectomy  auto_id  Label  \\\n",
       "0                           1.0                 0.0     2000      0   \n",
       "1                           0.0                 1.0     2001      0   \n",
       "2                           1.0                 0.0     2002      0   \n",
       "3                           1.0                 0.0     2003      0   \n",
       "4                           1.0                 0.0     2004      0   \n",
       "...                         ...                 ...      ...    ...   \n",
       "1163                        0.0                 1.0     3163      0   \n",
       "1164                        0.0                 1.0     3164      0   \n",
       "1165                        1.0                 0.0     3165      0   \n",
       "1166                        0.0                 1.0     3166      0   \n",
       "1167                        1.0                 0.0     3167      0   \n",
       "\n",
       "      Confidence  \n",
       "0       0.638018  \n",
       "1       0.627758  \n",
       "2       0.655118  \n",
       "3       0.728606  \n",
       "4       0.845933  \n",
       "...          ...  \n",
       "1163    0.742593  \n",
       "1164    0.601021  \n",
       "1165    0.671212  \n",
       "1166    0.604925  \n",
       "1167    0.645519  \n",
       "\n",
       "[1168 rows x 33 columns]"
      ]
     },
     "execution_count": 84,
     "metadata": {},
     "output_type": "execute_result"
    }
   ],
   "source": [
    "unlabelled_data['Label'] = predicted_labels\n",
    "unlabelled_data['Confidence'] = associated_probabilities\n",
    "\n",
    "unlabelled_data"
   ]
  },
  {
   "cell_type": "code",
   "execution_count": 85,
   "metadata": {},
   "outputs": [],
   "source": [
    "combined_data = pd.concat([train_data, unlabelled_data], ignore_index=True)"
   ]
  },
  {
   "cell_type": "code",
   "execution_count": 86,
   "metadata": {},
   "outputs": [
    {
     "data": {
      "text/plain": [
       "(1540, 35)"
      ]
     },
     "execution_count": 86,
     "metadata": {},
     "output_type": "execute_result"
    }
   ],
   "source": [
    "combined_data.shape"
   ]
  },
  {
   "cell_type": "code",
   "execution_count": 87,
   "metadata": {},
   "outputs": [],
   "source": [
    "combined_data.sort_values(by='auto_id').to_csv(PSEUDO_LABELLED_DATA_PATH, index=False)"
   ]
  }
 ],
 "metadata": {
  "kernelspec": {
   "display_name": "pandas",
   "language": "python",
   "name": "python3"
  },
  "language_info": {
   "codemirror_mode": {
    "name": "ipython",
    "version": 3
   },
   "file_extension": ".py",
   "mimetype": "text/x-python",
   "name": "python",
   "nbconvert_exporter": "python",
   "pygments_lexer": "ipython3",
   "version": "3.10.12"
  }
 },
 "nbformat": 4,
 "nbformat_minor": 2
}
