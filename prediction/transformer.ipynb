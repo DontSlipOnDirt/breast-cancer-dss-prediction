{
 "cells": [
  {
   "cell_type": "code",
   "execution_count": 1,
   "metadata": {},
   "outputs": [],
   "source": [
    "# dependencies\n",
    "import pandas as pd\n",
    "# from sklearn.preprocessing import StandardScaler\n",
    "import numpy as np\n",
    "import torch\n",
    "import torch.nn as nn\n",
    "import torch.optim as optim\n",
    "from torch.utils.data import DataLoader, Dataset\n",
    "import matplotlib.pyplot as plt\n",
    "from sklearn.metrics import accuracy_score, precision_score, recall_score, f1_score, roc_auc_score"
   ]
  },
  {
   "cell_type": "markdown",
   "metadata": {},
   "source": [
    "# Data"
   ]
  },
  {
   "cell_type": "code",
   "execution_count": 43,
   "metadata": {},
   "outputs": [],
   "source": [
    "# Load Data\n",
    "train_data_path = '../data/train_data.csv'\n",
    "pseudo_train_data_path = '../data/combined_pseudo_label_high_conf_w04.csv'\n",
    "test_data_path = '../data/test_data.csv'\n",
    "\n",
    "train_data = pd.read_csv(train_data_path)\n",
    "pseudo_train_data = pd.read_csv(pseudo_train_data_path)\n",
    "test_data = pd.read_csv(test_data_path)\n",
    "\n",
    "# Drop unnecessary columns\n",
    "train_data = train_data.drop(columns=['DssTime','Event'])\n",
    "test_data = test_data.drop(columns=['DssTime','Event'])\n",
    "\n",
    "# # Scale Data\n",
    "# scaler = StandardScaler()\n",
    "# train_data = scaler.fit_transform(train_data)\n",
    "# test_data = scaler.transform(test_data)\n"
   ]
  },
  {
   "cell_type": "code",
   "execution_count": 44,
   "metadata": {},
   "outputs": [],
   "source": [
    "# Create the dataset class\n",
    "class CancerDataset(Dataset):\n",
    "    def __init__(self, data, features, label_column):\n",
    "        self.data = data\n",
    "        self.features = features\n",
    "        self.label_column = label_column\n",
    "    \n",
    "    def __len__(self):\n",
    "        return len(self.data)\n",
    "    \n",
    "    def __getitem__(self, idx):\n",
    "        inputs = torch.tensor(self.data[self.features].iloc[idx].values, dtype=torch.float32)\n",
    "        label = torch.tensor(self.data[self.label_column].iloc[idx], dtype=torch.float32)\n",
    "        return inputs, label\n",
    "\n",
    "# SSL dataset class\n",
    "class SemiSupervisedDataset(Dataset):\n",
    "    def __init__(self, data, features, label_column, confidence_column):\n",
    "        self.data = data\n",
    "        self.features = features\n",
    "        self.label_column = label_column\n",
    "        self.confidence_column = confidence_column\n",
    "    \n",
    "    def __len__(self):\n",
    "        return len(self.data)\n",
    "    \n",
    "    def __getitem__(self, idx):\n",
    "        inputs = torch.tensor(self.data[self.features].iloc[idx].values, dtype=torch.float32)\n",
    "        label = torch.tensor(self.data[self.label_column].iloc[idx], dtype=torch.float32)\n",
    "        confidence = torch.tensor(self.data[self.confidence_column].iloc[idx], dtype=torch.float32)\n",
    "        return inputs, label, confidence\n",
    "\n",
    "\n",
    "# Define feature columns\n",
    "train_columns = train_data.columns[0:30]\n",
    "label_column = \"Label\"\n",
    "\n",
    "# Create datasets and dataloaders\n",
    "train_dataset = CancerDataset(train_data, train_columns, label_column)\n",
    "# pseudo_train_dataset = CancerDataset(pseudo_train_data, train_columns, label_column)\n",
    "pseudo_train_dataset = SemiSupervisedDataset(pseudo_train_data, train_columns, label_column, \"Confidence\")\n",
    "test_dataset = CancerDataset(test_data, train_columns, label_column) \n",
    "\n",
    "train_loader = DataLoader(train_dataset, batch_size=32, shuffle=True)\n",
    "pseudo_train_loader = DataLoader(pseudo_train_dataset, batch_size=32, shuffle=True)\n",
    "test_loader = DataLoader(test_dataset, batch_size=32, shuffle=False)"
   ]
  },
  {
   "cell_type": "markdown",
   "metadata": {},
   "source": [
    "# Model"
   ]
  },
  {
   "cell_type": "code",
   "execution_count": 45,
   "metadata": {},
   "outputs": [],
   "source": [
    "# Define the unified Transformer binary classifier\n",
    "class UnifiedTransformerBinaryClassifier(nn.Module):\n",
    "    def __init__(self, input_dim, transformer_dim=64, num_heads=4, num_layers=2, dropout=0.1):\n",
    "        super(UnifiedTransformerBinaryClassifier, self).__init__()\n",
    "        \n",
    "        # Define the transformer model\n",
    "        self.embedding = nn.Linear(input_dim, transformer_dim)  # Linear layer to project input to transformer dim\n",
    "        \n",
    "        # Transformer Encoder Layer\n",
    "        self.transformer_encoder = nn.TransformerEncoder(\n",
    "            nn.TransformerEncoderLayer(d_model=transformer_dim, nhead=num_heads, dropout=dropout),\n",
    "            num_layers=num_layers\n",
    "        )\n",
    "        \n",
    "        # Final classification layer\n",
    "        self.fc = nn.Linear(transformer_dim, 1)\n",
    "        self.sigmoid = nn.Sigmoid()\n",
    "    \n",
    "    def forward(self, x):\n",
    "        # Apply the initial embedding to get input in the transformer dimension\n",
    "        x = self.embedding(x)\n",
    "        \n",
    "        # Add a batch dimension (needed for the transformer)\n",
    "        x = x.unsqueeze(1)  # Shape: [batch_size, 1, input_dim]\n",
    "        \n",
    "        # Pass through the transformer encoder\n",
    "        x = self.transformer_encoder(x)\n",
    "        \n",
    "        # Get the output from the transformer (we'll use the last output for classification)\n",
    "        x = x[:, -1, :]  # Shape: [batch_size, transformer_dim]\n",
    "        \n",
    "        # Classification layer\n",
    "        x = self.fc(x)\n",
    "        \n",
    "        # Sigmoid activation for binary classification\n",
    "        x = self.sigmoid(x)\n",
    "        \n",
    "        return x"
   ]
  },
  {
   "cell_type": "markdown",
   "metadata": {},
   "source": [
    "# Training"
   ]
  },
  {
   "cell_type": "code",
   "execution_count": 46,
   "metadata": {},
   "outputs": [],
   "source": [
    "# Define training loop\n",
    "def train_model(model, train_loader, epochs, optimizer, loss_fn, device):\n",
    "    model.train()\n",
    "    loss_history = []\n",
    "\n",
    "    for epoch in range(epochs):\n",
    "        running_loss = 0.0\n",
    "        for i, (inputs, labels) in enumerate(train_loader):\n",
    "            # Send data to the device (GPU/CPU)\n",
    "            inputs, labels = inputs.to(device), labels.to(device)\n",
    "            \n",
    "            # Zero the gradients\n",
    "            optimizer.zero_grad()\n",
    "            \n",
    "            # Forward pass\n",
    "            outputs = model(inputs).squeeze(1)\n",
    "            \n",
    "            # Compute loss\n",
    "            loss = loss_fn(outputs, labels)\n",
    "            \n",
    "            # Backward pass and optimize\n",
    "            loss.backward()\n",
    "            optimizer.step()\n",
    "            \n",
    "            running_loss += loss.item()\n",
    "        \n",
    "        epoch_loss = running_loss / len(train_loader)\n",
    "        loss_history.append(epoch_loss)\n",
    "\n",
    "        print(f\"Epoch {epoch+1}/{epochs}, Loss: {running_loss / len(train_loader)}\")\n",
    "\n",
    "    # Plot the loss\n",
    "    plt.figure(figsize=(8, 6))\n",
    "    plt.plot(range(1, epochs + 1), loss_history, label=\"Training Loss\")\n",
    "    plt.xlabel(\"Epoch\")\n",
    "    plt.ylabel(\"Loss\")\n",
    "    plt.title(\"Training Loss Over Epochs\")\n",
    "    plt.legend()\n",
    "    plt.grid(True)\n",
    "    plt.show()"
   ]
  },
  {
   "cell_type": "code",
   "execution_count": 47,
   "metadata": {},
   "outputs": [],
   "source": [
    "def train_model_with_weights(model, train_loader, epochs, optimizer, loss_fn, device):\n",
    "    model.train()\n",
    "    loss_history = []\n",
    "\n",
    "    for epoch in range(epochs):\n",
    "        running_loss = 0.0\n",
    "        for i, (inputs, labels, confidences) in enumerate(train_loader):\n",
    "            # Send data to the device\n",
    "            inputs, labels, confidences = inputs.to(device), labels.to(device), confidences.to(device)\n",
    "            \n",
    "            # Zero the gradients\n",
    "            optimizer.zero_grad()\n",
    "            \n",
    "            # Forward pass\n",
    "            outputs = model(inputs).squeeze(1)\n",
    "            \n",
    "            # Compute raw loss\n",
    "            raw_loss = loss_fn(outputs, labels)\n",
    "            \n",
    "            # Weight the loss by confidence\n",
    "            weighted_loss = (raw_loss * confidences).mean()\n",
    "            \n",
    "            # Backward pass and optimize\n",
    "            weighted_loss.backward()\n",
    "            optimizer.step()\n",
    "            \n",
    "            running_loss += weighted_loss.item()\n",
    "        \n",
    "        epoch_loss = running_loss / len(train_loader)\n",
    "        loss_history.append(epoch_loss)\n",
    "        print(f\"Epoch {epoch+1}/{epochs}, Loss: {epoch_loss}\")\n",
    "\n",
    "    # Plot the loss\n",
    "    plt.figure(figsize=(8, 6))\n",
    "    plt.plot(range(1, len(loss_history) + 1), loss_history, label=\"Training Loss\")\n",
    "    plt.xlabel(\"Epoch\")\n",
    "    plt.ylabel(\"Loss\")\n",
    "    plt.title(\"Training Loss Over Epochs\")\n",
    "    plt.legend()\n",
    "    plt.grid(True)\n",
    "    plt.show()"
   ]
  },
  {
   "cell_type": "code",
   "execution_count": 49,
   "metadata": {},
   "outputs": [],
   "source": [
    "# Define the model, optimizer, and loss function\n",
    "torch.manual_seed(42)\n",
    "device = torch.device(\"cuda\" if torch.cuda.is_available() else \"cpu\")\n",
    "input_dim = len(train_columns)  # Number of input features\n",
    "\n",
    "# Hyper parameters\n",
    "transformer_dim=64\n",
    "num_heads=4\n",
    "num_layers=2\n",
    "dropout=0.1\n",
    "\n",
    "epochs = 30"
   ]
  },
  {
   "cell_type": "code",
   "execution_count": 50,
   "metadata": {},
   "outputs": [
    {
     "name": "stderr",
     "output_type": "stream",
     "text": [
      "C:\\Users\\jcmuf\\AppData\\Roaming\\Python\\Python312\\site-packages\\torch\\nn\\modules\\transformer.py:286: UserWarning: enable_nested_tensor is True, but self.use_nested_tensor is False because encoder_layer.self_attn.batch_first was not True(use batch_first for better inference performance)\n",
      "  warnings.warn(f\"enable_nested_tensor is True, but self.use_nested_tensor is False because {why_not_sparsity_fast_path}\")\n"
     ]
    },
    {
     "name": "stdout",
     "output_type": "stream",
     "text": [
      "Epoch 1/30, Loss: 0.7660642067591349\n",
      "Epoch 2/30, Loss: 0.7152413884798686\n",
      "Epoch 3/30, Loss: 0.6917001883188884\n",
      "Epoch 4/30, Loss: 0.6841438571612041\n",
      "Epoch 5/30, Loss: 0.6742970267931621\n",
      "Epoch 6/30, Loss: 0.6902182181676229\n",
      "Epoch 7/30, Loss: 0.6604699810345968\n",
      "Epoch 8/30, Loss: 0.649651825428009\n",
      "Epoch 9/30, Loss: 0.6367985526720683\n",
      "Epoch 10/30, Loss: 0.6166974186897278\n",
      "Epoch 11/30, Loss: 0.6149043520291646\n",
      "Epoch 12/30, Loss: 0.6199590643246968\n",
      "Epoch 13/30, Loss: 0.6008542656898499\n",
      "Epoch 14/30, Loss: 0.6164421975612641\n",
      "Epoch 15/30, Loss: 0.6025389273961385\n",
      "Epoch 16/30, Loss: 0.608788255850474\n",
      "Epoch 17/30, Loss: 0.5966868360837301\n",
      "Epoch 18/30, Loss: 0.5999678055445353\n",
      "Epoch 19/30, Loss: 0.5853277623653412\n",
      "Epoch 20/30, Loss: 0.5921361168225606\n",
      "Epoch 21/30, Loss: 0.580008449157079\n",
      "Epoch 22/30, Loss: 0.5956125219662984\n",
      "Epoch 23/30, Loss: 0.586629190047582\n",
      "Epoch 24/30, Loss: 0.5700044731299082\n",
      "Epoch 25/30, Loss: 0.5806840896606446\n",
      "Epoch 26/30, Loss: 0.5612665593624115\n",
      "Epoch 27/30, Loss: 0.6151153445243835\n",
      "Epoch 28/30, Loss: 0.6055579245090484\n",
      "Epoch 29/30, Loss: 0.5823529223601024\n",
      "Epoch 30/30, Loss: 0.5915549854437511\n"
     ]
    },
    {
     "data": {
      "image/png": "[encoded data removed]",
      "text/plain": [
       "<Figure size 800x600 with 1 Axes>"
      ]
     },
     "metadata": {},
     "output_type": "display_data"
    }
   ],
   "source": [
    "# normal train data\n",
    "model = UnifiedTransformerBinaryClassifier(input_dim, transformer_dim, num_heads, num_layers, dropout).to(device)\n",
    "optimizer = optim.Adam(model.parameters(), lr=0.001)\n",
    "loss_fn = nn.BCELoss()\n",
    "train_model(model, train_loader, epochs, optimizer, loss_fn, device)"
   ]
  },
  {
   "cell_type": "code",
   "execution_count": 51,
   "metadata": {},
   "outputs": [
    {
     "name": "stdout",
     "output_type": "stream",
     "text": [
      "Epoch 1/30, Loss: 0.5023645562204447\n",
      "Epoch 2/30, Loss: 0.40356247330253775\n",
      "Epoch 3/30, Loss: 0.32845128226009285\n",
      "Epoch 4/30, Loss: 0.3118727413768118\n",
      "Epoch 5/30, Loss: 0.3091545782305978\n",
      "Epoch 6/30, Loss: 0.30311373790556734\n",
      "Epoch 7/30, Loss: 0.3081513304602016\n",
      "Epoch 8/30, Loss: 0.3057970662008632\n",
      "Epoch 9/30, Loss: 0.2794382165778767\n",
      "Epoch 10/30, Loss: 0.28761223889887333\n",
      "Epoch 11/30, Loss: 0.28215016661719844\n",
      "Epoch 12/30, Loss: 0.2874584959989244\n",
      "Epoch 13/30, Loss: 0.2882187449457971\n",
      "Epoch 14/30, Loss: 0.2905342238531871\n",
      "Epoch 15/30, Loss: 0.29194494167512114\n",
      "Epoch 16/30, Loss: 0.2916296544400128\n",
      "Epoch 17/30, Loss: 0.2821717289361087\n",
      "Epoch 18/30, Loss: 0.28075668740678916\n",
      "Epoch 19/30, Loss: 0.2834244162182916\n",
      "Epoch 20/30, Loss: 0.2815738438882611\n",
      "Epoch 21/30, Loss: 0.28407515585422516\n",
      "Epoch 22/30, Loss: 0.29304935139688576\n",
      "Epoch 23/30, Loss: 0.2703071021559564\n",
      "Epoch 24/30, Loss: 0.27565237947485666\n",
      "Epoch 25/30, Loss: 0.2845856975764036\n",
      "Epoch 26/30, Loss: 0.27253180826929485\n",
      "Epoch 27/30, Loss: 0.26800985498861835\n",
      "Epoch 28/30, Loss: 0.2649878134781664\n",
      "Epoch 29/30, Loss: 0.2762951118532907\n",
      "Epoch 30/30, Loss: 0.273455610498786\n"
     ]
    },
    {
     "data": {
      "image/png": "[encoded data removed]",
      "text/plain": [
       "<Figure size 800x600 with 1 Axes>"
      ]
     },
     "metadata": {},
     "output_type": "display_data"
    }
   ],
   "source": [
    "# SSL data\n",
    "model2 = UnifiedTransformerBinaryClassifier(input_dim, transformer_dim, num_heads, num_layers, dropout).to(device)\n",
    "optimizer2 = optim.Adam(model2.parameters(), lr=0.001)\n",
    "loss_fn2 = nn.BCELoss(reduction='none')\n",
    "\n",
    "train_model_with_weights(model2, pseudo_train_loader, epochs, optimizer2, loss_fn2, device)"
   ]
  },
  {
   "cell_type": "markdown",
   "metadata": {},
   "source": [
    "# Evaluation"
   ]
  },
  {
   "cell_type": "code",
   "execution_count": 52,
   "metadata": {},
   "outputs": [],
   "source": [
    "def evaluate_model(model, test_loader, device):\n",
    "    model.eval()  # Set the model to evaluation mode\n",
    "    all_preds = []\n",
    "    all_labels = []\n",
    "    \n",
    "    with torch.no_grad():  # No need to compute gradients during evaluation\n",
    "        for inputs, labels in test_loader:\n",
    "            inputs, labels = inputs.to(device), labels.to(device)\n",
    "            \n",
    "            # Forward pass\n",
    "            outputs = model(inputs).squeeze(1)  # Shape: [batch_size]\n",
    "            preds = (outputs > 0.5).float()  # Binary classification (threshold 0.5)\n",
    "            \n",
    "            # Collect all predictions and true labels\n",
    "            all_preds.extend(preds.cpu().numpy())  # Move to CPU and convert to numpy\n",
    "            all_labels.extend(labels.cpu().numpy())\n",
    "    \n",
    "    # Convert lists to numpy arrays\n",
    "    all_preds = np.array(all_preds)\n",
    "    all_labels = np.array(all_labels)\n",
    "    \n",
    "    # Calculate metrics\n",
    "    accuracy = accuracy_score(all_labels, all_preds)\n",
    "    precision = precision_score(all_labels, all_preds)\n",
    "    recall = recall_score(all_labels, all_preds)\n",
    "    f1 = f1_score(all_labels, all_preds)\n",
    "    auc = roc_auc_score(all_labels, all_preds)\n",
    "\n",
    "    # Print the results\n",
    "    print(f'Accuracy: {accuracy:.4f}')\n",
    "    print(f'Precision: {precision:.4f}')\n",
    "    print(f'Recall: {recall:.4f}')\n",
    "    print(f'F1-Score: {f1:.4f}')\n",
    "    print(f'AUC: {auc:.4f}')"
   ]
  },
  {
   "cell_type": "code",
   "execution_count": 53,
   "metadata": {},
   "outputs": [
    {
     "name": "stdout",
     "output_type": "stream",
     "text": [
      "--- Normal Data ---\n",
      "Accuracy: 0.7094\n",
      "Precision: 0.6944\n",
      "Recall: 0.8065\n",
      "F1-Score: 0.7463\n",
      "AUC: 0.7032\n",
      "\n",
      "--- SSL Data ---\n",
      "Accuracy: 0.7692\n",
      "Precision: 0.7869\n",
      "Recall: 0.7742\n",
      "F1-Score: 0.7805\n",
      "AUC: 0.7689\n"
     ]
    }
   ],
   "source": [
    "# Evaluate the model\n",
    "print(\"--- Normal Data ---\")\n",
    "evaluate_model(model, test_loader, device)\n",
    "\n",
    "print(\"\\n--- SSL Data ---\")\n",
    "evaluate_model(model2, test_loader, device)"
   ]
  }
 ],
 "metadata": {
  "kernelspec": {
   "display_name": "Python 3",
   "language": "python",
   "name": "python3"
  },
  "language_info": {
   "codemirror_mode": {
    "name": "ipython",
    "version": 3
   },
   "file_extension": ".py",
   "mimetype": "text/x-python",
   "name": "python",
   "nbconvert_exporter": "python",
   "pygments_lexer": "ipython3",
   "version": "3.12.2"
  }
 },
 "nbformat": 4,
 "nbformat_minor": 2
}
