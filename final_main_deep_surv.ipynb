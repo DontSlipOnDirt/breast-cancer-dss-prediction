{
  "nbformat": 4,
  "nbformat_minor": 0,
  "metadata": {
    "colab": {
      "provenance": []
    },
    "kernelspec": {
      "name": "python3",
      "display_name": "Python 3"
    },
    "language_info": {
      "name": "python"
    }
  },
  "cells": [
    {
      "cell_type": "markdown",
      "source": [
        "# Import modules (google colab syntax !)"
      ],
      "metadata": {
        "id": "ICXoAKDr1Pqz"
      }
    },
    {
      "cell_type": "code",
      "source": [
        "!pip install lifelines\n",
        "!pip install sklearn\n",
        "import numpy as np\n",
        "import pandas as pd\n",
        "import tensorflow as tf\n",
        "from tensorflow.keras import layers, models\n",
        "from tensorflow.keras.regularizers import l1_l2\n",
        "from sklearn.preprocessing import StandardScaler\n",
        "from sklearn.metrics import accuracy_score, roc_auc_score\n",
        "from google.colab import drive\n",
        "# Mount Google Drive\n",
        "drive.mount('/content/drive')"
      ],
      "metadata": {
        "colab": {
          "base_uri": "https://localhost:8080/"
        },
        "id": "VxYoG82zmyAJ",
        "outputId": "788a1fa0-f767-4c29-9a94-cecedcbc2d3d",
        "collapsed": true
      },
      "execution_count": 1,
      "outputs": [
        {
          "output_type": "stream",
          "name": "stdout",
          "text": [
            "Collecting lifelines\n",
            "  Downloading lifelines-0.30.0-py3-none-any.whl.metadata (3.2 kB)\n",
            "Requirement already satisfied: numpy>=1.14.0 in /usr/local/lib/python3.10/dist-packages (from lifelines) (1.26.4)\n",
            "Requirement already satisfied: scipy>=1.7.0 in /usr/local/lib/python3.10/dist-packages (from lifelines) (1.13.1)\n",
            "Requirement already satisfied: pandas>=2.1 in /usr/local/lib/python3.10/dist-packages (from lifelines) (2.2.2)\n",
            "Requirement already satisfied: matplotlib>=3.0 in /usr/local/lib/python3.10/dist-packages (from lifelines) (3.8.0)\n",
            "Requirement already satisfied: autograd>=1.5 in /usr/local/lib/python3.10/dist-packages (from lifelines) (1.7.0)\n",
            "Collecting autograd-gamma>=0.3 (from lifelines)\n",
            "  Downloading autograd-gamma-0.5.0.tar.gz (4.0 kB)\n",
            "  Preparing metadata (setup.py) ... \u001b[?25l\u001b[?25hdone\n",
            "Collecting formulaic>=0.2.2 (from lifelines)\n",
            "  Downloading formulaic-1.0.2-py3-none-any.whl.metadata (6.8 kB)\n",
            "Collecting interface-meta>=1.2.0 (from formulaic>=0.2.2->lifelines)\n",
            "  Downloading interface_meta-1.3.0-py3-none-any.whl.metadata (6.7 kB)\n",
            "Requirement already satisfied: typing-extensions>=4.2.0 in /usr/local/lib/python3.10/dist-packages (from formulaic>=0.2.2->lifelines) (4.12.2)\n",
            "Requirement already satisfied: wrapt>=1.0 in /usr/local/lib/python3.10/dist-packages (from formulaic>=0.2.2->lifelines) (1.16.0)\n",
            "Requirement already satisfied: contourpy>=1.0.1 in /usr/local/lib/python3.10/dist-packages (from matplotlib>=3.0->lifelines) (1.3.1)\n",
            "Requirement already satisfied: cycler>=0.10 in /usr/local/lib/python3.10/dist-packages (from matplotlib>=3.0->lifelines) (0.12.1)\n",
            "Requirement already satisfied: fonttools>=4.22.0 in /usr/local/lib/python3.10/dist-packages (from matplotlib>=3.0->lifelines) (4.55.0)\n",
            "Requirement already satisfied: kiwisolver>=1.0.1 in /usr/local/lib/python3.10/dist-packages (from matplotlib>=3.0->lifelines) (1.4.7)\n",
            "Requirement already satisfied: packaging>=20.0 in /usr/local/lib/python3.10/dist-packages (from matplotlib>=3.0->lifelines) (24.2)\n",
            "Requirement already satisfied: pillow>=6.2.0 in /usr/local/lib/python3.10/dist-packages (from matplotlib>=3.0->lifelines) (11.0.0)\n",
            "Requirement already satisfied: pyparsing>=2.3.1 in /usr/local/lib/python3.10/dist-packages (from matplotlib>=3.0->lifelines) (3.2.0)\n",
            "Requirement already satisfied: python-dateutil>=2.7 in /usr/local/lib/python3.10/dist-packages (from matplotlib>=3.0->lifelines) (2.8.2)\n",
            "Requirement already satisfied: pytz>=2020.1 in /usr/local/lib/python3.10/dist-packages (from pandas>=2.1->lifelines) (2024.2)\n",
            "Requirement already satisfied: tzdata>=2022.7 in /usr/local/lib/python3.10/dist-packages (from pandas>=2.1->lifelines) (2024.2)\n",
            "Requirement already satisfied: six>=1.5 in /usr/local/lib/python3.10/dist-packages (from python-dateutil>=2.7->matplotlib>=3.0->lifelines) (1.16.0)\n",
            "Downloading lifelines-0.30.0-py3-none-any.whl (349 kB)\n",
            "\u001b[2K   \u001b[90m━━━━━━━━━━━━━━━━━━━━━━━━━━━━━━━━━━━━━━━━\u001b[0m \u001b[32m349.3/349.3 kB\u001b[0m \u001b[31m9.0 MB/s\u001b[0m eta \u001b[36m0:00:00\u001b[0m\n",
            "\u001b[?25hDownloading formulaic-1.0.2-py3-none-any.whl (94 kB)\n",
            "\u001b[2K   \u001b[90m━━━━━━━━━━━━━━━━━━━━━━━━━━━━━━━━━━━━━━━━\u001b[0m \u001b[32m94.5/94.5 kB\u001b[0m \u001b[31m7.1 MB/s\u001b[0m eta \u001b[36m0:00:00\u001b[0m\n",
            "\u001b[?25hDownloading interface_meta-1.3.0-py3-none-any.whl (14 kB)\n",
            "Building wheels for collected packages: autograd-gamma\n",
            "  Building wheel for autograd-gamma (setup.py) ... \u001b[?25l\u001b[?25hdone\n",
            "  Created wheel for autograd-gamma: filename=autograd_gamma-0.5.0-py3-none-any.whl size=4031 sha256=2ae63a6c565baa434f754d1acf6e90a66bfa284cc488cb74a578e557a6b75b61\n",
            "  Stored in directory: /root/.cache/pip/wheels/25/cc/e0/ef2969164144c899fedb22b338f6703e2b9cf46eeebf254991\n",
            "Successfully built autograd-gamma\n",
            "Installing collected packages: interface-meta, autograd-gamma, formulaic, lifelines\n",
            "Successfully installed autograd-gamma-0.5.0 formulaic-1.0.2 interface-meta-1.3.0 lifelines-0.30.0\n",
            "Collecting sklearn\n",
            "  Downloading sklearn-0.0.post12.tar.gz (2.6 kB)\n",
            "  \u001b[1;31merror\u001b[0m: \u001b[1msubprocess-exited-with-error\u001b[0m\n",
            "  \n",
            "  \u001b[31m×\u001b[0m \u001b[32mpython setup.py egg_info\u001b[0m did not run successfully.\n",
            "  \u001b[31m│\u001b[0m exit code: \u001b[1;36m1\u001b[0m\n",
            "  \u001b[31m╰─>\u001b[0m See above for output.\n",
            "  \n",
            "  \u001b[1;35mnote\u001b[0m: This error originates from a subprocess, and is likely not a problem with pip.\n",
            "  Preparing metadata (setup.py) ... \u001b[?25l\u001b[?25herror\n",
            "\u001b[1;31merror\u001b[0m: \u001b[1mmetadata-generation-failed\u001b[0m\n",
            "\n",
            "\u001b[31m×\u001b[0m Encountered error while generating package metadata.\n",
            "\u001b[31m╰─>\u001b[0m See above for output.\n",
            "\n",
            "\u001b[1;35mnote\u001b[0m: This is an issue with the package mentioned above, not pip.\n",
            "\u001b[1;36mhint\u001b[0m: See above for details.\n",
            "Mounted at /content/drive\n"
          ]
        }
      ]
    },
    {
      "cell_type": "markdown",
      "source": [
        "# Fetch data and define model"
      ],
      "metadata": {
        "id": "xL7OkIwK1Z2C"
      }
    },
    {
      "cell_type": "code",
      "source": [
        "# Load Data\n",
        "train_data_path = '/content/drive/MyDrive/train_data.csv'\n",
        "test_data_path = '/content/drive/MyDrive/test_data.csv'\n",
        "train_data = pd.read_csv(train_data_path)\n",
        "test_data = pd.read_csv(test_data_path)\n",
        "\n",
        "# Preprocessing\n",
        "X_train = train_data.drop(columns=['Label', 'Event'])  # Include all features except target and event\n",
        "y_train = train_data['Label']  # Target column\n",
        "\n",
        "X_test = test_data.drop(columns=['Label', 'Event'])  # Include all features except target and event\n",
        "y_test = test_data['Label']  # Target column\n",
        "\n",
        "# Scale Data\n",
        "scaler = StandardScaler()\n",
        "X_train_scaled = scaler.fit_transform(X_train)\n",
        "X_test_scaled = scaler.transform(X_test)\n",
        "\n",
        "# Define Custom Loss Function: Negative Partial Log Likelihood\n",
        "def cox_ph_loss(event, log_hazard_ratio):\n",
        "    \"\"\"\n",
        "    event: Binary censoring indicator (1 if event occurred, 0 if censored)\n",
        "    log_hazard_ratio: Predicted log hazard ratios\n",
        "    \"\"\"\n",
        "    hazard_ratio = tf.exp(log_hazard_ratio)\n",
        "    log_cumulative_hazard = tf.math.log(tf.cumsum(hazard_ratio, axis=0, reverse=True))\n",
        "    uncensored_likelihood = log_hazard_ratio - log_cumulative_hazard\n",
        "    censored_likelihood = uncensored_likelihood * event\n",
        "    return -tf.reduce_mean(censored_likelihood)\n",
        "\n",
        "# Build the DeepSurv Model with Hyperparameters\n",
        "class DeepSurv(tf.keras.Model):\n",
        "    def __init__(self, input_dim, hidden_layers, learning_rate=1e-3,\n",
        "                 dropout_rate=0.3, l1_reg=0.0, l2_reg=1e-4, batch_norm=False):\n",
        "        \"\"\"\n",
        "        Parameters:\n",
        "        - input_dim: Number of input features\n",
        "        - hidden_layers: List of units in each hidden layer\n",
        "        - learning_rate: Learning rate for training\n",
        "        - dropout_rate: Dropout percentage after each hidden layer\n",
        "        - l1_reg: L1 regularization coefficient\n",
        "        - l2_reg: L2 regularization coefficient\n",
        "        - batch_norm: Boolean, whether to use batch normalization\n",
        "        \"\"\"\n",
        "        super(DeepSurv, self).__init__()\n",
        "        self.hidden_layers = []\n",
        "        for units in hidden_layers:\n",
        "            self.hidden_layers.append(layers.Dense(\n",
        "                units, activation='relu',\n",
        "                kernel_regularizer=l1_l2(l1=l1_reg, l2=l2_reg)\n",
        "            ))\n",
        "            if batch_norm:\n",
        "                self.hidden_layers.append(layers.BatchNormalization())\n",
        "            self.hidden_layers.append(layers.Dropout(dropout_rate))\n",
        "        self.output_layer = layers.Dense(1, activation=None)  # Log hazard ratio\n",
        "        self.optimizer = tf.keras.optimizers.Adam(learning_rate=learning_rate)\n",
        "\n",
        "    def call(self, inputs, training=False):\n",
        "        x = inputs\n",
        "        for layer in self.hidden_layers:\n",
        "            x = layer(x, training=training)\n",
        "        return self.output_layer(x)\n",
        "\n"
      ],
      "metadata": {
        "collapsed": true,
        "id": "F9fpWcf8mhMO"
      },
      "execution_count": 2,
      "outputs": []
    },
    {
      "cell_type": "markdown",
      "source": [
        "# Set hyperparameters and train DeepSurv\n"
      ],
      "metadata": {
        "id": "iy6gu9uk1sAg"
      }
    },
    {
      "cell_type": "code",
      "source": [
        "# Initialize Model with Full Hyperparameter Control\n",
        "# -------------------------------------------------\n",
        "input_dim = X_train_scaled.shape[1]\n",
        "hidden_layers = [128, 64, 32]  # Architecture\n",
        "learning_rate = 1e-3\n",
        "dropout_rate = 0.4\n",
        "l1_reg = 1e-05\n",
        "l2_reg = 0.0001\n",
        "batch_norm = False\n",
        "\n",
        "# Initialize DeepSurv model\n",
        "deep_surv = DeepSurv(input_dim, hidden_layers, learning_rate, dropout_rate, l1_reg, l2_reg, batch_norm)\n",
        "\n",
        "# Compile the model with Cox Proportional Hazards loss\n",
        "deep_surv.compile(optimizer=deep_surv.optimizer, loss=cox_ph_loss)\n",
        "\n",
        "# Train the model on the training data\n",
        "deep_surv.fit(\n",
        "    X_train_scaled,\n",
        "    y_train,\n",
        "    batch_size=32,\n",
        "    epochs=50,\n",
        "    verbose=1\n",
        ")\n"
      ],
      "metadata": {
        "id": "rrRjScfy1oya"
      },
      "execution_count": null,
      "outputs": []
    },
    {
      "cell_type": "markdown",
      "source": [
        "# Calculate risk scores"
      ],
      "metadata": {
        "id": "ZPIUQmaP1wXs"
      }
    },
    {
      "cell_type": "code",
      "source": [
        "\n",
        "# Predict Risk Scores for Training Data\n",
        "# -------------------------------------\n",
        "risk_scores_train = deep_surv.predict(X_train_scaled).flatten()\n",
        "\n",
        "# Step 2: Compute and Simplify the Baseline Hazard Function\n",
        "# ---------------------------------------------------------\n",
        "# Sort data by survival times\n",
        "sorted_indices = np.argsort(y_train)  # Sort indices by survival times\n",
        "sorted_times = y_train.iloc[sorted_indices]\n",
        "sorted_risks = np.exp(risk_scores_train[sorted_indices])  # Align risk scores\n",
        "\n",
        "# Compute cumulative baseline hazard\n",
        "cumulative_baseline_hazard = np.zeros_like(sorted_times, dtype=float)\n",
        "risk_sum = 0\n",
        "for i in range(len(sorted_times)):\n",
        "    risk_sum += sorted_risks[i]\n",
        "    cumulative_baseline_hazard[i] = 1 / risk_sum if risk_sum > 0 else 0\n",
        "    if i > 0:\n",
        "        cumulative_baseline_hazard[i] += cumulative_baseline_hazard[i - 1]\n",
        "\n",
        "# Simplify the baseline hazard to constant or normalized values\n",
        "# gives values between 0 and 1\n",
        "normalized_baseline_hazard = cumulative_baseline_hazard / cumulative_baseline_hazard[-1]\n",
        "# Choose one based on preference\n",
        "selected_baseline_hazard = normalized_baseline_hazard  # Replace with constant_baseline_hazard if desired\n",
        "\n",
        "# Clip baseline hazard to avoid numerical issues and 0\n",
        "selected_baseline_hazard = np.clip(selected_baseline_hazard, 1e-6, None)\n",
        "\n",
        "# Step 3: Predict Risk Scores for Test Data\n",
        "# -----------------------------------------\n",
        "risk_scores_test = deep_surv.predict(X_test_scaled).flatten()\n",
        "\n",
        "# Step 4: Calculate Survival Probabilities for Test Data\n",
        "# ------------------------------------------------------\n",
        "time_points = [1, 10, 20, 30, 40, 50, 60, 70, 80, 90, 100]\n",
        "\n",
        "# Interpolate baseline hazard for specified time points\n",
        "baseline_hazards = np.interp(\n",
        "    time_points,\n",
        "    sorted_times,\n",
        "    selected_baseline_hazard,\n",
        "    left=selected_baseline_hazard[0],\n",
        "    right=selected_baseline_hazard[-1]\n",
        ")\n",
        "\n",
        "# Calculate survival probabilities\n",
        "# Compute survival probabilities for all test patients\n",
        "survival_probabilities = {}\n",
        "for t, baseline_hazard in zip(time_points, selected_baseline_hazard):\n",
        "    # Correctly compute risk factors for each patient\n",
        "    risk_factors = np.exp(risk_scores_test)\n",
        "    risk_factors = np.clip(np.exp(risk_scores_test), 1e-3, 1e3)  # Adjust range to [1e-3, 1e3]\n",
        "\n",
        "    # Temporal decay factor (learnable)\n",
        "    # innovation\n",
        "    temporal_decay = np.exp(0.01 * t)  # Adjust the decay rate (0.1) to control how quickly probabilities decrease\n",
        "\n",
        "    # Adjusted survival probabilities\n",
        "    survival_probabilities[t] = np.exp(-baseline_hazard * risk_factors * temporal_decay)\n",
        "    # Calculate survival probabilities at time t for all patients\n",
        "    survival_probabilities[t] = np.maximum(survival_probabilities[t], 1e-6)  # Prevent 0 probabilities\n",
        "\n",
        "    #survival_probabilities[t] = np.maximum(survival_probabilities[t], 1e-6)  # Prevent probabilities from being 0\n",
        "\n",
        "# ------------------------------------------------\n",
        "# This mimics a simpler model without a baseline hazard\n",
        "time_point = 60  # Use t=60 for predictions\n",
        "simplified_survival_probabilities = np.exp(-np.exp(risk_scores_test) * time_point * temporal_decay)\n",
        "\n",
        "# Step 5: Use t=60 for Predictions\n",
        "# --------------------------------\n",
        "# Choose survival probabilities based on the method (baseline or simplified)\n",
        "t60_probabilities_baseline = survival_probabilities[60]\n",
        "t60_probabilities_simplified = simplified_survival_probabilities\n",
        "\n",
        "# Predict labels based on thresholds\n",
        "optimal_threshold = 0.50  # Adjust threshold as necessary\n",
        "# model with baseline function\n",
        "predicted_labels_t60_baseline = (t60_probabilities_baseline <= optimal_threshold).astype(int)\n",
        "# model without baseline function\n",
        "predicted_labels_t60_simplified = (t60_probabilities_simplified <= 0.000001).astype(int)\n",
        "\n",
        "\n"
      ],
      "metadata": {
        "colab": {
          "base_uri": "https://localhost:8080/"
        },
        "id": "P7nmcJbp28PU",
        "outputId": "12c3860a-62b7-4ce2-e9fe-033e452f91da"
      },
      "execution_count": 14,
      "outputs": [
        {
          "output_type": "stream",
          "name": "stdout",
          "text": [
            "\u001b[1m15/15\u001b[0m \u001b[32m━━━━━━━━━━━━━━━━━━━━\u001b[0m\u001b[37m\u001b[0m \u001b[1m0s\u001b[0m 4ms/step\n",
            "\u001b[1m4/4\u001b[0m \u001b[32m━━━━━━━━━━━━━━━━━━━━\u001b[0m\u001b[37m\u001b[0m \u001b[1m0s\u001b[0m 3ms/step \n",
            "Baseline Model - Accuracy (t=60): 0.97, ROC AUC: 0.01\n",
            "Simplified Model - Accuracy (t=60): 0.93, ROC AUC: 0.01\n",
            "Survival probabilities saved to: /content/drive/MyDrive/survival_predictions.csv\n"
          ]
        }
      ]
    },
    {
      "cell_type": "markdown",
      "source": [
        "# Save predictions in a dataframe"
      ],
      "metadata": {
        "id": "Wbkd3Ilr2J7h"
      }
    },
    {
      "cell_type": "code",
      "source": [
        "\n",
        "# Save Predictions for All Time Points\n",
        "# -------------------------------------\n",
        "results = pd.DataFrame(survival_probabilities)\n",
        "results['Predicted Label (Baseline, t=60)'] = predicted_labels_t60_baseline\n",
        "results['Predicted Label (Simplified, t=60)'] = predicted_labels_t60_simplified\n",
        "results['True Label'] = y_test\n",
        "results_path = '/content/drive/MyDrive/survival_predictions.csv'\n",
        "results.to_csv(results_path, index=False)"
      ],
      "metadata": {
        "id": "Lxx5T3_82JRM"
      },
      "execution_count": null,
      "outputs": []
    },
    {
      "cell_type": "markdown",
      "source": [
        "# Evaluate model"
      ],
      "metadata": {
        "id": "xT3BiWHV2SD8"
      }
    },
    {
      "cell_type": "code",
      "source": [
        "# Evaluate Model for t=60\n",
        "# ------------------------\n",
        "accuracy_baseline = accuracy_score(y_test, predicted_labels_t60_baseline)\n",
        "roc_auc_baseline = roc_auc_score(y_test, t60_probabilities_baseline)\n",
        "\n",
        "accuracy_simplified = accuracy_score(y_test, predicted_labels_t60_simplified)\n",
        "roc_auc_simplified = roc_auc_score(y_test, t60_probabilities_simplified)\n",
        "\n",
        "print(f\"Baseline Model - Accuracy (t=60): {accuracy_baseline:.2f}, ROC AUC: {roc_auc_baseline:.2f}\")\n",
        "print(f\"Simplified Model - Accuracy (t=60): {accuracy_simplified:.2f}, ROC AUC: {roc_auc_simplified:.2f}\")\n",
        "print(f\"Survival probabilities saved to: {results_path}\")\n",
        "\n",
        "\n",
        "# C-Index for Training Data\n",
        "from lifelines.utils import concordance_index\n",
        "\n",
        "# C-Index for Training Data\n",
        "c_index_train = concordance_index(X_train[\"DssTime\"], -risk_scores_train, event_observed=np.ones_like(y_train))\n",
        "print(f\"C-Index (Training): {c_index_train:.2f}\")\n",
        "\n",
        "# C-Index for Test Data\n",
        "c_index_test = concordance_index(X_test[\"DssTime\"], -risk_scores_test, event_observed=np.ones_like(y_test))\n",
        "print(f\"C-Index (Test): {c_index_test:.2f}\")\n"
      ],
      "metadata": {
        "colab": {
          "base_uri": "https://localhost:8080/"
        },
        "id": "2psVkXrj3wKo",
        "outputId": "39636a91-da34-44ae-b224-1d1092d4d990"
      },
      "execution_count": 15,
      "outputs": [
        {
          "output_type": "stream",
          "name": "stdout",
          "text": [
            "Baseline Model - Accuracy (t=60): 0.97, ROC AUC: 0.01\n",
            "Simplified Model - Accuracy (t=60): 0.93, ROC AUC: 0.01\n",
            "Survival probabilities saved to: /content/drive/MyDrive/survival_predictions.csv\n",
            "C-Index (Training): 0.89\n",
            "C-Index (Test): 0.90\n"
          ]
        }
      ]
    },
    {
      "cell_type": "code",
      "source": [
        "# Extract survival probabilities for the 5th patient\n",
        "import matplotlib.pyplot as plt\n",
        "first_patient_probabilities = [survival_probabilities[t][5] for t in time_points]\n",
        "\n",
        "# Plot the survival curve for the first patient\n",
        "plt.figure(figsize=(10, 6))\n",
        "plt.plot(time_points, first_patient_probabilities, marker='o', label=\"Survival Probability\")\n",
        "plt.title(\"Survival Curve for First Patient in Test Dataset\")\n",
        "plt.xlabel(\"Time (e.g., days, months)\")\n",
        "plt.ylabel(\"Survival Probability\")\n",
        "plt.ylim(0, 1.05)  # Ensure the y-axis is between 0 and 1\n",
        "plt.grid(True)\n",
        "plt.legend()\n",
        "plt.show()"
      ],
      "metadata": {
        "colab": {
          "base_uri": "https://localhost:8080/",
          "height": 564
        },
        "id": "LL6eAHVk4CkU",
        "outputId": "a691b78e-4976-482b-b57e-02a79d6bef54"
      },
      "execution_count": 11,
      "outputs": [
        {
          "output_type": "display_data",
          "data": {
            "text/plain": [
              "<Figure size 1000x600 with 1 Axes>"
            ],
            "image/png": "[encoded data removed]"
          },
          "metadata": {}
        }
      ]
    },
    {
      "cell_type": "code",
      "source": [
        "for i in time_points:\n",
        "  print(i)\n",
        "  print(survival_probabilities[i][5])"
      ],
      "metadata": {
        "colab": {
          "base_uri": "https://localhost:8080/"
        },
        "id": "OSzU5yFb4HvC",
        "outputId": "f9e212c1-f3a1-4411-de36-d07615422aa8"
      },
      "execution_count": 12,
      "outputs": [
        {
          "output_type": "stream",
          "name": "stdout",
          "text": [
            "1\n",
            "0.3529066\n",
            "10\n",
            "0.29831415\n",
            "20\n",
            "0.26267868\n",
            "30\n",
            "0.22822599\n",
            "40\n",
            "0.19538164\n",
            "50\n",
            "0.16455285\n",
            "60\n",
            "0.13610795\n",
            "70\n",
            "0.1103553\n",
            "80\n",
            "0.087523125\n",
            "90\n",
            "0.06774308\n",
            "100\n",
            "0.051039442\n"
          ]
        }
      ]
    }
  ]
}